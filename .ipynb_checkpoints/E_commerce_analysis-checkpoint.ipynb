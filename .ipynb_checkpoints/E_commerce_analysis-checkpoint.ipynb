{
 "cells": [
  {
   "cell_type": "markdown",
   "id": "eca589c7",
   "metadata": {},
   "source": [
    "## Import necessary libraries"
   ]
  },
  {
   "cell_type": "code",
   "execution_count": 2,
   "id": "b45a5cdf",
   "metadata": {},
   "outputs": [],
   "source": [
    "import pandas as pd\n",
    "import numpy as np\n",
    "import matplotlib.pyplot as plt"
   ]
  },
  {
   "cell_type": "markdown",
   "id": "ada6b744",
   "metadata": {},
   "source": [
    "Import ecommerce 'data.csv' file and a bit of information about the dataset"
   ]
  },
  {
   "cell_type": "code",
   "execution_count": 3,
   "id": "71cbd0c9",
   "metadata": {},
   "outputs": [
    {
     "data": {
      "text/html": [
       "<div>\n",
       "<style scoped>\n",
       "    .dataframe tbody tr th:only-of-type {\n",
       "        vertical-align: middle;\n",
       "    }\n",
       "\n",
       "    .dataframe tbody tr th {\n",
       "        vertical-align: top;\n",
       "    }\n",
       "\n",
       "    .dataframe thead th {\n",
       "        text-align: right;\n",
       "    }\n",
       "</style>\n",
       "<table border=\"1\" class=\"dataframe\">\n",
       "  <thead>\n",
       "    <tr style=\"text-align: right;\">\n",
       "      <th></th>\n",
       "      <th>InvoiceNo</th>\n",
       "      <th>StockCode</th>\n",
       "      <th>Description</th>\n",
       "      <th>Quantity</th>\n",
       "      <th>InvoiceDate</th>\n",
       "      <th>UnitPrice</th>\n",
       "      <th>CustomerID</th>\n",
       "      <th>Country</th>\n",
       "    </tr>\n",
       "  </thead>\n",
       "  <tbody>\n",
       "    <tr>\n",
       "      <th>28644</th>\n",
       "      <td>538652</td>\n",
       "      <td>72802B</td>\n",
       "      <td>OCEAN SCENT CANDLE IN JEWELLED BOX</td>\n",
       "      <td>1</td>\n",
       "      <td>12/13/2010 15:12</td>\n",
       "      <td>4.25</td>\n",
       "      <td>17890</td>\n",
       "      <td>United Kingdom</td>\n",
       "    </tr>\n",
       "    <tr>\n",
       "      <th>478275</th>\n",
       "      <td>577078</td>\n",
       "      <td>22024</td>\n",
       "      <td>RAINY LADIES BIRTHDAY CARD</td>\n",
       "      <td>1</td>\n",
       "      <td>11/17/2011 15:17</td>\n",
       "      <td>0.83</td>\n",
       "      <td>NaN</td>\n",
       "      <td>United Kingdom</td>\n",
       "    </tr>\n",
       "    <tr>\n",
       "      <th>243899</th>\n",
       "      <td>558475</td>\n",
       "      <td>22251</td>\n",
       "      <td>BIRDHOUSE DECORATION MAGIC GARDEN</td>\n",
       "      <td>30</td>\n",
       "      <td>6/29/2011 15:58</td>\n",
       "      <td>0.83</td>\n",
       "      <td>NaN</td>\n",
       "      <td>United Kingdom</td>\n",
       "    </tr>\n",
       "    <tr>\n",
       "      <th>187545</th>\n",
       "      <td>552978</td>\n",
       "      <td>22900</td>\n",
       "      <td>SET 2 TEA TOWELS I LOVE LONDON</td>\n",
       "      <td>24</td>\n",
       "      <td>5/12/2011 14:46</td>\n",
       "      <td>2.95</td>\n",
       "      <td>12590</td>\n",
       "      <td>Germany</td>\n",
       "    </tr>\n",
       "    <tr>\n",
       "      <th>65537</th>\n",
       "      <td>541696</td>\n",
       "      <td>21221</td>\n",
       "      <td>SET/4 BADGES CUTE CREATURES</td>\n",
       "      <td>1</td>\n",
       "      <td>1/20/2011 18:08</td>\n",
       "      <td>0.83</td>\n",
       "      <td>NaN</td>\n",
       "      <td>United Kingdom</td>\n",
       "    </tr>\n",
       "  </tbody>\n",
       "</table>\n",
       "</div>"
      ],
      "text/plain": [
       "       InvoiceNo StockCode                         Description  Quantity  \\\n",
       "28644     538652    72802B  OCEAN SCENT CANDLE IN JEWELLED BOX         1   \n",
       "478275    577078     22024          RAINY LADIES BIRTHDAY CARD         1   \n",
       "243899    558475     22251   BIRDHOUSE DECORATION MAGIC GARDEN        30   \n",
       "187545    552978     22900     SET 2 TEA TOWELS I LOVE LONDON         24   \n",
       "65537     541696     21221         SET/4 BADGES CUTE CREATURES         1   \n",
       "\n",
       "             InvoiceDate  UnitPrice CustomerID         Country  \n",
       "28644   12/13/2010 15:12       4.25      17890  United Kingdom  \n",
       "478275  11/17/2011 15:17       0.83        NaN  United Kingdom  \n",
       "243899   6/29/2011 15:58       0.83        NaN  United Kingdom  \n",
       "187545   5/12/2011 14:46       2.95      12590         Germany  \n",
       "65537    1/20/2011 18:08       0.83        NaN  United Kingdom  "
      ]
     },
     "execution_count": 3,
     "metadata": {},
     "output_type": "execute_result"
    }
   ],
   "source": [
    "ecom=pd.read_csv('data.csv',encoding=\"ISO-8859-1\",\n",
    "                 dtype={'CustomerID': str,'InvoiceID': str})\n",
    "ecom.sample(5)"
   ]
  },
  {
   "cell_type": "code",
   "execution_count": 4,
   "id": "c5a1bd08",
   "metadata": {},
   "outputs": [
    {
     "data": {
      "text/plain": [
       "(541909, 8)"
      ]
     },
     "execution_count": 4,
     "metadata": {},
     "output_type": "execute_result"
    }
   ],
   "source": [
    "ecom.shape"
   ]
  },
  {
   "cell_type": "code",
   "execution_count": 5,
   "id": "07e19eb2",
   "metadata": {},
   "outputs": [
    {
     "data": {
      "text/html": [
       "<div>\n",
       "<style scoped>\n",
       "    .dataframe tbody tr th:only-of-type {\n",
       "        vertical-align: middle;\n",
       "    }\n",
       "\n",
       "    .dataframe tbody tr th {\n",
       "        vertical-align: top;\n",
       "    }\n",
       "\n",
       "    .dataframe thead th {\n",
       "        text-align: right;\n",
       "    }\n",
       "</style>\n",
       "<table border=\"1\" class=\"dataframe\">\n",
       "  <thead>\n",
       "    <tr style=\"text-align: right;\">\n",
       "      <th></th>\n",
       "      <th>Quantity</th>\n",
       "      <th>UnitPrice</th>\n",
       "    </tr>\n",
       "  </thead>\n",
       "  <tbody>\n",
       "    <tr>\n",
       "      <th>count</th>\n",
       "      <td>541909.000000</td>\n",
       "      <td>541909.000000</td>\n",
       "    </tr>\n",
       "    <tr>\n",
       "      <th>mean</th>\n",
       "      <td>9.552250</td>\n",
       "      <td>4.611114</td>\n",
       "    </tr>\n",
       "    <tr>\n",
       "      <th>std</th>\n",
       "      <td>218.081158</td>\n",
       "      <td>96.759853</td>\n",
       "    </tr>\n",
       "    <tr>\n",
       "      <th>min</th>\n",
       "      <td>-80995.000000</td>\n",
       "      <td>-11062.060000</td>\n",
       "    </tr>\n",
       "    <tr>\n",
       "      <th>25%</th>\n",
       "      <td>1.000000</td>\n",
       "      <td>1.250000</td>\n",
       "    </tr>\n",
       "    <tr>\n",
       "      <th>50%</th>\n",
       "      <td>3.000000</td>\n",
       "      <td>2.080000</td>\n",
       "    </tr>\n",
       "    <tr>\n",
       "      <th>75%</th>\n",
       "      <td>10.000000</td>\n",
       "      <td>4.130000</td>\n",
       "    </tr>\n",
       "    <tr>\n",
       "      <th>max</th>\n",
       "      <td>80995.000000</td>\n",
       "      <td>38970.000000</td>\n",
       "    </tr>\n",
       "  </tbody>\n",
       "</table>\n",
       "</div>"
      ],
      "text/plain": [
       "            Quantity      UnitPrice\n",
       "count  541909.000000  541909.000000\n",
       "mean        9.552250       4.611114\n",
       "std       218.081158      96.759853\n",
       "min    -80995.000000  -11062.060000\n",
       "25%         1.000000       1.250000\n",
       "50%         3.000000       2.080000\n",
       "75%        10.000000       4.130000\n",
       "max     80995.000000   38970.000000"
      ]
     },
     "execution_count": 5,
     "metadata": {},
     "output_type": "execute_result"
    }
   ],
   "source": [
    "ecom.describe()"
   ]
  },
  {
   "cell_type": "code",
   "execution_count": 6,
   "id": "c50bab92",
   "metadata": {},
   "outputs": [
    {
     "name": "stdout",
     "output_type": "stream",
     "text": [
      "<class 'pandas.core.frame.DataFrame'>\n",
      "RangeIndex: 541909 entries, 0 to 541908\n",
      "Data columns (total 8 columns):\n",
      " #   Column       Non-Null Count   Dtype  \n",
      "---  ------       --------------   -----  \n",
      " 0   InvoiceNo    541909 non-null  object \n",
      " 1   StockCode    541909 non-null  object \n",
      " 2   Description  540455 non-null  object \n",
      " 3   Quantity     541909 non-null  int64  \n",
      " 4   InvoiceDate  541909 non-null  object \n",
      " 5   UnitPrice    541909 non-null  float64\n",
      " 6   CustomerID   406829 non-null  object \n",
      " 7   Country      541909 non-null  object \n",
      "dtypes: float64(1), int64(1), object(6)\n",
      "memory usage: 33.1+ MB\n"
     ]
    }
   ],
   "source": [
    "ecom.info()"
   ]
  },
  {
   "cell_type": "markdown",
   "id": "ffd10663",
   "metadata": {},
   "source": [
    "## Inspect and Handle Missing values, duplicates, and outliers"
   ]
  },
  {
   "cell_type": "code",
   "execution_count": 7,
   "id": "02d16baf",
   "metadata": {},
   "outputs": [
    {
     "data": {
      "text/plain": [
       "InvoiceNo           0\n",
       "StockCode           0\n",
       "Description      1454\n",
       "Quantity            0\n",
       "InvoiceDate         0\n",
       "UnitPrice           0\n",
       "CustomerID     135080\n",
       "Country             0\n",
       "dtype: int64"
      ]
     },
     "execution_count": 7,
     "metadata": {},
     "output_type": "execute_result"
    }
   ],
   "source": [
    "ecom.isnull().sum()"
   ]
  },
  {
   "cell_type": "markdown",
   "id": "c2c5bca5",
   "metadata": {},
   "source": [
    "Here, we see that CustomerID and Description have null values. Description is not as important for now, so we leave it be.\n",
    "\n",
    "CustomerID is the key value to identify the customers, so we delete all the CustomerIds whose value is null."
   ]
  },
  {
   "cell_type": "code",
   "execution_count": 8,
   "id": "d2685d2b",
   "metadata": {},
   "outputs": [
    {
     "data": {
      "text/plain": [
       "(406829, 8)"
      ]
     },
     "execution_count": 8,
     "metadata": {},
     "output_type": "execute_result"
    }
   ],
   "source": [
    "ecom.dropna(subset=['CustomerID'],axis=0,inplace=True)\n",
    "ecom.shape"
   ]
  },
  {
   "cell_type": "code",
   "execution_count": 9,
   "id": "fd7b2cb8",
   "metadata": {},
   "outputs": [
    {
     "data": {
      "text/plain": [
       "(401604, 8)"
      ]
     },
     "execution_count": 9,
     "metadata": {},
     "output_type": "execute_result"
    }
   ],
   "source": [
    "ecom.drop_duplicates(inplace=True)\n",
    "ecom.shape"
   ]
  },
  {
   "cell_type": "markdown",
   "id": "b4511b89",
   "metadata": {},
   "source": [
    "## Number of customers per Country"
   ]
  },
  {
   "cell_type": "code",
   "execution_count": 10,
   "id": "a2ba8e3b",
   "metadata": {},
   "outputs": [
    {
     "name": "stdout",
     "output_type": "stream",
     "text": [
      "Saudi Arabia                10\n",
      "Bahrain                     17\n",
      "Czech Republic              30\n",
      "Brazil                      32\n",
      "Lithuania                   35\n",
      "Lebanon                     45\n",
      "RSA                         58\n",
      "European Community          61\n",
      "United Arab Emirates        68\n",
      "Malta                      127\n",
      "Greece                     146\n",
      "Canada                     151\n",
      "Iceland                    182\n",
      "Singapore                  229\n",
      "Unspecified                241\n",
      "Israel                     247\n",
      "USA                        291\n",
      "Poland                     341\n",
      "Japan                      358\n",
      "Denmark                    389\n",
      "Austria                    401\n",
      "Sweden                     461\n",
      "Cyprus                     611\n",
      "Finland                    695\n",
      "Channel Islands            757\n",
      "Italy                      803\n",
      "Norway                    1086\n",
      "Australia                 1258\n",
      "Portugal                  1471\n",
      "Switzerland               1877\n",
      "Belgium                   2069\n",
      "Netherlands               2371\n",
      "Spain                     2528\n",
      "EIRE                      7475\n",
      "France                    8475\n",
      "Germany                   9480\n",
      "United Kingdom          356728\n",
      "Name: Country, dtype: int64\n"
     ]
    }
   ],
   "source": [
    "country_counts = ecom['Country'].value_counts()\n",
    "print(country_counts.sort_values(ascending=True))"
   ]
  },
  {
   "cell_type": "markdown",
   "id": "88d9e0ff",
   "metadata": {},
   "source": [
    "## Total no. of products"
   ]
  },
  {
   "cell_type": "code",
   "execution_count": 11,
   "id": "69adbed8",
   "metadata": {},
   "outputs": [
    {
     "data": {
      "text/plain": [
       "3684"
      ]
     },
     "execution_count": 11,
     "metadata": {},
     "output_type": "execute_result"
    }
   ],
   "source": [
    "ecom['StockCode'].nunique()"
   ]
  },
  {
   "cell_type": "markdown",
   "id": "8640bd76",
   "metadata": {},
   "source": [
    "## Which was the most sold Product?"
   ]
  },
  {
   "cell_type": "code",
   "execution_count": 12,
   "id": "32951f82",
   "metadata": {},
   "outputs": [
    {
     "data": {
      "text/plain": [
       "85123A    2065\n",
       "22423     1894\n",
       "85099B    1659\n",
       "47566     1409\n",
       "84879     1405\n",
       "          ... \n",
       "90104        1\n",
       "90135        1\n",
       "90027D       1\n",
       "90027A       1\n",
       "84746        1\n",
       "Name: StockCode, Length: 3684, dtype: int64"
      ]
     },
     "execution_count": 12,
     "metadata": {},
     "output_type": "execute_result"
    }
   ],
   "source": [
    "value_counts = ecom['StockCode'].value_counts()\n",
    "value_counts"
   ]
  },
  {
   "cell_type": "code",
   "execution_count": 13,
   "id": "ee844e7c",
   "metadata": {
    "scrolled": true
   },
   "outputs": [
    {
     "name": "stdout",
     "output_type": "stream",
     "text": [
      "The most sold product 85123A was sold 2065 times\n"
     ]
    }
   ],
   "source": [
    "mode_values = ecom['StockCode'].mode()\n",
    "for mode in mode_values:\n",
    "    frequency = value_counts[mode]\n",
    "    print(f\"The most sold product {mode} was sold {frequency} times\")"
   ]
  },
  {
   "cell_type": "code",
   "execution_count": 14,
   "id": "45237c34",
   "metadata": {
    "scrolled": true
   },
   "outputs": [
    {
     "data": {
      "text/plain": [
       "0    85123A\n",
       "Name: StockCode, dtype: object"
      ]
     },
     "execution_count": 14,
     "metadata": {},
     "output_type": "execute_result"
    }
   ],
   "source": [
    "ecom['StockCode'].mode()"
   ]
  },
  {
   "cell_type": "markdown",
   "id": "f87ea918",
   "metadata": {},
   "source": [
    "## Which was the least sold product?"
   ]
  },
  {
   "cell_type": "code",
   "execution_count": 15,
   "id": "348153e5",
   "metadata": {},
   "outputs": [
    {
     "name": "stdout",
     "output_type": "stream",
     "text": [
      "The least sold product 90125E was sold 1 times\n"
     ]
    }
   ],
   "source": [
    "least_val = value_counts.idxmin()\n",
    "least_val_count = value_counts.min()\n",
    "print(f\"The least sold product {least_val} was sold {least_val_count} times\")"
   ]
  },
  {
   "cell_type": "code",
   "execution_count": 16,
   "id": "fa9daf6b",
   "metadata": {},
   "outputs": [
    {
     "data": {
      "text/plain": [
       "'90125E'"
      ]
     },
     "execution_count": 16,
     "metadata": {},
     "output_type": "execute_result"
    }
   ],
   "source": [
    "value_counts.idxmin()"
   ]
  },
  {
   "cell_type": "markdown",
   "id": "75336aea",
   "metadata": {},
   "source": [
    "## No. of Customers"
   ]
  },
  {
   "cell_type": "code",
   "execution_count": 17,
   "id": "a961e511",
   "metadata": {},
   "outputs": [
    {
     "data": {
      "text/plain": [
       "4372"
      ]
     },
     "execution_count": 17,
     "metadata": {},
     "output_type": "execute_result"
    }
   ],
   "source": [
    "ecom['CustomerID'].nunique()"
   ]
  },
  {
   "cell_type": "markdown",
   "id": "69876cce",
   "metadata": {},
   "source": [
    "## How many succesful transactions were there and how many transactions was cancelled?"
   ]
  },
  {
   "cell_type": "code",
   "execution_count": 18,
   "id": "0531316b",
   "metadata": {},
   "outputs": [
    {
     "data": {
      "text/html": [
       "<div>\n",
       "<style scoped>\n",
       "    .dataframe tbody tr th:only-of-type {\n",
       "        vertical-align: middle;\n",
       "    }\n",
       "\n",
       "    .dataframe tbody tr th {\n",
       "        vertical-align: top;\n",
       "    }\n",
       "\n",
       "    .dataframe thead th {\n",
       "        text-align: right;\n",
       "    }\n",
       "</style>\n",
       "<table border=\"1\" class=\"dataframe\">\n",
       "  <thead>\n",
       "    <tr style=\"text-align: right;\">\n",
       "      <th></th>\n",
       "      <th>InvoiceNo</th>\n",
       "      <th>StockCode</th>\n",
       "      <th>Description</th>\n",
       "      <th>Quantity</th>\n",
       "      <th>InvoiceDate</th>\n",
       "      <th>UnitPrice</th>\n",
       "      <th>CustomerID</th>\n",
       "      <th>Country</th>\n",
       "    </tr>\n",
       "  </thead>\n",
       "  <tbody>\n",
       "    <tr>\n",
       "      <th>141</th>\n",
       "      <td>C536379</td>\n",
       "      <td>D</td>\n",
       "      <td>Discount</td>\n",
       "      <td>-1</td>\n",
       "      <td>12/1/2010 9:41</td>\n",
       "      <td>27.50</td>\n",
       "      <td>14527</td>\n",
       "      <td>United Kingdom</td>\n",
       "    </tr>\n",
       "    <tr>\n",
       "      <th>154</th>\n",
       "      <td>C536383</td>\n",
       "      <td>35004C</td>\n",
       "      <td>SET OF 3 COLOURED  FLYING DUCKS</td>\n",
       "      <td>-1</td>\n",
       "      <td>12/1/2010 9:49</td>\n",
       "      <td>4.65</td>\n",
       "      <td>15311</td>\n",
       "      <td>United Kingdom</td>\n",
       "    </tr>\n",
       "    <tr>\n",
       "      <th>235</th>\n",
       "      <td>C536391</td>\n",
       "      <td>22556</td>\n",
       "      <td>PLASTERS IN TIN CIRCUS PARADE</td>\n",
       "      <td>-12</td>\n",
       "      <td>12/1/2010 10:24</td>\n",
       "      <td>1.65</td>\n",
       "      <td>17548</td>\n",
       "      <td>United Kingdom</td>\n",
       "    </tr>\n",
       "    <tr>\n",
       "      <th>236</th>\n",
       "      <td>C536391</td>\n",
       "      <td>21984</td>\n",
       "      <td>PACK OF 12 PINK PAISLEY TISSUES</td>\n",
       "      <td>-24</td>\n",
       "      <td>12/1/2010 10:24</td>\n",
       "      <td>0.29</td>\n",
       "      <td>17548</td>\n",
       "      <td>United Kingdom</td>\n",
       "    </tr>\n",
       "    <tr>\n",
       "      <th>237</th>\n",
       "      <td>C536391</td>\n",
       "      <td>21983</td>\n",
       "      <td>PACK OF 12 BLUE PAISLEY TISSUES</td>\n",
       "      <td>-24</td>\n",
       "      <td>12/1/2010 10:24</td>\n",
       "      <td>0.29</td>\n",
       "      <td>17548</td>\n",
       "      <td>United Kingdom</td>\n",
       "    </tr>\n",
       "    <tr>\n",
       "      <th>...</th>\n",
       "      <td>...</td>\n",
       "      <td>...</td>\n",
       "      <td>...</td>\n",
       "      <td>...</td>\n",
       "      <td>...</td>\n",
       "      <td>...</td>\n",
       "      <td>...</td>\n",
       "      <td>...</td>\n",
       "    </tr>\n",
       "    <tr>\n",
       "      <th>540449</th>\n",
       "      <td>C581490</td>\n",
       "      <td>23144</td>\n",
       "      <td>ZINC T-LIGHT HOLDER STARS SMALL</td>\n",
       "      <td>-11</td>\n",
       "      <td>12/9/2011 9:57</td>\n",
       "      <td>0.83</td>\n",
       "      <td>14397</td>\n",
       "      <td>United Kingdom</td>\n",
       "    </tr>\n",
       "    <tr>\n",
       "      <th>541541</th>\n",
       "      <td>C581499</td>\n",
       "      <td>M</td>\n",
       "      <td>Manual</td>\n",
       "      <td>-1</td>\n",
       "      <td>12/9/2011 10:28</td>\n",
       "      <td>224.69</td>\n",
       "      <td>15498</td>\n",
       "      <td>United Kingdom</td>\n",
       "    </tr>\n",
       "    <tr>\n",
       "      <th>541715</th>\n",
       "      <td>C581568</td>\n",
       "      <td>21258</td>\n",
       "      <td>VICTORIAN SEWING BOX LARGE</td>\n",
       "      <td>-5</td>\n",
       "      <td>12/9/2011 11:57</td>\n",
       "      <td>10.95</td>\n",
       "      <td>15311</td>\n",
       "      <td>United Kingdom</td>\n",
       "    </tr>\n",
       "    <tr>\n",
       "      <th>541716</th>\n",
       "      <td>C581569</td>\n",
       "      <td>84978</td>\n",
       "      <td>HANGING HEART JAR T-LIGHT HOLDER</td>\n",
       "      <td>-1</td>\n",
       "      <td>12/9/2011 11:58</td>\n",
       "      <td>1.25</td>\n",
       "      <td>17315</td>\n",
       "      <td>United Kingdom</td>\n",
       "    </tr>\n",
       "    <tr>\n",
       "      <th>541717</th>\n",
       "      <td>C581569</td>\n",
       "      <td>20979</td>\n",
       "      <td>36 PENCILS TUBE RED RETROSPOT</td>\n",
       "      <td>-5</td>\n",
       "      <td>12/9/2011 11:58</td>\n",
       "      <td>1.25</td>\n",
       "      <td>17315</td>\n",
       "      <td>United Kingdom</td>\n",
       "    </tr>\n",
       "  </tbody>\n",
       "</table>\n",
       "<p>8872 rows × 8 columns</p>\n",
       "</div>"
      ],
      "text/plain": [
       "       InvoiceNo StockCode                       Description  Quantity  \\\n",
       "141      C536379         D                          Discount        -1   \n",
       "154      C536383    35004C   SET OF 3 COLOURED  FLYING DUCKS        -1   \n",
       "235      C536391     22556    PLASTERS IN TIN CIRCUS PARADE        -12   \n",
       "236      C536391     21984  PACK OF 12 PINK PAISLEY TISSUES        -24   \n",
       "237      C536391     21983  PACK OF 12 BLUE PAISLEY TISSUES        -24   \n",
       "...          ...       ...                               ...       ...   \n",
       "540449   C581490     23144   ZINC T-LIGHT HOLDER STARS SMALL       -11   \n",
       "541541   C581499         M                            Manual        -1   \n",
       "541715   C581568     21258        VICTORIAN SEWING BOX LARGE        -5   \n",
       "541716   C581569     84978  HANGING HEART JAR T-LIGHT HOLDER        -1   \n",
       "541717   C581569     20979     36 PENCILS TUBE RED RETROSPOT        -5   \n",
       "\n",
       "            InvoiceDate  UnitPrice CustomerID         Country  \n",
       "141      12/1/2010 9:41      27.50      14527  United Kingdom  \n",
       "154      12/1/2010 9:49       4.65      15311  United Kingdom  \n",
       "235     12/1/2010 10:24       1.65      17548  United Kingdom  \n",
       "236     12/1/2010 10:24       0.29      17548  United Kingdom  \n",
       "237     12/1/2010 10:24       0.29      17548  United Kingdom  \n",
       "...                 ...        ...        ...             ...  \n",
       "540449   12/9/2011 9:57       0.83      14397  United Kingdom  \n",
       "541541  12/9/2011 10:28     224.69      15498  United Kingdom  \n",
       "541715  12/9/2011 11:57      10.95      15311  United Kingdom  \n",
       "541716  12/9/2011 11:58       1.25      17315  United Kingdom  \n",
       "541717  12/9/2011 11:58       1.25      17315  United Kingdom  \n",
       "\n",
       "[8872 rows x 8 columns]"
      ]
     },
     "execution_count": 18,
     "metadata": {},
     "output_type": "execute_result"
    }
   ],
   "source": [
    "sample = ecom[ecom['InvoiceNo'].astype(str).str.len() != 6].copy()\n",
    "sample"
   ]
  },
  {
   "cell_type": "markdown",
   "id": "a0845fea",
   "metadata": {},
   "source": [
    "Here, the InvoiceNo. starting from C are all cancelled transaction. Hence, we can differentiate the succesful and cancelled transactions by follows:"
   ]
  },
  {
   "cell_type": "code",
   "execution_count": 19,
   "id": "2cb3ad6b",
   "metadata": {},
   "outputs": [
    {
     "name": "stdout",
     "output_type": "stream",
     "text": [
      "No. of succesful transactions : 392732\n",
      "No. of cancelled transactions : 8872\n"
     ]
    }
   ],
   "source": [
    "s_tr = 0\n",
    "c_tr = 0\n",
    "for i in ecom['InvoiceNo']:\n",
    "    if len(i) == 6:\n",
    "        s_tr += 1\n",
    "    elif i[0] == 'C' :\n",
    "        c_tr += 1\n",
    "print(f\"No. of succesful transactions : {s_tr}\")\n",
    "print(f\"No. of cancelled transactions : {c_tr}\")"
   ]
  },
  {
   "cell_type": "markdown",
   "id": "beac5953",
   "metadata": {},
   "source": [
    "## Which day had the maximum number of transactions?"
   ]
  },
  {
   "cell_type": "code",
   "execution_count": 22,
   "id": "dd9f6d21",
   "metadata": {},
   "outputs": [
    {
     "data": {
      "text/html": [
       "<div>\n",
       "<style scoped>\n",
       "    .dataframe tbody tr th:only-of-type {\n",
       "        vertical-align: middle;\n",
       "    }\n",
       "\n",
       "    .dataframe tbody tr th {\n",
       "        vertical-align: top;\n",
       "    }\n",
       "\n",
       "    .dataframe thead th {\n",
       "        text-align: right;\n",
       "    }\n",
       "</style>\n",
       "<table border=\"1\" class=\"dataframe\">\n",
       "  <thead>\n",
       "    <tr style=\"text-align: right;\">\n",
       "      <th></th>\n",
       "      <th>InvoiceNo</th>\n",
       "      <th>StockCode</th>\n",
       "      <th>Description</th>\n",
       "      <th>Quantity</th>\n",
       "      <th>InvoiceDate</th>\n",
       "      <th>UnitPrice</th>\n",
       "      <th>CustomerID</th>\n",
       "      <th>Country</th>\n",
       "    </tr>\n",
       "  </thead>\n",
       "  <tbody>\n",
       "    <tr>\n",
       "      <th>285787</th>\n",
       "      <td>561923</td>\n",
       "      <td>22456</td>\n",
       "      <td>NATURAL SLATE CHALKBOARD LARGE</td>\n",
       "      <td>3</td>\n",
       "      <td>8/1/2011 12:16</td>\n",
       "      <td>4.95</td>\n",
       "      <td>14112</td>\n",
       "      <td>United Kingdom</td>\n",
       "    </tr>\n",
       "    <tr>\n",
       "      <th>389311</th>\n",
       "      <td>570466</td>\n",
       "      <td>23372</td>\n",
       "      <td>SET 36 COLOUR PENCILS DOLLY GIRL</td>\n",
       "      <td>3</td>\n",
       "      <td>10/10/2011 16:03</td>\n",
       "      <td>1.25</td>\n",
       "      <td>16791</td>\n",
       "      <td>United Kingdom</td>\n",
       "    </tr>\n",
       "    <tr>\n",
       "      <th>425518</th>\n",
       "      <td>573328</td>\n",
       "      <td>71477</td>\n",
       "      <td>COLOUR GLASS. STAR T-LIGHT HOLDER</td>\n",
       "      <td>2</td>\n",
       "      <td>10/30/2011 11:09</td>\n",
       "      <td>3.95</td>\n",
       "      <td>16601</td>\n",
       "      <td>United Kingdom</td>\n",
       "    </tr>\n",
       "    <tr>\n",
       "      <th>185663</th>\n",
       "      <td>552823</td>\n",
       "      <td>85132B</td>\n",
       "      <td>CHARLIE AND LOLA TABLE TINS</td>\n",
       "      <td>2</td>\n",
       "      <td>5/11/2011 13:06</td>\n",
       "      <td>1.95</td>\n",
       "      <td>14731</td>\n",
       "      <td>United Kingdom</td>\n",
       "    </tr>\n",
       "    <tr>\n",
       "      <th>197336</th>\n",
       "      <td>553897</td>\n",
       "      <td>46000U</td>\n",
       "      <td>POLYESTER FILLER PAD 30CMx30CM</td>\n",
       "      <td>2</td>\n",
       "      <td>5/19/2011 17:23</td>\n",
       "      <td>1.25</td>\n",
       "      <td>14911</td>\n",
       "      <td>EIRE</td>\n",
       "    </tr>\n",
       "  </tbody>\n",
       "</table>\n",
       "</div>"
      ],
      "text/plain": [
       "       InvoiceNo StockCode                        Description  Quantity  \\\n",
       "285787    561923     22456    NATURAL SLATE CHALKBOARD LARGE          3   \n",
       "389311    570466     23372   SET 36 COLOUR PENCILS DOLLY GIRL         3   \n",
       "425518    573328     71477  COLOUR GLASS. STAR T-LIGHT HOLDER         2   \n",
       "185663    552823    85132B        CHARLIE AND LOLA TABLE TINS         2   \n",
       "197336    553897    46000U     POLYESTER FILLER PAD 30CMx30CM         2   \n",
       "\n",
       "             InvoiceDate  UnitPrice CustomerID         Country  \n",
       "285787    8/1/2011 12:16       4.95      14112  United Kingdom  \n",
       "389311  10/10/2011 16:03       1.25      16791  United Kingdom  \n",
       "425518  10/30/2011 11:09       3.95      16601  United Kingdom  \n",
       "185663   5/11/2011 13:06       1.95      14731  United Kingdom  \n",
       "197336   5/19/2011 17:23       1.25      14911            EIRE  "
      ]
     },
     "execution_count": 22,
     "metadata": {},
     "output_type": "execute_result"
    }
   ],
   "source": [
    "ecom.sample(5)"
   ]
  },
  {
   "cell_type": "code",
   "execution_count": 23,
   "id": "b38e96e9",
   "metadata": {},
   "outputs": [
    {
     "data": {
      "text/html": [
       "<div>\n",
       "<style scoped>\n",
       "    .dataframe tbody tr th:only-of-type {\n",
       "        vertical-align: middle;\n",
       "    }\n",
       "\n",
       "    .dataframe tbody tr th {\n",
       "        vertical-align: top;\n",
       "    }\n",
       "\n",
       "    .dataframe thead th {\n",
       "        text-align: right;\n",
       "    }\n",
       "</style>\n",
       "<table border=\"1\" class=\"dataframe\">\n",
       "  <thead>\n",
       "    <tr style=\"text-align: right;\">\n",
       "      <th></th>\n",
       "      <th>InvoiceNo</th>\n",
       "      <th>StockCode</th>\n",
       "      <th>Description</th>\n",
       "      <th>Quantity</th>\n",
       "      <th>InvoiceDate</th>\n",
       "      <th>UnitPrice</th>\n",
       "      <th>CustomerID</th>\n",
       "      <th>Country</th>\n",
       "    </tr>\n",
       "  </thead>\n",
       "  <tbody>\n",
       "    <tr>\n",
       "      <th>0</th>\n",
       "      <td>536365</td>\n",
       "      <td>85123A</td>\n",
       "      <td>WHITE HANGING HEART T-LIGHT HOLDER</td>\n",
       "      <td>6</td>\n",
       "      <td>2010-12-01 08:26:00</td>\n",
       "      <td>2.55</td>\n",
       "      <td>17850</td>\n",
       "      <td>United Kingdom</td>\n",
       "    </tr>\n",
       "    <tr>\n",
       "      <th>1</th>\n",
       "      <td>536365</td>\n",
       "      <td>71053</td>\n",
       "      <td>WHITE METAL LANTERN</td>\n",
       "      <td>6</td>\n",
       "      <td>2010-12-01 08:26:00</td>\n",
       "      <td>3.39</td>\n",
       "      <td>17850</td>\n",
       "      <td>United Kingdom</td>\n",
       "    </tr>\n",
       "    <tr>\n",
       "      <th>2</th>\n",
       "      <td>536365</td>\n",
       "      <td>84406B</td>\n",
       "      <td>CREAM CUPID HEARTS COAT HANGER</td>\n",
       "      <td>8</td>\n",
       "      <td>2010-12-01 08:26:00</td>\n",
       "      <td>2.75</td>\n",
       "      <td>17850</td>\n",
       "      <td>United Kingdom</td>\n",
       "    </tr>\n",
       "    <tr>\n",
       "      <th>3</th>\n",
       "      <td>536365</td>\n",
       "      <td>84029G</td>\n",
       "      <td>KNITTED UNION FLAG HOT WATER BOTTLE</td>\n",
       "      <td>6</td>\n",
       "      <td>2010-12-01 08:26:00</td>\n",
       "      <td>3.39</td>\n",
       "      <td>17850</td>\n",
       "      <td>United Kingdom</td>\n",
       "    </tr>\n",
       "    <tr>\n",
       "      <th>4</th>\n",
       "      <td>536365</td>\n",
       "      <td>84029E</td>\n",
       "      <td>RED WOOLLY HOTTIE WHITE HEART.</td>\n",
       "      <td>6</td>\n",
       "      <td>2010-12-01 08:26:00</td>\n",
       "      <td>3.39</td>\n",
       "      <td>17850</td>\n",
       "      <td>United Kingdom</td>\n",
       "    </tr>\n",
       "  </tbody>\n",
       "</table>\n",
       "</div>"
      ],
      "text/plain": [
       "  InvoiceNo StockCode                          Description  Quantity  \\\n",
       "0    536365    85123A   WHITE HANGING HEART T-LIGHT HOLDER         6   \n",
       "1    536365     71053                  WHITE METAL LANTERN         6   \n",
       "2    536365    84406B       CREAM CUPID HEARTS COAT HANGER         8   \n",
       "3    536365    84029G  KNITTED UNION FLAG HOT WATER BOTTLE         6   \n",
       "4    536365    84029E       RED WOOLLY HOTTIE WHITE HEART.         6   \n",
       "\n",
       "          InvoiceDate  UnitPrice CustomerID         Country  \n",
       "0 2010-12-01 08:26:00       2.55      17850  United Kingdom  \n",
       "1 2010-12-01 08:26:00       3.39      17850  United Kingdom  \n",
       "2 2010-12-01 08:26:00       2.75      17850  United Kingdom  \n",
       "3 2010-12-01 08:26:00       3.39      17850  United Kingdom  \n",
       "4 2010-12-01 08:26:00       3.39      17850  United Kingdom  "
      ]
     },
     "execution_count": 23,
     "metadata": {},
     "output_type": "execute_result"
    }
   ],
   "source": [
    "ecom['InvoiceDate'] = pd.to_datetime(ecom['InvoiceDate'])\n",
    "ecom.head()"
   ]
  },
  {
   "cell_type": "code",
   "execution_count": 25,
   "id": "36c1f361",
   "metadata": {},
   "outputs": [
    {
     "data": {
      "text/plain": [
       "InvoiceDate\n",
       "2010-12-01    1924\n",
       "2010-12-02    2003\n",
       "2010-12-03    1100\n",
       "2010-12-04       0\n",
       "2010-12-05    2619\n",
       "Freq: D, dtype: int64"
      ]
     },
     "execution_count": 25,
     "metadata": {},
     "output_type": "execute_result"
    }
   ],
   "source": [
    "transactions_per_day = ecom.groupby(pd.Grouper(key='InvoiceDate', freq='D')).size()\n",
    "transactions_per_day.head()"
   ]
  },
  {
   "cell_type": "code",
   "execution_count": 27,
   "id": "76b4c6ce",
   "metadata": {},
   "outputs": [
    {
     "data": {
      "text/plain": [
       "3359"
      ]
     },
     "execution_count": 27,
     "metadata": {},
     "output_type": "execute_result"
    }
   ],
   "source": [
    "max_transactions = transactions_per_day.max()\n",
    "max_transactions"
   ]
  },
  {
   "cell_type": "code",
   "execution_count": 29,
   "id": "71936ec0",
   "metadata": {},
   "outputs": [
    {
     "name": "stdout",
     "output_type": "stream",
     "text": [
      "Hence the maximum transaction per day is :\n",
      "  InvoiceDate     0\n",
      "0  2011-12-05  3359\n"
     ]
    }
   ],
   "source": [
    "max_transactions_df = transactions_per_day[transactions_per_day == max_transactions].reset_index()\n",
    "print(f'Hence the maximum transaction per day is :')\n",
    "print(max_transactions_df)"
   ]
  },
  {
   "cell_type": "markdown",
   "id": "0390f952",
   "metadata": {},
   "source": [
    "## Which year had the maximum number of transactions?"
   ]
  },
  {
   "cell_type": "code",
   "execution_count": 30,
   "id": "4d8c7bc7",
   "metadata": {},
   "outputs": [
    {
     "data": {
      "text/html": [
       "<div>\n",
       "<style scoped>\n",
       "    .dataframe tbody tr th:only-of-type {\n",
       "        vertical-align: middle;\n",
       "    }\n",
       "\n",
       "    .dataframe tbody tr th {\n",
       "        vertical-align: top;\n",
       "    }\n",
       "\n",
       "    .dataframe thead th {\n",
       "        text-align: right;\n",
       "    }\n",
       "</style>\n",
       "<table border=\"1\" class=\"dataframe\">\n",
       "  <thead>\n",
       "    <tr style=\"text-align: right;\">\n",
       "      <th></th>\n",
       "      <th>InvoiceNo</th>\n",
       "      <th>StockCode</th>\n",
       "      <th>Description</th>\n",
       "      <th>Quantity</th>\n",
       "      <th>InvoiceDate</th>\n",
       "      <th>UnitPrice</th>\n",
       "      <th>CustomerID</th>\n",
       "      <th>Country</th>\n",
       "    </tr>\n",
       "  </thead>\n",
       "  <tbody>\n",
       "    <tr>\n",
       "      <th>246510</th>\n",
       "      <td>558704</td>\n",
       "      <td>21890</td>\n",
       "      <td>S/6 WOODEN SKITTLES IN COTTON BAG</td>\n",
       "      <td>12</td>\n",
       "      <td>2011-07-01 12:50:00</td>\n",
       "      <td>3.25</td>\n",
       "      <td>17505</td>\n",
       "      <td>United Kingdom</td>\n",
       "    </tr>\n",
       "    <tr>\n",
       "      <th>369117</th>\n",
       "      <td>569014</td>\n",
       "      <td>22577</td>\n",
       "      <td>WOODEN HEART CHRISTMAS SCANDINAVIAN</td>\n",
       "      <td>26</td>\n",
       "      <td>2011-09-30 09:05:00</td>\n",
       "      <td>0.29</td>\n",
       "      <td>18053</td>\n",
       "      <td>United Kingdom</td>\n",
       "    </tr>\n",
       "    <tr>\n",
       "      <th>506974</th>\n",
       "      <td>579163</td>\n",
       "      <td>22866</td>\n",
       "      <td>HAND WARMER SCOTTY DOG DESIGN</td>\n",
       "      <td>96</td>\n",
       "      <td>2011-11-28 13:59:00</td>\n",
       "      <td>1.85</td>\n",
       "      <td>15838</td>\n",
       "      <td>United Kingdom</td>\n",
       "    </tr>\n",
       "    <tr>\n",
       "      <th>395998</th>\n",
       "      <td>571054</td>\n",
       "      <td>22188</td>\n",
       "      <td>BLACK HEART CARD HOLDER</td>\n",
       "      <td>1</td>\n",
       "      <td>2011-10-13 13:58:00</td>\n",
       "      <td>3.95</td>\n",
       "      <td>14234</td>\n",
       "      <td>United Kingdom</td>\n",
       "    </tr>\n",
       "    <tr>\n",
       "      <th>437251</th>\n",
       "      <td>574278</td>\n",
       "      <td>23108</td>\n",
       "      <td>SET OF 10 LED DOLLY LIGHTS</td>\n",
       "      <td>2</td>\n",
       "      <td>2011-11-03 14:42:00</td>\n",
       "      <td>6.25</td>\n",
       "      <td>15814</td>\n",
       "      <td>United Kingdom</td>\n",
       "    </tr>\n",
       "  </tbody>\n",
       "</table>\n",
       "</div>"
      ],
      "text/plain": [
       "       InvoiceNo StockCode                          Description  Quantity  \\\n",
       "246510    558704     21890    S/6 WOODEN SKITTLES IN COTTON BAG        12   \n",
       "369117    569014     22577  WOODEN HEART CHRISTMAS SCANDINAVIAN        26   \n",
       "506974    579163     22866        HAND WARMER SCOTTY DOG DESIGN        96   \n",
       "395998    571054     22188              BLACK HEART CARD HOLDER         1   \n",
       "437251    574278     23108           SET OF 10 LED DOLLY LIGHTS         2   \n",
       "\n",
       "               InvoiceDate  UnitPrice CustomerID         Country  \n",
       "246510 2011-07-01 12:50:00       3.25      17505  United Kingdom  \n",
       "369117 2011-09-30 09:05:00       0.29      18053  United Kingdom  \n",
       "506974 2011-11-28 13:59:00       1.85      15838  United Kingdom  \n",
       "395998 2011-10-13 13:58:00       3.95      14234  United Kingdom  \n",
       "437251 2011-11-03 14:42:00       6.25      15814  United Kingdom  "
      ]
     },
     "execution_count": 30,
     "metadata": {},
     "output_type": "execute_result"
    }
   ],
   "source": [
    "ecom.sample(5)"
   ]
  },
  {
   "cell_type": "code",
   "execution_count": 32,
   "id": "dc3604f9",
   "metadata": {},
   "outputs": [
    {
     "data": {
      "text/plain": [
       "InvoiceDate\n",
       "2010-12-31     26354\n",
       "2011-12-31    375250\n",
       "Freq: A-DEC, dtype: int64"
      ]
     },
     "execution_count": 32,
     "metadata": {},
     "output_type": "execute_result"
    }
   ],
   "source": [
    "transactions_per_year = ecom.groupby(pd.Grouper(key='InvoiceDate',freq='Y')).size()\n",
    "transactions_per_year"
   ]
  },
  {
   "cell_type": "code",
   "execution_count": 34,
   "id": "24b66032",
   "metadata": {},
   "outputs": [
    {
     "data": {
      "text/plain": [
       "375250"
      ]
     },
     "execution_count": 34,
     "metadata": {},
     "output_type": "execute_result"
    }
   ],
   "source": [
    "max_transactions = transactions_per_year.max()\n",
    "max_transactions"
   ]
  },
  {
   "cell_type": "code",
   "execution_count": 41,
   "id": "553eb51a",
   "metadata": {},
   "outputs": [
    {
     "name": "stdout",
     "output_type": "stream",
     "text": [
      "Hence the maximum transactions per year is \n",
      "   InvoiceDate       0\n",
      "0  2011-12-31  375250\n"
     ]
    }
   ],
   "source": [
    "max_transactions_df = transactions_per_year[transactions_per_year == max_transactions].reset_index()\n",
    "print(f\"Hence the maximum transactions per year is \\n {max_transactions_df}\")"
   ]
  },
  {
   "cell_type": "markdown",
   "id": "aa8460d4",
   "metadata": {},
   "source": [
    "## Which product got cancelled the maximum number of times?"
   ]
  },
  {
   "cell_type": "code",
   "execution_count": 52,
   "id": "96cc4055",
   "metadata": {},
   "outputs": [
    {
     "data": {
      "text/html": [
       "<div>\n",
       "<style scoped>\n",
       "    .dataframe tbody tr th:only-of-type {\n",
       "        vertical-align: middle;\n",
       "    }\n",
       "\n",
       "    .dataframe tbody tr th {\n",
       "        vertical-align: top;\n",
       "    }\n",
       "\n",
       "    .dataframe thead th {\n",
       "        text-align: right;\n",
       "    }\n",
       "</style>\n",
       "<table border=\"1\" class=\"dataframe\">\n",
       "  <thead>\n",
       "    <tr style=\"text-align: right;\">\n",
       "      <th></th>\n",
       "      <th>InvoiceNo</th>\n",
       "      <th>StockCode</th>\n",
       "      <th>Description</th>\n",
       "      <th>Quantity</th>\n",
       "      <th>InvoiceDate</th>\n",
       "      <th>UnitPrice</th>\n",
       "      <th>CustomerID</th>\n",
       "      <th>Country</th>\n",
       "    </tr>\n",
       "  </thead>\n",
       "  <tbody>\n",
       "    <tr>\n",
       "      <th>345089</th>\n",
       "      <td>567142</td>\n",
       "      <td>21731</td>\n",
       "      <td>RED TOADSTOOL LED NIGHT LIGHT</td>\n",
       "      <td>36</td>\n",
       "      <td>2011-09-16 14:55:00</td>\n",
       "      <td>1.65</td>\n",
       "      <td>14262</td>\n",
       "      <td>United Kingdom</td>\n",
       "    </tr>\n",
       "    <tr>\n",
       "      <th>340843</th>\n",
       "      <td>566721</td>\n",
       "      <td>22561</td>\n",
       "      <td>WOODEN SCHOOL COLOURING SET</td>\n",
       "      <td>12</td>\n",
       "      <td>2011-09-14 12:50:00</td>\n",
       "      <td>1.65</td>\n",
       "      <td>12921</td>\n",
       "      <td>United Kingdom</td>\n",
       "    </tr>\n",
       "    <tr>\n",
       "      <th>398905</th>\n",
       "      <td>571265</td>\n",
       "      <td>22866</td>\n",
       "      <td>HAND WARMER SCOTTY DOG DESIGN</td>\n",
       "      <td>2</td>\n",
       "      <td>2011-10-16 11:31:00</td>\n",
       "      <td>2.10</td>\n",
       "      <td>16674</td>\n",
       "      <td>United Kingdom</td>\n",
       "    </tr>\n",
       "    <tr>\n",
       "      <th>533877</th>\n",
       "      <td>581122</td>\n",
       "      <td>23076</td>\n",
       "      <td>ICE CREAM SUNDAE LIP GLOSS</td>\n",
       "      <td>24</td>\n",
       "      <td>2011-12-07 12:33:00</td>\n",
       "      <td>1.25</td>\n",
       "      <td>12839</td>\n",
       "      <td>United Kingdom</td>\n",
       "    </tr>\n",
       "    <tr>\n",
       "      <th>168248</th>\n",
       "      <td>551014</td>\n",
       "      <td>22399</td>\n",
       "      <td>MAGNETS PACK OF 4 CHILDHOOD MEMORY</td>\n",
       "      <td>12</td>\n",
       "      <td>2011-04-26 11:04:00</td>\n",
       "      <td>1.25</td>\n",
       "      <td>13209</td>\n",
       "      <td>United Kingdom</td>\n",
       "    </tr>\n",
       "  </tbody>\n",
       "</table>\n",
       "</div>"
      ],
      "text/plain": [
       "       InvoiceNo StockCode                         Description  Quantity  \\\n",
       "345089    567142     21731       RED TOADSTOOL LED NIGHT LIGHT        36   \n",
       "340843    566721     22561         WOODEN SCHOOL COLOURING SET        12   \n",
       "398905    571265     22866       HAND WARMER SCOTTY DOG DESIGN         2   \n",
       "533877    581122     23076          ICE CREAM SUNDAE LIP GLOSS        24   \n",
       "168248    551014     22399  MAGNETS PACK OF 4 CHILDHOOD MEMORY        12   \n",
       "\n",
       "               InvoiceDate  UnitPrice CustomerID         Country  \n",
       "345089 2011-09-16 14:55:00       1.65      14262  United Kingdom  \n",
       "340843 2011-09-14 12:50:00       1.65      12921  United Kingdom  \n",
       "398905 2011-10-16 11:31:00       2.10      16674  United Kingdom  \n",
       "533877 2011-12-07 12:33:00       1.25      12839  United Kingdom  \n",
       "168248 2011-04-26 11:04:00       1.25      13209  United Kingdom  "
      ]
     },
     "execution_count": 52,
     "metadata": {},
     "output_type": "execute_result"
    }
   ],
   "source": [
    "ecom.sample(5)"
   ]
  },
  {
   "cell_type": "code",
   "execution_count": 54,
   "id": "e1eb5acc",
   "metadata": {},
   "outputs": [
    {
     "data": {
      "text/html": [
       "<div>\n",
       "<style scoped>\n",
       "    .dataframe tbody tr th:only-of-type {\n",
       "        vertical-align: middle;\n",
       "    }\n",
       "\n",
       "    .dataframe tbody tr th {\n",
       "        vertical-align: top;\n",
       "    }\n",
       "\n",
       "    .dataframe thead th {\n",
       "        text-align: right;\n",
       "    }\n",
       "</style>\n",
       "<table border=\"1\" class=\"dataframe\">\n",
       "  <thead>\n",
       "    <tr style=\"text-align: right;\">\n",
       "      <th></th>\n",
       "      <th>InvoiceNo</th>\n",
       "      <th>StockCode</th>\n",
       "      <th>Description</th>\n",
       "      <th>Quantity</th>\n",
       "      <th>InvoiceDate</th>\n",
       "      <th>UnitPrice</th>\n",
       "      <th>CustomerID</th>\n",
       "      <th>Country</th>\n",
       "    </tr>\n",
       "  </thead>\n",
       "  <tbody>\n",
       "    <tr>\n",
       "      <th>141</th>\n",
       "      <td>C536379</td>\n",
       "      <td>D</td>\n",
       "      <td>Discount</td>\n",
       "      <td>-1</td>\n",
       "      <td>2010-12-01 09:41:00</td>\n",
       "      <td>27.50</td>\n",
       "      <td>14527</td>\n",
       "      <td>United Kingdom</td>\n",
       "    </tr>\n",
       "    <tr>\n",
       "      <th>154</th>\n",
       "      <td>C536383</td>\n",
       "      <td>35004C</td>\n",
       "      <td>SET OF 3 COLOURED  FLYING DUCKS</td>\n",
       "      <td>-1</td>\n",
       "      <td>2010-12-01 09:49:00</td>\n",
       "      <td>4.65</td>\n",
       "      <td>15311</td>\n",
       "      <td>United Kingdom</td>\n",
       "    </tr>\n",
       "    <tr>\n",
       "      <th>235</th>\n",
       "      <td>C536391</td>\n",
       "      <td>22556</td>\n",
       "      <td>PLASTERS IN TIN CIRCUS PARADE</td>\n",
       "      <td>-12</td>\n",
       "      <td>2010-12-01 10:24:00</td>\n",
       "      <td>1.65</td>\n",
       "      <td>17548</td>\n",
       "      <td>United Kingdom</td>\n",
       "    </tr>\n",
       "    <tr>\n",
       "      <th>236</th>\n",
       "      <td>C536391</td>\n",
       "      <td>21984</td>\n",
       "      <td>PACK OF 12 PINK PAISLEY TISSUES</td>\n",
       "      <td>-24</td>\n",
       "      <td>2010-12-01 10:24:00</td>\n",
       "      <td>0.29</td>\n",
       "      <td>17548</td>\n",
       "      <td>United Kingdom</td>\n",
       "    </tr>\n",
       "    <tr>\n",
       "      <th>237</th>\n",
       "      <td>C536391</td>\n",
       "      <td>21983</td>\n",
       "      <td>PACK OF 12 BLUE PAISLEY TISSUES</td>\n",
       "      <td>-24</td>\n",
       "      <td>2010-12-01 10:24:00</td>\n",
       "      <td>0.29</td>\n",
       "      <td>17548</td>\n",
       "      <td>United Kingdom</td>\n",
       "    </tr>\n",
       "  </tbody>\n",
       "</table>\n",
       "</div>"
      ],
      "text/plain": [
       "    InvoiceNo StockCode                       Description  Quantity  \\\n",
       "141   C536379         D                          Discount        -1   \n",
       "154   C536383    35004C   SET OF 3 COLOURED  FLYING DUCKS        -1   \n",
       "235   C536391     22556    PLASTERS IN TIN CIRCUS PARADE        -12   \n",
       "236   C536391     21984  PACK OF 12 PINK PAISLEY TISSUES        -24   \n",
       "237   C536391     21983  PACK OF 12 BLUE PAISLEY TISSUES        -24   \n",
       "\n",
       "            InvoiceDate  UnitPrice CustomerID         Country  \n",
       "141 2010-12-01 09:41:00      27.50      14527  United Kingdom  \n",
       "154 2010-12-01 09:49:00       4.65      15311  United Kingdom  \n",
       "235 2010-12-01 10:24:00       1.65      17548  United Kingdom  \n",
       "236 2010-12-01 10:24:00       0.29      17548  United Kingdom  \n",
       "237 2010-12-01 10:24:00       0.29      17548  United Kingdom  "
      ]
     },
     "execution_count": 54,
     "metadata": {},
     "output_type": "execute_result"
    }
   ],
   "source": [
    "cancelled_trans = ecom[ecom['InvoiceNo'].str.startswith('C')]\n",
    "cancelled_trans.head()"
   ]
  },
  {
   "cell_type": "code",
   "execution_count": 55,
   "id": "aa6db9e2",
   "metadata": {},
   "outputs": [
    {
     "data": {
      "text/plain": [
       "StockCode\n",
       "10133    1\n",
       "10135    1\n",
       "11001    5\n",
       "15034    4\n",
       "15036    4\n",
       "dtype: int64"
      ]
     },
     "execution_count": 55,
     "metadata": {},
     "output_type": "execute_result"
    }
   ],
   "source": [
    "cancelled_products = cancelled_trans.groupby('StockCode').size()\n",
    "cancelled_products.head()"
   ]
  },
  {
   "cell_type": "code",
   "execution_count": 57,
   "id": "3f43618f",
   "metadata": {},
   "outputs": [
    {
     "data": {
      "text/plain": [
       "180"
      ]
     },
     "execution_count": 57,
     "metadata": {},
     "output_type": "execute_result"
    }
   ],
   "source": [
    "max_cancelled_product = cancelled_products.max()\n",
    "max_cancelled_product"
   ]
  },
  {
   "cell_type": "code",
   "execution_count": 62,
   "id": "c75cef50",
   "metadata": {},
   "outputs": [
    {
     "name": "stdout",
     "output_type": "stream",
     "text": [
      "Hence, the maximum number of cancelled product is: \n",
      " StockCode\n",
      "22423    180\n",
      "dtype: int64\n"
     ]
    }
   ],
   "source": [
    "max_cancelled_product_df = cancelled_products[cancelled_products == max_cancelled_product]\n",
    "print(f\"Hence, the maximum number of cancelled product is: \\n {max_cancelled_product_df}\")"
   ]
  },
  {
   "cell_type": "markdown",
   "id": "7bf293c2",
   "metadata": {},
   "source": [
    "## Most Sold Product"
   ]
  },
  {
   "cell_type": "code",
   "execution_count": 63,
   "id": "1a4bb7f8",
   "metadata": {},
   "outputs": [
    {
     "data": {
      "text/html": [
       "<div>\n",
       "<style scoped>\n",
       "    .dataframe tbody tr th:only-of-type {\n",
       "        vertical-align: middle;\n",
       "    }\n",
       "\n",
       "    .dataframe tbody tr th {\n",
       "        vertical-align: top;\n",
       "    }\n",
       "\n",
       "    .dataframe thead th {\n",
       "        text-align: right;\n",
       "    }\n",
       "</style>\n",
       "<table border=\"1\" class=\"dataframe\">\n",
       "  <thead>\n",
       "    <tr style=\"text-align: right;\">\n",
       "      <th></th>\n",
       "      <th>InvoiceNo</th>\n",
       "      <th>StockCode</th>\n",
       "      <th>Description</th>\n",
       "      <th>Quantity</th>\n",
       "      <th>InvoiceDate</th>\n",
       "      <th>UnitPrice</th>\n",
       "      <th>CustomerID</th>\n",
       "      <th>Country</th>\n",
       "    </tr>\n",
       "  </thead>\n",
       "  <tbody>\n",
       "    <tr>\n",
       "      <th>467089</th>\n",
       "      <td>576339</td>\n",
       "      <td>22246</td>\n",
       "      <td>MAGIC GARDEN FELT GARLAND</td>\n",
       "      <td>2</td>\n",
       "      <td>2011-11-14 15:27:00</td>\n",
       "      <td>4.13</td>\n",
       "      <td>14096</td>\n",
       "      <td>United Kingdom</td>\n",
       "    </tr>\n",
       "    <tr>\n",
       "      <th>527653</th>\n",
       "      <td>580727</td>\n",
       "      <td>21880</td>\n",
       "      <td>RED RETROSPOT TAPE</td>\n",
       "      <td>2</td>\n",
       "      <td>2011-12-05 17:17:00</td>\n",
       "      <td>0.42</td>\n",
       "      <td>14096</td>\n",
       "      <td>United Kingdom</td>\n",
       "    </tr>\n",
       "    <tr>\n",
       "      <th>296496</th>\n",
       "      <td>562912</td>\n",
       "      <td>22476</td>\n",
       "      <td>EMPIRE UNION JACK TV DINNER TRAY</td>\n",
       "      <td>1</td>\n",
       "      <td>2011-08-10 13:15:00</td>\n",
       "      <td>4.95</td>\n",
       "      <td>15311</td>\n",
       "      <td>United Kingdom</td>\n",
       "    </tr>\n",
       "    <tr>\n",
       "      <th>121529</th>\n",
       "      <td>546770</td>\n",
       "      <td>22797</td>\n",
       "      <td>CHEST OF DRAWERS GINGHAM HEART</td>\n",
       "      <td>1</td>\n",
       "      <td>2011-03-16 15:17:00</td>\n",
       "      <td>16.95</td>\n",
       "      <td>12523</td>\n",
       "      <td>France</td>\n",
       "    </tr>\n",
       "    <tr>\n",
       "      <th>72745</th>\n",
       "      <td>542258</td>\n",
       "      <td>21121</td>\n",
       "      <td>SET/10 RED POLKADOT PARTY CANDLES</td>\n",
       "      <td>3</td>\n",
       "      <td>2011-01-26 17:08:00</td>\n",
       "      <td>1.25</td>\n",
       "      <td>17372</td>\n",
       "      <td>United Kingdom</td>\n",
       "    </tr>\n",
       "  </tbody>\n",
       "</table>\n",
       "</div>"
      ],
      "text/plain": [
       "       InvoiceNo StockCode                        Description  Quantity  \\\n",
       "467089    576339     22246         MAGIC GARDEN FELT GARLAND          2   \n",
       "527653    580727     21880                 RED RETROSPOT TAPE         2   \n",
       "296496    562912     22476   EMPIRE UNION JACK TV DINNER TRAY         1   \n",
       "121529    546770     22797    CHEST OF DRAWERS GINGHAM HEART          1   \n",
       "72745     542258     21121  SET/10 RED POLKADOT PARTY CANDLES         3   \n",
       "\n",
       "               InvoiceDate  UnitPrice CustomerID         Country  \n",
       "467089 2011-11-14 15:27:00       4.13      14096  United Kingdom  \n",
       "527653 2011-12-05 17:17:00       0.42      14096  United Kingdom  \n",
       "296496 2011-08-10 13:15:00       4.95      15311  United Kingdom  \n",
       "121529 2011-03-16 15:17:00      16.95      12523          France  \n",
       "72745  2011-01-26 17:08:00       1.25      17372  United Kingdom  "
      ]
     },
     "execution_count": 63,
     "metadata": {},
     "output_type": "execute_result"
    }
   ],
   "source": [
    "ecom.sample(5)"
   ]
  },
  {
   "cell_type": "code",
   "execution_count": 71,
   "id": "f5798973",
   "metadata": {},
   "outputs": [
    {
     "name": "stdout",
     "output_type": "stream",
     "text": [
      "Hence, the maximum number of cancelled product is: \n",
      " StockCode\n",
      "84077    53119\n",
      "Name: Quantity, dtype: int64\n"
     ]
    }
   ],
   "source": [
    "quantity_sold = ecom.groupby('StockCode')['Quantity'].sum()\n",
    "max_quantity_sold = quantity_sold.max()\n",
    "max_quantity_sold_df = quantity_sold[quantity_sold == max_quantity_sold]\n",
    "print(f\"Hence, the maximum number of cancelled product is: \\n {max_quantity_sold_df}\")"
   ]
  },
  {
   "cell_type": "markdown",
   "id": "d441ab6d",
   "metadata": {},
   "source": [
    "## Which product was sold how many times?"
   ]
  },
  {
   "cell_type": "code",
   "execution_count": 72,
   "id": "c7ea04f8",
   "metadata": {},
   "outputs": [
    {
     "data": {
      "text/html": [
       "<div>\n",
       "<style scoped>\n",
       "    .dataframe tbody tr th:only-of-type {\n",
       "        vertical-align: middle;\n",
       "    }\n",
       "\n",
       "    .dataframe tbody tr th {\n",
       "        vertical-align: top;\n",
       "    }\n",
       "\n",
       "    .dataframe thead th {\n",
       "        text-align: right;\n",
       "    }\n",
       "</style>\n",
       "<table border=\"1\" class=\"dataframe\">\n",
       "  <thead>\n",
       "    <tr style=\"text-align: right;\">\n",
       "      <th></th>\n",
       "      <th>InvoiceNo</th>\n",
       "      <th>StockCode</th>\n",
       "      <th>Description</th>\n",
       "      <th>Quantity</th>\n",
       "      <th>InvoiceDate</th>\n",
       "      <th>UnitPrice</th>\n",
       "      <th>CustomerID</th>\n",
       "      <th>Country</th>\n",
       "    </tr>\n",
       "  </thead>\n",
       "  <tbody>\n",
       "    <tr>\n",
       "      <th>464783</th>\n",
       "      <td>576181</td>\n",
       "      <td>21154</td>\n",
       "      <td>RED RETROSPOT OVEN GLOVE</td>\n",
       "      <td>1</td>\n",
       "      <td>2011-11-14 11:19:00</td>\n",
       "      <td>1.25</td>\n",
       "      <td>15572</td>\n",
       "      <td>United Kingdom</td>\n",
       "    </tr>\n",
       "    <tr>\n",
       "      <th>8260</th>\n",
       "      <td>537131</td>\n",
       "      <td>21034</td>\n",
       "      <td>REX CASH+CARRY JUMBO SHOPPER</td>\n",
       "      <td>2</td>\n",
       "      <td>2010-12-05 12:26:00</td>\n",
       "      <td>0.95</td>\n",
       "      <td>15716</td>\n",
       "      <td>United Kingdom</td>\n",
       "    </tr>\n",
       "    <tr>\n",
       "      <th>86873</th>\n",
       "      <td>543610</td>\n",
       "      <td>16161P</td>\n",
       "      <td>WRAP ENGLISH ROSE</td>\n",
       "      <td>25</td>\n",
       "      <td>2011-02-10 14:30:00</td>\n",
       "      <td>0.42</td>\n",
       "      <td>16425</td>\n",
       "      <td>United Kingdom</td>\n",
       "    </tr>\n",
       "    <tr>\n",
       "      <th>329828</th>\n",
       "      <td>565855</td>\n",
       "      <td>22537</td>\n",
       "      <td>MAGIC DRAWING SLATE DINOSAUR</td>\n",
       "      <td>24</td>\n",
       "      <td>2011-09-07 13:30:00</td>\n",
       "      <td>0.42</td>\n",
       "      <td>15114</td>\n",
       "      <td>United Kingdom</td>\n",
       "    </tr>\n",
       "    <tr>\n",
       "      <th>537869</th>\n",
       "      <td>581358</td>\n",
       "      <td>22300</td>\n",
       "      <td>COFFEE MUG DOG + BALL DESIGN</td>\n",
       "      <td>6</td>\n",
       "      <td>2011-12-08 12:30:00</td>\n",
       "      <td>2.55</td>\n",
       "      <td>17436</td>\n",
       "      <td>United Kingdom</td>\n",
       "    </tr>\n",
       "  </tbody>\n",
       "</table>\n",
       "</div>"
      ],
      "text/plain": [
       "       InvoiceNo StockCode                   Description  Quantity  \\\n",
       "464783    576181     21154     RED RETROSPOT OVEN GLOVE          1   \n",
       "8260      537131     21034  REX CASH+CARRY JUMBO SHOPPER         2   \n",
       "86873     543610    16161P            WRAP ENGLISH ROSE         25   \n",
       "329828    565855     22537  MAGIC DRAWING SLATE DINOSAUR        24   \n",
       "537869    581358     22300  COFFEE MUG DOG + BALL DESIGN         6   \n",
       "\n",
       "               InvoiceDate  UnitPrice CustomerID         Country  \n",
       "464783 2011-11-14 11:19:00       1.25      15572  United Kingdom  \n",
       "8260   2010-12-05 12:26:00       0.95      15716  United Kingdom  \n",
       "86873  2011-02-10 14:30:00       0.42      16425  United Kingdom  \n",
       "329828 2011-09-07 13:30:00       0.42      15114  United Kingdom  \n",
       "537869 2011-12-08 12:30:00       2.55      17436  United Kingdom  "
      ]
     },
     "execution_count": 72,
     "metadata": {},
     "output_type": "execute_result"
    }
   ],
   "source": [
    "ecom.sample(5)"
   ]
  },
  {
   "cell_type": "code",
   "execution_count": 76,
   "id": "9b9bf57e",
   "metadata": {},
   "outputs": [
    {
     "data": {
      "text/plain": [
       "StockCode\n",
       "85123A    2065\n",
       "22423     1894\n",
       "85099B    1659\n",
       "47566     1409\n",
       "84879     1405\n",
       "dtype: int64"
      ]
     },
     "execution_count": 76,
     "metadata": {},
     "output_type": "execute_result"
    }
   ],
   "source": [
    "product_sold = ecom.groupby('StockCode').size()\n",
    "product_sold.sort_values(ascending=False).head(5)"
   ]
  },
  {
   "cell_type": "markdown",
   "id": "08437971",
   "metadata": {},
   "source": [
    "## Total Sales by date"
   ]
  },
  {
   "cell_type": "code",
   "execution_count": 79,
   "id": "c1aae38b",
   "metadata": {},
   "outputs": [
    {
     "data": {
      "text/plain": [
       "InvoiceDate\n",
       "2010-12-31    295177\n",
       "2011-01-31    268755\n",
       "2011-02-28    262243\n",
       "2011-03-31    343095\n",
       "2011-04-30    277730\n",
       "Freq: M, Name: Quantity, dtype: int64"
      ]
     },
     "execution_count": 79,
     "metadata": {},
     "output_type": "execute_result"
    }
   ],
   "source": [
    "daily_sales = ecom.groupby(pd.Grouper(key='InvoiceDate',freq='M'))['Quantity'].sum()\n",
    "daily_sales.head()"
   ]
  },
  {
   "cell_type": "code",
   "execution_count": 81,
   "id": "991c7997",
   "metadata": {},
   "outputs": [
    {
     "data": {
      "image/png": "[encoded data removed]",
      "text/plain": [
       "<Figure size 640x480 with 1 Axes>"
      ]
     },
     "metadata": {},
     "output_type": "display_data"
    }
   ],
   "source": [
    "daily_sales.plot(kind='area', stacked=True)\n",
    "plt.title('Daily Sales Trend')\n",
    "plt.xlabel('Date')\n",
    "plt.ylabel('Total Sales')\n",
    "plt.show()"
   ]
  },
  {
   "cell_type": "markdown",
   "id": "4333e088",
   "metadata": {},
   "source": [
    "## Which is the most expensive product?"
   ]
  },
  {
   "cell_type": "code",
   "execution_count": 82,
   "id": "3fd45118",
   "metadata": {},
   "outputs": [
    {
     "data": {
      "text/html": [
       "<div>\n",
       "<style scoped>\n",
       "    .dataframe tbody tr th:only-of-type {\n",
       "        vertical-align: middle;\n",
       "    }\n",
       "\n",
       "    .dataframe tbody tr th {\n",
       "        vertical-align: top;\n",
       "    }\n",
       "\n",
       "    .dataframe thead th {\n",
       "        text-align: right;\n",
       "    }\n",
       "</style>\n",
       "<table border=\"1\" class=\"dataframe\">\n",
       "  <thead>\n",
       "    <tr style=\"text-align: right;\">\n",
       "      <th></th>\n",
       "      <th>InvoiceNo</th>\n",
       "      <th>StockCode</th>\n",
       "      <th>Description</th>\n",
       "      <th>Quantity</th>\n",
       "      <th>InvoiceDate</th>\n",
       "      <th>UnitPrice</th>\n",
       "      <th>CustomerID</th>\n",
       "      <th>Country</th>\n",
       "    </tr>\n",
       "  </thead>\n",
       "  <tbody>\n",
       "    <tr>\n",
       "      <th>399023</th>\n",
       "      <td>571269</td>\n",
       "      <td>47590B</td>\n",
       "      <td>PINK HAPPY BIRTHDAY BUNTING</td>\n",
       "      <td>1</td>\n",
       "      <td>2011-10-16 12:09:00</td>\n",
       "      <td>5.45</td>\n",
       "      <td>16243</td>\n",
       "      <td>United Kingdom</td>\n",
       "    </tr>\n",
       "    <tr>\n",
       "      <th>95237</th>\n",
       "      <td>544450</td>\n",
       "      <td>47559B</td>\n",
       "      <td>TEA TIME OVEN GLOVE</td>\n",
       "      <td>5</td>\n",
       "      <td>2011-02-20 12:23:00</td>\n",
       "      <td>1.25</td>\n",
       "      <td>17811</td>\n",
       "      <td>United Kingdom</td>\n",
       "    </tr>\n",
       "    <tr>\n",
       "      <th>494952</th>\n",
       "      <td>578285</td>\n",
       "      <td>22382</td>\n",
       "      <td>LUNCH BAG SPACEBOY DESIGN</td>\n",
       "      <td>1</td>\n",
       "      <td>2011-11-23 13:57:00</td>\n",
       "      <td>1.65</td>\n",
       "      <td>12748</td>\n",
       "      <td>United Kingdom</td>\n",
       "    </tr>\n",
       "    <tr>\n",
       "      <th>2314</th>\n",
       "      <td>536576</td>\n",
       "      <td>21156</td>\n",
       "      <td>RETROSPOT CHILDRENS APRON</td>\n",
       "      <td>12</td>\n",
       "      <td>2010-12-01 16:11:00</td>\n",
       "      <td>1.65</td>\n",
       "      <td>13777</td>\n",
       "      <td>United Kingdom</td>\n",
       "    </tr>\n",
       "    <tr>\n",
       "      <th>456924</th>\n",
       "      <td>575726</td>\n",
       "      <td>48173C</td>\n",
       "      <td>DOORMAT BLACK FLOCK</td>\n",
       "      <td>1</td>\n",
       "      <td>2011-11-10 19:12:00</td>\n",
       "      <td>8.25</td>\n",
       "      <td>16791</td>\n",
       "      <td>United Kingdom</td>\n",
       "    </tr>\n",
       "  </tbody>\n",
       "</table>\n",
       "</div>"
      ],
      "text/plain": [
       "       InvoiceNo StockCode                  Description  Quantity  \\\n",
       "399023    571269    47590B  PINK HAPPY BIRTHDAY BUNTING         1   \n",
       "95237     544450    47559B          TEA TIME OVEN GLOVE         5   \n",
       "494952    578285     22382   LUNCH BAG SPACEBOY DESIGN          1   \n",
       "2314      536576     21156    RETROSPOT CHILDRENS APRON        12   \n",
       "456924    575726    48173C         DOORMAT BLACK FLOCK          1   \n",
       "\n",
       "               InvoiceDate  UnitPrice CustomerID         Country  \n",
       "399023 2011-10-16 12:09:00       5.45      16243  United Kingdom  \n",
       "95237  2011-02-20 12:23:00       1.25      17811  United Kingdom  \n",
       "494952 2011-11-23 13:57:00       1.65      12748  United Kingdom  \n",
       "2314   2010-12-01 16:11:00       1.65      13777  United Kingdom  \n",
       "456924 2011-11-10 19:12:00       8.25      16791  United Kingdom  "
      ]
     },
     "execution_count": 82,
     "metadata": {},
     "output_type": "execute_result"
    }
   ],
   "source": [
    "ecom.sample(5)"
   ]
  },
  {
   "cell_type": "code",
   "execution_count": 87,
   "id": "27bd6762",
   "metadata": {},
   "outputs": [
    {
     "data": {
      "text/plain": [
       "38970.0"
      ]
     },
     "execution_count": 87,
     "metadata": {},
     "output_type": "execute_result"
    }
   ],
   "source": [
    "unit_price = ecom.UnitPrice.unique()\n",
    "unit_price.max()"
   ]
  },
  {
   "cell_type": "code",
   "execution_count": 91,
   "id": "1619f63f",
   "metadata": {},
   "outputs": [
    {
     "data": {
      "text/html": [
       "<div>\n",
       "<style scoped>\n",
       "    .dataframe tbody tr th:only-of-type {\n",
       "        vertical-align: middle;\n",
       "    }\n",
       "\n",
       "    .dataframe tbody tr th {\n",
       "        vertical-align: top;\n",
       "    }\n",
       "\n",
       "    .dataframe thead th {\n",
       "        text-align: right;\n",
       "    }\n",
       "</style>\n",
       "<table border=\"1\" class=\"dataframe\">\n",
       "  <thead>\n",
       "    <tr style=\"text-align: right;\">\n",
       "      <th></th>\n",
       "      <th>InvoiceNo</th>\n",
       "      <th>StockCode</th>\n",
       "      <th>Description</th>\n",
       "      <th>Quantity</th>\n",
       "      <th>InvoiceDate</th>\n",
       "      <th>UnitPrice</th>\n",
       "      <th>CustomerID</th>\n",
       "      <th>Country</th>\n",
       "    </tr>\n",
       "  </thead>\n",
       "  <tbody>\n",
       "    <tr>\n",
       "      <th>222681</th>\n",
       "      <td>C556445</td>\n",
       "      <td>M</td>\n",
       "      <td>Manual</td>\n",
       "      <td>-1</td>\n",
       "      <td>2011-06-10 15:31:00</td>\n",
       "      <td>38970.0</td>\n",
       "      <td>15098</td>\n",
       "      <td>United Kingdom</td>\n",
       "    </tr>\n",
       "  </tbody>\n",
       "</table>\n",
       "</div>"
      ],
      "text/plain": [
       "       InvoiceNo StockCode Description  Quantity         InvoiceDate  \\\n",
       "222681   C556445         M      Manual        -1 2011-06-10 15:31:00   \n",
       "\n",
       "        UnitPrice CustomerID         Country  \n",
       "222681    38970.0      15098  United Kingdom  "
      ]
     },
     "execution_count": 91,
     "metadata": {},
     "output_type": "execute_result"
    }
   ],
   "source": [
    "unit_price_df = ecom[ecom.UnitPrice == unit_price.max()]\n",
    "unit_price_df"
   ]
  },
  {
   "cell_type": "markdown",
   "id": "295a41e8",
   "metadata": {},
   "source": [
    "## Which customer ordered how many number of times?"
   ]
  },
  {
   "cell_type": "code",
   "execution_count": 92,
   "id": "3f61320f",
   "metadata": {},
   "outputs": [
    {
     "data": {
      "text/html": [
       "<div>\n",
       "<style scoped>\n",
       "    .dataframe tbody tr th:only-of-type {\n",
       "        vertical-align: middle;\n",
       "    }\n",
       "\n",
       "    .dataframe tbody tr th {\n",
       "        vertical-align: top;\n",
       "    }\n",
       "\n",
       "    .dataframe thead th {\n",
       "        text-align: right;\n",
       "    }\n",
       "</style>\n",
       "<table border=\"1\" class=\"dataframe\">\n",
       "  <thead>\n",
       "    <tr style=\"text-align: right;\">\n",
       "      <th></th>\n",
       "      <th>InvoiceNo</th>\n",
       "      <th>StockCode</th>\n",
       "      <th>Description</th>\n",
       "      <th>Quantity</th>\n",
       "      <th>InvoiceDate</th>\n",
       "      <th>UnitPrice</th>\n",
       "      <th>CustomerID</th>\n",
       "      <th>Country</th>\n",
       "    </tr>\n",
       "  </thead>\n",
       "  <tbody>\n",
       "    <tr>\n",
       "      <th>160569</th>\n",
       "      <td>550464</td>\n",
       "      <td>22367</td>\n",
       "      <td>CHILDRENS APRON SPACEBOY DESIGN</td>\n",
       "      <td>3</td>\n",
       "      <td>2011-04-18 13:30:00</td>\n",
       "      <td>1.95</td>\n",
       "      <td>16550</td>\n",
       "      <td>United Kingdom</td>\n",
       "    </tr>\n",
       "    <tr>\n",
       "      <th>43410</th>\n",
       "      <td>540033</td>\n",
       "      <td>22644</td>\n",
       "      <td>CERAMIC CHERRY CAKE MONEY BANK</td>\n",
       "      <td>4</td>\n",
       "      <td>2011-01-04 14:12:00</td>\n",
       "      <td>1.45</td>\n",
       "      <td>13680</td>\n",
       "      <td>United Kingdom</td>\n",
       "    </tr>\n",
       "    <tr>\n",
       "      <th>269191</th>\n",
       "      <td>560437</td>\n",
       "      <td>23322</td>\n",
       "      <td>LARGE WHITE HEART OF WICKER</td>\n",
       "      <td>6</td>\n",
       "      <td>2011-07-18 16:05:00</td>\n",
       "      <td>2.95</td>\n",
       "      <td>13940</td>\n",
       "      <td>United Kingdom</td>\n",
       "    </tr>\n",
       "    <tr>\n",
       "      <th>521245</th>\n",
       "      <td>580351</td>\n",
       "      <td>22083</td>\n",
       "      <td>PAPER CHAIN KIT RETROSPOT</td>\n",
       "      <td>12</td>\n",
       "      <td>2011-12-02 15:55:00</td>\n",
       "      <td>2.95</td>\n",
       "      <td>12962</td>\n",
       "      <td>United Kingdom</td>\n",
       "    </tr>\n",
       "    <tr>\n",
       "      <th>438914</th>\n",
       "      <td>574341</td>\n",
       "      <td>21066</td>\n",
       "      <td>VINTAGE RED MUG</td>\n",
       "      <td>432</td>\n",
       "      <td>2011-11-04 10:09:00</td>\n",
       "      <td>0.80</td>\n",
       "      <td>18102</td>\n",
       "      <td>United Kingdom</td>\n",
       "    </tr>\n",
       "  </tbody>\n",
       "</table>\n",
       "</div>"
      ],
      "text/plain": [
       "       InvoiceNo StockCode                      Description  Quantity  \\\n",
       "160569    550464     22367  CHILDRENS APRON SPACEBOY DESIGN         3   \n",
       "43410     540033     22644   CERAMIC CHERRY CAKE MONEY BANK         4   \n",
       "269191    560437     23322      LARGE WHITE HEART OF WICKER         6   \n",
       "521245    580351     22083        PAPER CHAIN KIT RETROSPOT        12   \n",
       "438914    574341     21066                  VINTAGE RED MUG       432   \n",
       "\n",
       "               InvoiceDate  UnitPrice CustomerID         Country  \n",
       "160569 2011-04-18 13:30:00       1.95      16550  United Kingdom  \n",
       "43410  2011-01-04 14:12:00       1.45      13680  United Kingdom  \n",
       "269191 2011-07-18 16:05:00       2.95      13940  United Kingdom  \n",
       "521245 2011-12-02 15:55:00       2.95      12962  United Kingdom  \n",
       "438914 2011-11-04 10:09:00       0.80      18102  United Kingdom  "
      ]
     },
     "execution_count": 92,
     "metadata": {},
     "output_type": "execute_result"
    }
   ],
   "source": [
    "ecom.sample(5)"
   ]
  },
  {
   "cell_type": "code",
   "execution_count": 98,
   "id": "c4629376",
   "metadata": {},
   "outputs": [
    {
     "data": {
      "text/plain": [
       "CustomerID\n",
       "14911    248\n",
       "12748    224\n",
       "17841    169\n",
       "14606    128\n",
       "13089    118\n",
       "Name: InvoiceNo, dtype: int64"
      ]
     },
     "execution_count": 98,
     "metadata": {},
     "output_type": "execute_result"
    }
   ],
   "source": [
    "customer_transactions=ecom.groupby('CustomerID')['InvoiceNo'].nunique()\n",
    "customer_transactions.sort_values(ascending=False).head(5)"
   ]
  },
  {
   "cell_type": "code",
   "execution_count": null,
   "id": "cee2bc24",
   "metadata": {},
   "outputs": [],
   "source": []
  }
 ],
 "metadata": {
  "kernelspec": {
   "display_name": "Python 3 (ipykernel)",
   "language": "python",
   "name": "python3"
  },
  "language_info": {
   "codemirror_mode": {
    "name": "ipython",
    "version": 3
   },
   "file_extension": ".py",
   "mimetype": "text/x-python",
   "name": "python",
   "nbconvert_exporter": "python",
   "pygments_lexer": "ipython3",
   "version": "3.9.13"
  }
 },
 "nbformat": 4,
 "nbformat_minor": 5
}
