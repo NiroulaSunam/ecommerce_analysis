{
 "cells": [
  {
   "cell_type": "markdown",
   "id": "eca589c7",
   "metadata": {},
   "source": [
    "## Import necessary libraries"
   ]
  },
  {
   "cell_type": "code",
   "execution_count": 139,
   "id": "b45a5cdf",
   "metadata": {},
   "outputs": [],
   "source": [
    "import pandas as pd\n",
    "import numpy as np\n",
    "import matplotlib.pyplot as plt\n",
    "import seaborn as sn"
   ]
  },
  {
   "cell_type": "markdown",
   "id": "ada6b744",
   "metadata": {},
   "source": [
    "Import ecommerce 'data.csv' file and a bit of information about the dataset"
   ]
  },
  {
   "cell_type": "code",
   "execution_count": 3,
   "id": "71cbd0c9",
   "metadata": {},
   "outputs": [
    {
     "data": {
      "text/html": [
       "<div>\n",
       "<style scoped>\n",
       "    .dataframe tbody tr th:only-of-type {\n",
       "        vertical-align: middle;\n",
       "    }\n",
       "\n",
       "    .dataframe tbody tr th {\n",
       "        vertical-align: top;\n",
       "    }\n",
       "\n",
       "    .dataframe thead th {\n",
       "        text-align: right;\n",
       "    }\n",
       "</style>\n",
       "<table border=\"1\" class=\"dataframe\">\n",
       "  <thead>\n",
       "    <tr style=\"text-align: right;\">\n",
       "      <th></th>\n",
       "      <th>InvoiceNo</th>\n",
       "      <th>StockCode</th>\n",
       "      <th>Description</th>\n",
       "      <th>Quantity</th>\n",
       "      <th>InvoiceDate</th>\n",
       "      <th>UnitPrice</th>\n",
       "      <th>CustomerID</th>\n",
       "      <th>Country</th>\n",
       "    </tr>\n",
       "  </thead>\n",
       "  <tbody>\n",
       "    <tr>\n",
       "      <th>28644</th>\n",
       "      <td>538652</td>\n",
       "      <td>72802B</td>\n",
       "      <td>OCEAN SCENT CANDLE IN JEWELLED BOX</td>\n",
       "      <td>1</td>\n",
       "      <td>12/13/2010 15:12</td>\n",
       "      <td>4.25</td>\n",
       "      <td>17890</td>\n",
       "      <td>United Kingdom</td>\n",
       "    </tr>\n",
       "    <tr>\n",
       "      <th>478275</th>\n",
       "      <td>577078</td>\n",
       "      <td>22024</td>\n",
       "      <td>RAINY LADIES BIRTHDAY CARD</td>\n",
       "      <td>1</td>\n",
       "      <td>11/17/2011 15:17</td>\n",
       "      <td>0.83</td>\n",
       "      <td>NaN</td>\n",
       "      <td>United Kingdom</td>\n",
       "    </tr>\n",
       "    <tr>\n",
       "      <th>243899</th>\n",
       "      <td>558475</td>\n",
       "      <td>22251</td>\n",
       "      <td>BIRDHOUSE DECORATION MAGIC GARDEN</td>\n",
       "      <td>30</td>\n",
       "      <td>6/29/2011 15:58</td>\n",
       "      <td>0.83</td>\n",
       "      <td>NaN</td>\n",
       "      <td>United Kingdom</td>\n",
       "    </tr>\n",
       "    <tr>\n",
       "      <th>187545</th>\n",
       "      <td>552978</td>\n",
       "      <td>22900</td>\n",
       "      <td>SET 2 TEA TOWELS I LOVE LONDON</td>\n",
       "      <td>24</td>\n",
       "      <td>5/12/2011 14:46</td>\n",
       "      <td>2.95</td>\n",
       "      <td>12590</td>\n",
       "      <td>Germany</td>\n",
       "    </tr>\n",
       "    <tr>\n",
       "      <th>65537</th>\n",
       "      <td>541696</td>\n",
       "      <td>21221</td>\n",
       "      <td>SET/4 BADGES CUTE CREATURES</td>\n",
       "      <td>1</td>\n",
       "      <td>1/20/2011 18:08</td>\n",
       "      <td>0.83</td>\n",
       "      <td>NaN</td>\n",
       "      <td>United Kingdom</td>\n",
       "    </tr>\n",
       "  </tbody>\n",
       "</table>\n",
       "</div>"
      ],
      "text/plain": [
       "       InvoiceNo StockCode                         Description  Quantity  \\\n",
       "28644     538652    72802B  OCEAN SCENT CANDLE IN JEWELLED BOX         1   \n",
       "478275    577078     22024          RAINY LADIES BIRTHDAY CARD         1   \n",
       "243899    558475     22251   BIRDHOUSE DECORATION MAGIC GARDEN        30   \n",
       "187545    552978     22900     SET 2 TEA TOWELS I LOVE LONDON         24   \n",
       "65537     541696     21221         SET/4 BADGES CUTE CREATURES         1   \n",
       "\n",
       "             InvoiceDate  UnitPrice CustomerID         Country  \n",
       "28644   12/13/2010 15:12       4.25      17890  United Kingdom  \n",
       "478275  11/17/2011 15:17       0.83        NaN  United Kingdom  \n",
       "243899   6/29/2011 15:58       0.83        NaN  United Kingdom  \n",
       "187545   5/12/2011 14:46       2.95      12590         Germany  \n",
       "65537    1/20/2011 18:08       0.83        NaN  United Kingdom  "
      ]
     },
     "execution_count": 3,
     "metadata": {},
     "output_type": "execute_result"
    }
   ],
   "source": [
    "ecom=pd.read_csv('data.csv',encoding=\"ISO-8859-1\",\n",
    "                 dtype={'CustomerID': str,'InvoiceID': str})\n",
    "ecom.sample(5)"
   ]
  },
  {
   "cell_type": "code",
   "execution_count": 4,
   "id": "c5a1bd08",
   "metadata": {},
   "outputs": [
    {
     "data": {
      "text/plain": [
       "(541909, 8)"
      ]
     },
     "execution_count": 4,
     "metadata": {},
     "output_type": "execute_result"
    }
   ],
   "source": [
    "ecom.shape"
   ]
  },
  {
   "cell_type": "code",
   "execution_count": 5,
   "id": "07e19eb2",
   "metadata": {},
   "outputs": [
    {
     "data": {
      "text/html": [
       "<div>\n",
       "<style scoped>\n",
       "    .dataframe tbody tr th:only-of-type {\n",
       "        vertical-align: middle;\n",
       "    }\n",
       "\n",
       "    .dataframe tbody tr th {\n",
       "        vertical-align: top;\n",
       "    }\n",
       "\n",
       "    .dataframe thead th {\n",
       "        text-align: right;\n",
       "    }\n",
       "</style>\n",
       "<table border=\"1\" class=\"dataframe\">\n",
       "  <thead>\n",
       "    <tr style=\"text-align: right;\">\n",
       "      <th></th>\n",
       "      <th>Quantity</th>\n",
       "      <th>UnitPrice</th>\n",
       "    </tr>\n",
       "  </thead>\n",
       "  <tbody>\n",
       "    <tr>\n",
       "      <th>count</th>\n",
       "      <td>541909.000000</td>\n",
       "      <td>541909.000000</td>\n",
       "    </tr>\n",
       "    <tr>\n",
       "      <th>mean</th>\n",
       "      <td>9.552250</td>\n",
       "      <td>4.611114</td>\n",
       "    </tr>\n",
       "    <tr>\n",
       "      <th>std</th>\n",
       "      <td>218.081158</td>\n",
       "      <td>96.759853</td>\n",
       "    </tr>\n",
       "    <tr>\n",
       "      <th>min</th>\n",
       "      <td>-80995.000000</td>\n",
       "      <td>-11062.060000</td>\n",
       "    </tr>\n",
       "    <tr>\n",
       "      <th>25%</th>\n",
       "      <td>1.000000</td>\n",
       "      <td>1.250000</td>\n",
       "    </tr>\n",
       "    <tr>\n",
       "      <th>50%</th>\n",
       "      <td>3.000000</td>\n",
       "      <td>2.080000</td>\n",
       "    </tr>\n",
       "    <tr>\n",
       "      <th>75%</th>\n",
       "      <td>10.000000</td>\n",
       "      <td>4.130000</td>\n",
       "    </tr>\n",
       "    <tr>\n",
       "      <th>max</th>\n",
       "      <td>80995.000000</td>\n",
       "      <td>38970.000000</td>\n",
       "    </tr>\n",
       "  </tbody>\n",
       "</table>\n",
       "</div>"
      ],
      "text/plain": [
       "            Quantity      UnitPrice\n",
       "count  541909.000000  541909.000000\n",
       "mean        9.552250       4.611114\n",
       "std       218.081158      96.759853\n",
       "min    -80995.000000  -11062.060000\n",
       "25%         1.000000       1.250000\n",
       "50%         3.000000       2.080000\n",
       "75%        10.000000       4.130000\n",
       "max     80995.000000   38970.000000"
      ]
     },
     "execution_count": 5,
     "metadata": {},
     "output_type": "execute_result"
    }
   ],
   "source": [
    "ecom.describe()"
   ]
  },
  {
   "cell_type": "code",
   "execution_count": 6,
   "id": "c50bab92",
   "metadata": {},
   "outputs": [
    {
     "name": "stdout",
     "output_type": "stream",
     "text": [
      "<class 'pandas.core.frame.DataFrame'>\n",
      "RangeIndex: 541909 entries, 0 to 541908\n",
      "Data columns (total 8 columns):\n",
      " #   Column       Non-Null Count   Dtype  \n",
      "---  ------       --------------   -----  \n",
      " 0   InvoiceNo    541909 non-null  object \n",
      " 1   StockCode    541909 non-null  object \n",
      " 2   Description  540455 non-null  object \n",
      " 3   Quantity     541909 non-null  int64  \n",
      " 4   InvoiceDate  541909 non-null  object \n",
      " 5   UnitPrice    541909 non-null  float64\n",
      " 6   CustomerID   406829 non-null  object \n",
      " 7   Country      541909 non-null  object \n",
      "dtypes: float64(1), int64(1), object(6)\n",
      "memory usage: 33.1+ MB\n"
     ]
    }
   ],
   "source": [
    "ecom.info()"
   ]
  },
  {
   "cell_type": "markdown",
   "id": "ffd10663",
   "metadata": {},
   "source": [
    "## Inspect and Handle Missing values, duplicates, and outliers"
   ]
  },
  {
   "cell_type": "code",
   "execution_count": 7,
   "id": "02d16baf",
   "metadata": {},
   "outputs": [
    {
     "data": {
      "text/plain": [
       "InvoiceNo           0\n",
       "StockCode           0\n",
       "Description      1454\n",
       "Quantity            0\n",
       "InvoiceDate         0\n",
       "UnitPrice           0\n",
       "CustomerID     135080\n",
       "Country             0\n",
       "dtype: int64"
      ]
     },
     "execution_count": 7,
     "metadata": {},
     "output_type": "execute_result"
    }
   ],
   "source": [
    "ecom.isnull().sum()"
   ]
  },
  {
   "cell_type": "markdown",
   "id": "c2c5bca5",
   "metadata": {},
   "source": [
    "Here, we see that CustomerID and Description have null values. Description is not as important for now, so we leave it be.\n",
    "\n",
    "CustomerID is the key value to identify the customers, so we delete all the CustomerIds whose value is null."
   ]
  },
  {
   "cell_type": "code",
   "execution_count": 8,
   "id": "d2685d2b",
   "metadata": {},
   "outputs": [
    {
     "data": {
      "text/plain": [
       "(406829, 8)"
      ]
     },
     "execution_count": 8,
     "metadata": {},
     "output_type": "execute_result"
    }
   ],
   "source": [
    "ecom.dropna(subset=['CustomerID'],axis=0,inplace=True)\n",
    "ecom.shape"
   ]
  },
  {
   "cell_type": "code",
   "execution_count": 9,
   "id": "fd7b2cb8",
   "metadata": {},
   "outputs": [
    {
     "data": {
      "text/plain": [
       "(401604, 8)"
      ]
     },
     "execution_count": 9,
     "metadata": {},
     "output_type": "execute_result"
    }
   ],
   "source": [
    "ecom.drop_duplicates(inplace=True)\n",
    "ecom.shape"
   ]
  },
  {
   "cell_type": "markdown",
   "id": "b4511b89",
   "metadata": {},
   "source": [
    "## Number of customers per Country"
   ]
  },
  {
   "cell_type": "code",
   "execution_count": 10,
   "id": "a2ba8e3b",
   "metadata": {},
   "outputs": [
    {
     "name": "stdout",
     "output_type": "stream",
     "text": [
      "Saudi Arabia                10\n",
      "Bahrain                     17\n",
      "Czech Republic              30\n",
      "Brazil                      32\n",
      "Lithuania                   35\n",
      "Lebanon                     45\n",
      "RSA                         58\n",
      "European Community          61\n",
      "United Arab Emirates        68\n",
      "Malta                      127\n",
      "Greece                     146\n",
      "Canada                     151\n",
      "Iceland                    182\n",
      "Singapore                  229\n",
      "Unspecified                241\n",
      "Israel                     247\n",
      "USA                        291\n",
      "Poland                     341\n",
      "Japan                      358\n",
      "Denmark                    389\n",
      "Austria                    401\n",
      "Sweden                     461\n",
      "Cyprus                     611\n",
      "Finland                    695\n",
      "Channel Islands            757\n",
      "Italy                      803\n",
      "Norway                    1086\n",
      "Australia                 1258\n",
      "Portugal                  1471\n",
      "Switzerland               1877\n",
      "Belgium                   2069\n",
      "Netherlands               2371\n",
      "Spain                     2528\n",
      "EIRE                      7475\n",
      "France                    8475\n",
      "Germany                   9480\n",
      "United Kingdom          356728\n",
      "Name: Country, dtype: int64\n"
     ]
    }
   ],
   "source": [
    "country_counts = ecom['Country'].value_counts()\n",
    "print(country_counts.sort_values(ascending=True))"
   ]
  },
  {
   "cell_type": "markdown",
   "id": "88d9e0ff",
   "metadata": {},
   "source": [
    "## Total no. of products"
   ]
  },
  {
   "cell_type": "code",
   "execution_count": 11,
   "id": "69adbed8",
   "metadata": {},
   "outputs": [
    {
     "data": {
      "text/plain": [
       "3684"
      ]
     },
     "execution_count": 11,
     "metadata": {},
     "output_type": "execute_result"
    }
   ],
   "source": [
    "ecom['StockCode'].nunique()"
   ]
  },
  {
   "cell_type": "markdown",
   "id": "8640bd76",
   "metadata": {},
   "source": [
    "## Which was the most sold Product?"
   ]
  },
  {
   "cell_type": "code",
   "execution_count": 12,
   "id": "32951f82",
   "metadata": {},
   "outputs": [
    {
     "data": {
      "text/plain": [
       "85123A    2065\n",
       "22423     1894\n",
       "85099B    1659\n",
       "47566     1409\n",
       "84879     1405\n",
       "          ... \n",
       "90104        1\n",
       "90135        1\n",
       "90027D       1\n",
       "90027A       1\n",
       "84746        1\n",
       "Name: StockCode, Length: 3684, dtype: int64"
      ]
     },
     "execution_count": 12,
     "metadata": {},
     "output_type": "execute_result"
    }
   ],
   "source": [
    "value_counts = ecom['StockCode'].value_counts()\n",
    "value_counts"
   ]
  },
  {
   "cell_type": "code",
   "execution_count": 13,
   "id": "ee844e7c",
   "metadata": {
    "scrolled": true
   },
   "outputs": [
    {
     "name": "stdout",
     "output_type": "stream",
     "text": [
      "The most sold product 85123A was sold 2065 times\n"
     ]
    }
   ],
   "source": [
    "mode_values = ecom['StockCode'].mode()\n",
    "for mode in mode_values:\n",
    "    frequency = value_counts[mode]\n",
    "    print(f\"The most sold product {mode} was sold {frequency} times\")"
   ]
  },
  {
   "cell_type": "code",
   "execution_count": 14,
   "id": "45237c34",
   "metadata": {
    "scrolled": true
   },
   "outputs": [
    {
     "data": {
      "text/plain": [
       "0    85123A\n",
       "Name: StockCode, dtype: object"
      ]
     },
     "execution_count": 14,
     "metadata": {},
     "output_type": "execute_result"
    }
   ],
   "source": [
    "ecom['StockCode'].mode()"
   ]
  },
  {
   "cell_type": "markdown",
   "id": "f87ea918",
   "metadata": {},
   "source": [
    "## Which was the least sold product?"
   ]
  },
  {
   "cell_type": "code",
   "execution_count": 15,
   "id": "348153e5",
   "metadata": {},
   "outputs": [
    {
     "name": "stdout",
     "output_type": "stream",
     "text": [
      "The least sold product 90125E was sold 1 times\n"
     ]
    }
   ],
   "source": [
    "least_val = value_counts.idxmin()\n",
    "least_val_count = value_counts.min()\n",
    "print(f\"The least sold product {least_val} was sold {least_val_count} times\")"
   ]
  },
  {
   "cell_type": "code",
   "execution_count": 16,
   "id": "fa9daf6b",
   "metadata": {},
   "outputs": [
    {
     "data": {
      "text/plain": [
       "'90125E'"
      ]
     },
     "execution_count": 16,
     "metadata": {},
     "output_type": "execute_result"
    }
   ],
   "source": [
    "value_counts.idxmin()"
   ]
  },
  {
   "cell_type": "markdown",
   "id": "75336aea",
   "metadata": {},
   "source": [
    "## No. of Customers"
   ]
  },
  {
   "cell_type": "code",
   "execution_count": 17,
   "id": "a961e511",
   "metadata": {},
   "outputs": [
    {
     "data": {
      "text/plain": [
       "4372"
      ]
     },
     "execution_count": 17,
     "metadata": {},
     "output_type": "execute_result"
    }
   ],
   "source": [
    "ecom['CustomerID'].nunique()"
   ]
  },
  {
   "cell_type": "markdown",
   "id": "69876cce",
   "metadata": {},
   "source": [
    "## How many succesful transactions were there and how many transactions was cancelled?"
   ]
  },
  {
   "cell_type": "code",
   "execution_count": 18,
   "id": "0531316b",
   "metadata": {},
   "outputs": [
    {
     "data": {
      "text/html": [
       "<div>\n",
       "<style scoped>\n",
       "    .dataframe tbody tr th:only-of-type {\n",
       "        vertical-align: middle;\n",
       "    }\n",
       "\n",
       "    .dataframe tbody tr th {\n",
       "        vertical-align: top;\n",
       "    }\n",
       "\n",
       "    .dataframe thead th {\n",
       "        text-align: right;\n",
       "    }\n",
       "</style>\n",
       "<table border=\"1\" class=\"dataframe\">\n",
       "  <thead>\n",
       "    <tr style=\"text-align: right;\">\n",
       "      <th></th>\n",
       "      <th>InvoiceNo</th>\n",
       "      <th>StockCode</th>\n",
       "      <th>Description</th>\n",
       "      <th>Quantity</th>\n",
       "      <th>InvoiceDate</th>\n",
       "      <th>UnitPrice</th>\n",
       "      <th>CustomerID</th>\n",
       "      <th>Country</th>\n",
       "    </tr>\n",
       "  </thead>\n",
       "  <tbody>\n",
       "    <tr>\n",
       "      <th>141</th>\n",
       "      <td>C536379</td>\n",
       "      <td>D</td>\n",
       "      <td>Discount</td>\n",
       "      <td>-1</td>\n",
       "      <td>12/1/2010 9:41</td>\n",
       "      <td>27.50</td>\n",
       "      <td>14527</td>\n",
       "      <td>United Kingdom</td>\n",
       "    </tr>\n",
       "    <tr>\n",
       "      <th>154</th>\n",
       "      <td>C536383</td>\n",
       "      <td>35004C</td>\n",
       "      <td>SET OF 3 COLOURED  FLYING DUCKS</td>\n",
       "      <td>-1</td>\n",
       "      <td>12/1/2010 9:49</td>\n",
       "      <td>4.65</td>\n",
       "      <td>15311</td>\n",
       "      <td>United Kingdom</td>\n",
       "    </tr>\n",
       "    <tr>\n",
       "      <th>235</th>\n",
       "      <td>C536391</td>\n",
       "      <td>22556</td>\n",
       "      <td>PLASTERS IN TIN CIRCUS PARADE</td>\n",
       "      <td>-12</td>\n",
       "      <td>12/1/2010 10:24</td>\n",
       "      <td>1.65</td>\n",
       "      <td>17548</td>\n",
       "      <td>United Kingdom</td>\n",
       "    </tr>\n",
       "    <tr>\n",
       "      <th>236</th>\n",
       "      <td>C536391</td>\n",
       "      <td>21984</td>\n",
       "      <td>PACK OF 12 PINK PAISLEY TISSUES</td>\n",
       "      <td>-24</td>\n",
       "      <td>12/1/2010 10:24</td>\n",
       "      <td>0.29</td>\n",
       "      <td>17548</td>\n",
       "      <td>United Kingdom</td>\n",
       "    </tr>\n",
       "    <tr>\n",
       "      <th>237</th>\n",
       "      <td>C536391</td>\n",
       "      <td>21983</td>\n",
       "      <td>PACK OF 12 BLUE PAISLEY TISSUES</td>\n",
       "      <td>-24</td>\n",
       "      <td>12/1/2010 10:24</td>\n",
       "      <td>0.29</td>\n",
       "      <td>17548</td>\n",
       "      <td>United Kingdom</td>\n",
       "    </tr>\n",
       "    <tr>\n",
       "      <th>...</th>\n",
       "      <td>...</td>\n",
       "      <td>...</td>\n",
       "      <td>...</td>\n",
       "      <td>...</td>\n",
       "      <td>...</td>\n",
       "      <td>...</td>\n",
       "      <td>...</td>\n",
       "      <td>...</td>\n",
       "    </tr>\n",
       "    <tr>\n",
       "      <th>540449</th>\n",
       "      <td>C581490</td>\n",
       "      <td>23144</td>\n",
       "      <td>ZINC T-LIGHT HOLDER STARS SMALL</td>\n",
       "      <td>-11</td>\n",
       "      <td>12/9/2011 9:57</td>\n",
       "      <td>0.83</td>\n",
       "      <td>14397</td>\n",
       "      <td>United Kingdom</td>\n",
       "    </tr>\n",
       "    <tr>\n",
       "      <th>541541</th>\n",
       "      <td>C581499</td>\n",
       "      <td>M</td>\n",
       "      <td>Manual</td>\n",
       "      <td>-1</td>\n",
       "      <td>12/9/2011 10:28</td>\n",
       "      <td>224.69</td>\n",
       "      <td>15498</td>\n",
       "      <td>United Kingdom</td>\n",
       "    </tr>\n",
       "    <tr>\n",
       "      <th>541715</th>\n",
       "      <td>C581568</td>\n",
       "      <td>21258</td>\n",
       "      <td>VICTORIAN SEWING BOX LARGE</td>\n",
       "      <td>-5</td>\n",
       "      <td>12/9/2011 11:57</td>\n",
       "      <td>10.95</td>\n",
       "      <td>15311</td>\n",
       "      <td>United Kingdom</td>\n",
       "    </tr>\n",
       "    <tr>\n",
       "      <th>541716</th>\n",
       "      <td>C581569</td>\n",
       "      <td>84978</td>\n",
       "      <td>HANGING HEART JAR T-LIGHT HOLDER</td>\n",
       "      <td>-1</td>\n",
       "      <td>12/9/2011 11:58</td>\n",
       "      <td>1.25</td>\n",
       "      <td>17315</td>\n",
       "      <td>United Kingdom</td>\n",
       "    </tr>\n",
       "    <tr>\n",
       "      <th>541717</th>\n",
       "      <td>C581569</td>\n",
       "      <td>20979</td>\n",
       "      <td>36 PENCILS TUBE RED RETROSPOT</td>\n",
       "      <td>-5</td>\n",
       "      <td>12/9/2011 11:58</td>\n",
       "      <td>1.25</td>\n",
       "      <td>17315</td>\n",
       "      <td>United Kingdom</td>\n",
       "    </tr>\n",
       "  </tbody>\n",
       "</table>\n",
       "<p>8872 rows × 8 columns</p>\n",
       "</div>"
      ],
      "text/plain": [
       "       InvoiceNo StockCode                       Description  Quantity  \\\n",
       "141      C536379         D                          Discount        -1   \n",
       "154      C536383    35004C   SET OF 3 COLOURED  FLYING DUCKS        -1   \n",
       "235      C536391     22556    PLASTERS IN TIN CIRCUS PARADE        -12   \n",
       "236      C536391     21984  PACK OF 12 PINK PAISLEY TISSUES        -24   \n",
       "237      C536391     21983  PACK OF 12 BLUE PAISLEY TISSUES        -24   \n",
       "...          ...       ...                               ...       ...   \n",
       "540449   C581490     23144   ZINC T-LIGHT HOLDER STARS SMALL       -11   \n",
       "541541   C581499         M                            Manual        -1   \n",
       "541715   C581568     21258        VICTORIAN SEWING BOX LARGE        -5   \n",
       "541716   C581569     84978  HANGING HEART JAR T-LIGHT HOLDER        -1   \n",
       "541717   C581569     20979     36 PENCILS TUBE RED RETROSPOT        -5   \n",
       "\n",
       "            InvoiceDate  UnitPrice CustomerID         Country  \n",
       "141      12/1/2010 9:41      27.50      14527  United Kingdom  \n",
       "154      12/1/2010 9:49       4.65      15311  United Kingdom  \n",
       "235     12/1/2010 10:24       1.65      17548  United Kingdom  \n",
       "236     12/1/2010 10:24       0.29      17548  United Kingdom  \n",
       "237     12/1/2010 10:24       0.29      17548  United Kingdom  \n",
       "...                 ...        ...        ...             ...  \n",
       "540449   12/9/2011 9:57       0.83      14397  United Kingdom  \n",
       "541541  12/9/2011 10:28     224.69      15498  United Kingdom  \n",
       "541715  12/9/2011 11:57      10.95      15311  United Kingdom  \n",
       "541716  12/9/2011 11:58       1.25      17315  United Kingdom  \n",
       "541717  12/9/2011 11:58       1.25      17315  United Kingdom  \n",
       "\n",
       "[8872 rows x 8 columns]"
      ]
     },
     "execution_count": 18,
     "metadata": {},
     "output_type": "execute_result"
    }
   ],
   "source": [
    "sample = ecom[ecom['InvoiceNo'].astype(str).str.len() != 6].copy()\n",
    "sample"
   ]
  },
  {
   "cell_type": "markdown",
   "id": "a0845fea",
   "metadata": {},
   "source": [
    "Here, the InvoiceNo. starting from C are all cancelled transaction. Hence, we can differentiate the succesful and cancelled transactions by follows:"
   ]
  },
  {
   "cell_type": "code",
   "execution_count": 19,
   "id": "2cb3ad6b",
   "metadata": {},
   "outputs": [
    {
     "name": "stdout",
     "output_type": "stream",
     "text": [
      "No. of succesful transactions : 392732\n",
      "No. of cancelled transactions : 8872\n"
     ]
    }
   ],
   "source": [
    "s_tr = 0\n",
    "c_tr = 0\n",
    "for i in ecom['InvoiceNo']:\n",
    "    if len(i) == 6:\n",
    "        s_tr += 1\n",
    "    elif i[0] == 'C' :\n",
    "        c_tr += 1\n",
    "print(f\"No. of succesful transactions : {s_tr}\")\n",
    "print(f\"No. of cancelled transactions : {c_tr}\")"
   ]
  },
  {
   "cell_type": "markdown",
   "id": "beac5953",
   "metadata": {},
   "source": [
    "## Which day had the maximum number of transactions?"
   ]
  },
  {
   "cell_type": "code",
   "execution_count": 22,
   "id": "dd9f6d21",
   "metadata": {},
   "outputs": [
    {
     "data": {
      "text/html": [
       "<div>\n",
       "<style scoped>\n",
       "    .dataframe tbody tr th:only-of-type {\n",
       "        vertical-align: middle;\n",
       "    }\n",
       "\n",
       "    .dataframe tbody tr th {\n",
       "        vertical-align: top;\n",
       "    }\n",
       "\n",
       "    .dataframe thead th {\n",
       "        text-align: right;\n",
       "    }\n",
       "</style>\n",
       "<table border=\"1\" class=\"dataframe\">\n",
       "  <thead>\n",
       "    <tr style=\"text-align: right;\">\n",
       "      <th></th>\n",
       "      <th>InvoiceNo</th>\n",
       "      <th>StockCode</th>\n",
       "      <th>Description</th>\n",
       "      <th>Quantity</th>\n",
       "      <th>InvoiceDate</th>\n",
       "      <th>UnitPrice</th>\n",
       "      <th>CustomerID</th>\n",
       "      <th>Country</th>\n",
       "    </tr>\n",
       "  </thead>\n",
       "  <tbody>\n",
       "    <tr>\n",
       "      <th>285787</th>\n",
       "      <td>561923</td>\n",
       "      <td>22456</td>\n",
       "      <td>NATURAL SLATE CHALKBOARD LARGE</td>\n",
       "      <td>3</td>\n",
       "      <td>8/1/2011 12:16</td>\n",
       "      <td>4.95</td>\n",
       "      <td>14112</td>\n",
       "      <td>United Kingdom</td>\n",
       "    </tr>\n",
       "    <tr>\n",
       "      <th>389311</th>\n",
       "      <td>570466</td>\n",
       "      <td>23372</td>\n",
       "      <td>SET 36 COLOUR PENCILS DOLLY GIRL</td>\n",
       "      <td>3</td>\n",
       "      <td>10/10/2011 16:03</td>\n",
       "      <td>1.25</td>\n",
       "      <td>16791</td>\n",
       "      <td>United Kingdom</td>\n",
       "    </tr>\n",
       "    <tr>\n",
       "      <th>425518</th>\n",
       "      <td>573328</td>\n",
       "      <td>71477</td>\n",
       "      <td>COLOUR GLASS. STAR T-LIGHT HOLDER</td>\n",
       "      <td>2</td>\n",
       "      <td>10/30/2011 11:09</td>\n",
       "      <td>3.95</td>\n",
       "      <td>16601</td>\n",
       "      <td>United Kingdom</td>\n",
       "    </tr>\n",
       "    <tr>\n",
       "      <th>185663</th>\n",
       "      <td>552823</td>\n",
       "      <td>85132B</td>\n",
       "      <td>CHARLIE AND LOLA TABLE TINS</td>\n",
       "      <td>2</td>\n",
       "      <td>5/11/2011 13:06</td>\n",
       "      <td>1.95</td>\n",
       "      <td>14731</td>\n",
       "      <td>United Kingdom</td>\n",
       "    </tr>\n",
       "    <tr>\n",
       "      <th>197336</th>\n",
       "      <td>553897</td>\n",
       "      <td>46000U</td>\n",
       "      <td>POLYESTER FILLER PAD 30CMx30CM</td>\n",
       "      <td>2</td>\n",
       "      <td>5/19/2011 17:23</td>\n",
       "      <td>1.25</td>\n",
       "      <td>14911</td>\n",
       "      <td>EIRE</td>\n",
       "    </tr>\n",
       "  </tbody>\n",
       "</table>\n",
       "</div>"
      ],
      "text/plain": [
       "       InvoiceNo StockCode                        Description  Quantity  \\\n",
       "285787    561923     22456    NATURAL SLATE CHALKBOARD LARGE          3   \n",
       "389311    570466     23372   SET 36 COLOUR PENCILS DOLLY GIRL         3   \n",
       "425518    573328     71477  COLOUR GLASS. STAR T-LIGHT HOLDER         2   \n",
       "185663    552823    85132B        CHARLIE AND LOLA TABLE TINS         2   \n",
       "197336    553897    46000U     POLYESTER FILLER PAD 30CMx30CM         2   \n",
       "\n",
       "             InvoiceDate  UnitPrice CustomerID         Country  \n",
       "285787    8/1/2011 12:16       4.95      14112  United Kingdom  \n",
       "389311  10/10/2011 16:03       1.25      16791  United Kingdom  \n",
       "425518  10/30/2011 11:09       3.95      16601  United Kingdom  \n",
       "185663   5/11/2011 13:06       1.95      14731  United Kingdom  \n",
       "197336   5/19/2011 17:23       1.25      14911            EIRE  "
      ]
     },
     "execution_count": 22,
     "metadata": {},
     "output_type": "execute_result"
    }
   ],
   "source": [
    "ecom.sample(5)"
   ]
  },
  {
   "cell_type": "code",
   "execution_count": 23,
   "id": "22d755ee",
   "metadata": {},
   "outputs": [
    {
     "data": {
      "text/html": [
       "<div>\n",
       "<style scoped>\n",
       "    .dataframe tbody tr th:only-of-type {\n",
       "        vertical-align: middle;\n",
       "    }\n",
       "\n",
       "    .dataframe tbody tr th {\n",
       "        vertical-align: top;\n",
       "    }\n",
       "\n",
       "    .dataframe thead th {\n",
       "        text-align: right;\n",
       "    }\n",
       "</style>\n",
       "<table border=\"1\" class=\"dataframe\">\n",
       "  <thead>\n",
       "    <tr style=\"text-align: right;\">\n",
       "      <th></th>\n",
       "      <th>InvoiceNo</th>\n",
       "      <th>StockCode</th>\n",
       "      <th>Description</th>\n",
       "      <th>Quantity</th>\n",
       "      <th>InvoiceDate</th>\n",
       "      <th>UnitPrice</th>\n",
       "      <th>CustomerID</th>\n",
       "      <th>Country</th>\n",
       "    </tr>\n",
       "  </thead>\n",
       "  <tbody>\n",
       "    <tr>\n",
       "      <th>0</th>\n",
       "      <td>536365</td>\n",
       "      <td>85123A</td>\n",
       "      <td>WHITE HANGING HEART T-LIGHT HOLDER</td>\n",
       "      <td>6</td>\n",
       "      <td>2010-12-01 08:26:00</td>\n",
       "      <td>2.55</td>\n",
       "      <td>17850</td>\n",
       "      <td>United Kingdom</td>\n",
       "    </tr>\n",
       "    <tr>\n",
       "      <th>1</th>\n",
       "      <td>536365</td>\n",
       "      <td>71053</td>\n",
       "      <td>WHITE METAL LANTERN</td>\n",
       "      <td>6</td>\n",
       "      <td>2010-12-01 08:26:00</td>\n",
       "      <td>3.39</td>\n",
       "      <td>17850</td>\n",
       "      <td>United Kingdom</td>\n",
       "    </tr>\n",
       "    <tr>\n",
       "      <th>2</th>\n",
       "      <td>536365</td>\n",
       "      <td>84406B</td>\n",
       "      <td>CREAM CUPID HEARTS COAT HANGER</td>\n",
       "      <td>8</td>\n",
       "      <td>2010-12-01 08:26:00</td>\n",
       "      <td>2.75</td>\n",
       "      <td>17850</td>\n",
       "      <td>United Kingdom</td>\n",
       "    </tr>\n",
       "    <tr>\n",
       "      <th>3</th>\n",
       "      <td>536365</td>\n",
       "      <td>84029G</td>\n",
       "      <td>KNITTED UNION FLAG HOT WATER BOTTLE</td>\n",
       "      <td>6</td>\n",
       "      <td>2010-12-01 08:26:00</td>\n",
       "      <td>3.39</td>\n",
       "      <td>17850</td>\n",
       "      <td>United Kingdom</td>\n",
       "    </tr>\n",
       "    <tr>\n",
       "      <th>4</th>\n",
       "      <td>536365</td>\n",
       "      <td>84029E</td>\n",
       "      <td>RED WOOLLY HOTTIE WHITE HEART.</td>\n",
       "      <td>6</td>\n",
       "      <td>2010-12-01 08:26:00</td>\n",
       "      <td>3.39</td>\n",
       "      <td>17850</td>\n",
       "      <td>United Kingdom</td>\n",
       "    </tr>\n",
       "  </tbody>\n",
       "</table>\n",
       "</div>"
      ],
      "text/plain": [
       "  InvoiceNo StockCode                          Description  Quantity  \\\n",
       "0    536365    85123A   WHITE HANGING HEART T-LIGHT HOLDER         6   \n",
       "1    536365     71053                  WHITE METAL LANTERN         6   \n",
       "2    536365    84406B       CREAM CUPID HEARTS COAT HANGER         8   \n",
       "3    536365    84029G  KNITTED UNION FLAG HOT WATER BOTTLE         6   \n",
       "4    536365    84029E       RED WOOLLY HOTTIE WHITE HEART.         6   \n",
       "\n",
       "          InvoiceDate  UnitPrice CustomerID         Country  \n",
       "0 2010-12-01 08:26:00       2.55      17850  United Kingdom  \n",
       "1 2010-12-01 08:26:00       3.39      17850  United Kingdom  \n",
       "2 2010-12-01 08:26:00       2.75      17850  United Kingdom  \n",
       "3 2010-12-01 08:26:00       3.39      17850  United Kingdom  \n",
       "4 2010-12-01 08:26:00       3.39      17850  United Kingdom  "
      ]
     },
     "execution_count": 23,
     "metadata": {},
     "output_type": "execute_result"
    }
   ],
   "source": [
    "ecom['InvoiceDate'] = pd.to_datetime(ecom['InvoiceDate'])\n",
    "ecom.head()"
   ]
  },
  {
   "cell_type": "code",
   "execution_count": 25,
   "id": "69056ae4",
   "metadata": {},
   "outputs": [
    {
     "data": {
      "text/plain": [
       "InvoiceDate\n",
       "2010-12-01    1924\n",
       "2010-12-02    2003\n",
       "2010-12-03    1100\n",
       "2010-12-04       0\n",
       "2010-12-05    2619\n",
       "Freq: D, dtype: int64"
      ]
     },
     "execution_count": 25,
     "metadata": {},
     "output_type": "execute_result"
    }
   ],
   "source": [
    "transactions_per_day = ecom.groupby(pd.Grouper(key='InvoiceDate', freq='D')).size()\n",
    "transactions_per_day.head()"
   ]
  },
  {
   "cell_type": "code",
   "execution_count": 27,
   "id": "7408470b",
   "metadata": {},
   "outputs": [
    {
     "data": {
      "text/plain": [
       "3359"
      ]
     },
     "execution_count": 27,
     "metadata": {},
     "output_type": "execute_result"
    }
   ],
   "source": [
    "max_transactions = transactions_per_day.max()\n",
    "max_transactions"
   ]
  },
  {
   "cell_type": "code",
   "execution_count": 29,
   "id": "9e7cc12c",
   "metadata": {},
   "outputs": [
    {
     "name": "stdout",
     "output_type": "stream",
     "text": [
      "Hence the maximum transaction per day is :\n",
      "  InvoiceDate     0\n",
      "0  2011-12-05  3359\n"
     ]
    }
   ],
   "source": [
    "max_transactions_df = transactions_per_day[transactions_per_day == max_transactions].reset_index()\n",
    "print(f'Hence the maximum transaction per day is :')\n",
    "print(max_transactions_df)"
   ]
  },
  {
   "cell_type": "markdown",
   "id": "d9355f63",
   "metadata": {},
   "source": [
    "## Which year had the maximum number of transactions?"
   ]
  },
  {
   "cell_type": "code",
   "execution_count": 30,
   "id": "f2375dca",
   "metadata": {},
   "outputs": [
    {
     "data": {
      "text/html": [
       "<div>\n",
       "<style scoped>\n",
       "    .dataframe tbody tr th:only-of-type {\n",
       "        vertical-align: middle;\n",
       "    }\n",
       "\n",
       "    .dataframe tbody tr th {\n",
       "        vertical-align: top;\n",
       "    }\n",
       "\n",
       "    .dataframe thead th {\n",
       "        text-align: right;\n",
       "    }\n",
       "</style>\n",
       "<table border=\"1\" class=\"dataframe\">\n",
       "  <thead>\n",
       "    <tr style=\"text-align: right;\">\n",
       "      <th></th>\n",
       "      <th>InvoiceNo</th>\n",
       "      <th>StockCode</th>\n",
       "      <th>Description</th>\n",
       "      <th>Quantity</th>\n",
       "      <th>InvoiceDate</th>\n",
       "      <th>UnitPrice</th>\n",
       "      <th>CustomerID</th>\n",
       "      <th>Country</th>\n",
       "    </tr>\n",
       "  </thead>\n",
       "  <tbody>\n",
       "    <tr>\n",
       "      <th>246510</th>\n",
       "      <td>558704</td>\n",
       "      <td>21890</td>\n",
       "      <td>S/6 WOODEN SKITTLES IN COTTON BAG</td>\n",
       "      <td>12</td>\n",
       "      <td>2011-07-01 12:50:00</td>\n",
       "      <td>3.25</td>\n",
       "      <td>17505</td>\n",
       "      <td>United Kingdom</td>\n",
       "    </tr>\n",
       "    <tr>\n",
       "      <th>369117</th>\n",
       "      <td>569014</td>\n",
       "      <td>22577</td>\n",
       "      <td>WOODEN HEART CHRISTMAS SCANDINAVIAN</td>\n",
       "      <td>26</td>\n",
       "      <td>2011-09-30 09:05:00</td>\n",
       "      <td>0.29</td>\n",
       "      <td>18053</td>\n",
       "      <td>United Kingdom</td>\n",
       "    </tr>\n",
       "    <tr>\n",
       "      <th>506974</th>\n",
       "      <td>579163</td>\n",
       "      <td>22866</td>\n",
       "      <td>HAND WARMER SCOTTY DOG DESIGN</td>\n",
       "      <td>96</td>\n",
       "      <td>2011-11-28 13:59:00</td>\n",
       "      <td>1.85</td>\n",
       "      <td>15838</td>\n",
       "      <td>United Kingdom</td>\n",
       "    </tr>\n",
       "    <tr>\n",
       "      <th>395998</th>\n",
       "      <td>571054</td>\n",
       "      <td>22188</td>\n",
       "      <td>BLACK HEART CARD HOLDER</td>\n",
       "      <td>1</td>\n",
       "      <td>2011-10-13 13:58:00</td>\n",
       "      <td>3.95</td>\n",
       "      <td>14234</td>\n",
       "      <td>United Kingdom</td>\n",
       "    </tr>\n",
       "    <tr>\n",
       "      <th>437251</th>\n",
       "      <td>574278</td>\n",
       "      <td>23108</td>\n",
       "      <td>SET OF 10 LED DOLLY LIGHTS</td>\n",
       "      <td>2</td>\n",
       "      <td>2011-11-03 14:42:00</td>\n",
       "      <td>6.25</td>\n",
       "      <td>15814</td>\n",
       "      <td>United Kingdom</td>\n",
       "    </tr>\n",
       "  </tbody>\n",
       "</table>\n",
       "</div>"
      ],
      "text/plain": [
       "       InvoiceNo StockCode                          Description  Quantity  \\\n",
       "246510    558704     21890    S/6 WOODEN SKITTLES IN COTTON BAG        12   \n",
       "369117    569014     22577  WOODEN HEART CHRISTMAS SCANDINAVIAN        26   \n",
       "506974    579163     22866        HAND WARMER SCOTTY DOG DESIGN        96   \n",
       "395998    571054     22188              BLACK HEART CARD HOLDER         1   \n",
       "437251    574278     23108           SET OF 10 LED DOLLY LIGHTS         2   \n",
       "\n",
       "               InvoiceDate  UnitPrice CustomerID         Country  \n",
       "246510 2011-07-01 12:50:00       3.25      17505  United Kingdom  \n",
       "369117 2011-09-30 09:05:00       0.29      18053  United Kingdom  \n",
       "506974 2011-11-28 13:59:00       1.85      15838  United Kingdom  \n",
       "395998 2011-10-13 13:58:00       3.95      14234  United Kingdom  \n",
       "437251 2011-11-03 14:42:00       6.25      15814  United Kingdom  "
      ]
     },
     "execution_count": 30,
     "metadata": {},
     "output_type": "execute_result"
    }
   ],
   "source": [
    "ecom.sample(5)"
   ]
  },
  {
   "cell_type": "code",
   "execution_count": 32,
   "id": "77bf0cd6",
   "metadata": {},
   "outputs": [
    {
     "data": {
      "text/plain": [
       "InvoiceDate\n",
       "2010-12-31     26354\n",
       "2011-12-31    375250\n",
       "Freq: A-DEC, dtype: int64"
      ]
     },
     "execution_count": 32,
     "metadata": {},
     "output_type": "execute_result"
    }
   ],
   "source": [
    "transactions_per_year = ecom.groupby(pd.Grouper(key='InvoiceDate',freq='Y')).size()\n",
    "transactions_per_year"
   ]
  },
  {
   "cell_type": "code",
   "execution_count": 34,
   "id": "794bb7d5",
   "metadata": {},
   "outputs": [
    {
     "data": {
      "text/plain": [
       "375250"
      ]
     },
     "execution_count": 34,
     "metadata": {},
     "output_type": "execute_result"
    }
   ],
   "source": [
    "max_transactions = transactions_per_year.max()\n",
    "max_transactions"
   ]
  },
  {
   "cell_type": "code",
   "execution_count": 41,
   "id": "7f39fa89",
   "metadata": {},
   "outputs": [
    {
     "name": "stdout",
     "output_type": "stream",
     "text": [
      "Hence the maximum transactions per year is \n",
      "   InvoiceDate       0\n",
      "0  2011-12-31  375250\n"
     ]
    }
   ],
   "source": [
    "max_transactions_df = transactions_per_year[transactions_per_year == max_transactions].reset_index()\n",
    "print(f\"Hence the maximum transactions per year is \\n {max_transactions_df}\")"
   ]
  },
  {
   "cell_type": "markdown",
   "id": "35cc4116",
   "metadata": {},
   "source": [
    "## Which product got cancelled the maximum number of times?"
   ]
  },
  {
   "cell_type": "code",
   "execution_count": 52,
   "id": "79e3578f",
   "metadata": {},
   "outputs": [
    {
     "data": {
      "text/html": [
       "<div>\n",
       "<style scoped>\n",
       "    .dataframe tbody tr th:only-of-type {\n",
       "        vertical-align: middle;\n",
       "    }\n",
       "\n",
       "    .dataframe tbody tr th {\n",
       "        vertical-align: top;\n",
       "    }\n",
       "\n",
       "    .dataframe thead th {\n",
       "        text-align: right;\n",
       "    }\n",
       "</style>\n",
       "<table border=\"1\" class=\"dataframe\">\n",
       "  <thead>\n",
       "    <tr style=\"text-align: right;\">\n",
       "      <th></th>\n",
       "      <th>InvoiceNo</th>\n",
       "      <th>StockCode</th>\n",
       "      <th>Description</th>\n",
       "      <th>Quantity</th>\n",
       "      <th>InvoiceDate</th>\n",
       "      <th>UnitPrice</th>\n",
       "      <th>CustomerID</th>\n",
       "      <th>Country</th>\n",
       "    </tr>\n",
       "  </thead>\n",
       "  <tbody>\n",
       "    <tr>\n",
       "      <th>345089</th>\n",
       "      <td>567142</td>\n",
       "      <td>21731</td>\n",
       "      <td>RED TOADSTOOL LED NIGHT LIGHT</td>\n",
       "      <td>36</td>\n",
       "      <td>2011-09-16 14:55:00</td>\n",
       "      <td>1.65</td>\n",
       "      <td>14262</td>\n",
       "      <td>United Kingdom</td>\n",
       "    </tr>\n",
       "    <tr>\n",
       "      <th>340843</th>\n",
       "      <td>566721</td>\n",
       "      <td>22561</td>\n",
       "      <td>WOODEN SCHOOL COLOURING SET</td>\n",
       "      <td>12</td>\n",
       "      <td>2011-09-14 12:50:00</td>\n",
       "      <td>1.65</td>\n",
       "      <td>12921</td>\n",
       "      <td>United Kingdom</td>\n",
       "    </tr>\n",
       "    <tr>\n",
       "      <th>398905</th>\n",
       "      <td>571265</td>\n",
       "      <td>22866</td>\n",
       "      <td>HAND WARMER SCOTTY DOG DESIGN</td>\n",
       "      <td>2</td>\n",
       "      <td>2011-10-16 11:31:00</td>\n",
       "      <td>2.10</td>\n",
       "      <td>16674</td>\n",
       "      <td>United Kingdom</td>\n",
       "    </tr>\n",
       "    <tr>\n",
       "      <th>533877</th>\n",
       "      <td>581122</td>\n",
       "      <td>23076</td>\n",
       "      <td>ICE CREAM SUNDAE LIP GLOSS</td>\n",
       "      <td>24</td>\n",
       "      <td>2011-12-07 12:33:00</td>\n",
       "      <td>1.25</td>\n",
       "      <td>12839</td>\n",
       "      <td>United Kingdom</td>\n",
       "    </tr>\n",
       "    <tr>\n",
       "      <th>168248</th>\n",
       "      <td>551014</td>\n",
       "      <td>22399</td>\n",
       "      <td>MAGNETS PACK OF 4 CHILDHOOD MEMORY</td>\n",
       "      <td>12</td>\n",
       "      <td>2011-04-26 11:04:00</td>\n",
       "      <td>1.25</td>\n",
       "      <td>13209</td>\n",
       "      <td>United Kingdom</td>\n",
       "    </tr>\n",
       "  </tbody>\n",
       "</table>\n",
       "</div>"
      ],
      "text/plain": [
       "       InvoiceNo StockCode                         Description  Quantity  \\\n",
       "345089    567142     21731       RED TOADSTOOL LED NIGHT LIGHT        36   \n",
       "340843    566721     22561         WOODEN SCHOOL COLOURING SET        12   \n",
       "398905    571265     22866       HAND WARMER SCOTTY DOG DESIGN         2   \n",
       "533877    581122     23076          ICE CREAM SUNDAE LIP GLOSS        24   \n",
       "168248    551014     22399  MAGNETS PACK OF 4 CHILDHOOD MEMORY        12   \n",
       "\n",
       "               InvoiceDate  UnitPrice CustomerID         Country  \n",
       "345089 2011-09-16 14:55:00       1.65      14262  United Kingdom  \n",
       "340843 2011-09-14 12:50:00       1.65      12921  United Kingdom  \n",
       "398905 2011-10-16 11:31:00       2.10      16674  United Kingdom  \n",
       "533877 2011-12-07 12:33:00       1.25      12839  United Kingdom  \n",
       "168248 2011-04-26 11:04:00       1.25      13209  United Kingdom  "
      ]
     },
     "execution_count": 52,
     "metadata": {},
     "output_type": "execute_result"
    }
   ],
   "source": [
    "ecom.sample(5)"
   ]
  },
  {
   "cell_type": "code",
   "execution_count": 54,
   "id": "12d80098",
   "metadata": {},
   "outputs": [
    {
     "data": {
      "text/html": [
       "<div>\n",
       "<style scoped>\n",
       "    .dataframe tbody tr th:only-of-type {\n",
       "        vertical-align: middle;\n",
       "    }\n",
       "\n",
       "    .dataframe tbody tr th {\n",
       "        vertical-align: top;\n",
       "    }\n",
       "\n",
       "    .dataframe thead th {\n",
       "        text-align: right;\n",
       "    }\n",
       "</style>\n",
       "<table border=\"1\" class=\"dataframe\">\n",
       "  <thead>\n",
       "    <tr style=\"text-align: right;\">\n",
       "      <th></th>\n",
       "      <th>InvoiceNo</th>\n",
       "      <th>StockCode</th>\n",
       "      <th>Description</th>\n",
       "      <th>Quantity</th>\n",
       "      <th>InvoiceDate</th>\n",
       "      <th>UnitPrice</th>\n",
       "      <th>CustomerID</th>\n",
       "      <th>Country</th>\n",
       "    </tr>\n",
       "  </thead>\n",
       "  <tbody>\n",
       "    <tr>\n",
       "      <th>141</th>\n",
       "      <td>C536379</td>\n",
       "      <td>D</td>\n",
       "      <td>Discount</td>\n",
       "      <td>-1</td>\n",
       "      <td>2010-12-01 09:41:00</td>\n",
       "      <td>27.50</td>\n",
       "      <td>14527</td>\n",
       "      <td>United Kingdom</td>\n",
       "    </tr>\n",
       "    <tr>\n",
       "      <th>154</th>\n",
       "      <td>C536383</td>\n",
       "      <td>35004C</td>\n",
       "      <td>SET OF 3 COLOURED  FLYING DUCKS</td>\n",
       "      <td>-1</td>\n",
       "      <td>2010-12-01 09:49:00</td>\n",
       "      <td>4.65</td>\n",
       "      <td>15311</td>\n",
       "      <td>United Kingdom</td>\n",
       "    </tr>\n",
       "    <tr>\n",
       "      <th>235</th>\n",
       "      <td>C536391</td>\n",
       "      <td>22556</td>\n",
       "      <td>PLASTERS IN TIN CIRCUS PARADE</td>\n",
       "      <td>-12</td>\n",
       "      <td>2010-12-01 10:24:00</td>\n",
       "      <td>1.65</td>\n",
       "      <td>17548</td>\n",
       "      <td>United Kingdom</td>\n",
       "    </tr>\n",
       "    <tr>\n",
       "      <th>236</th>\n",
       "      <td>C536391</td>\n",
       "      <td>21984</td>\n",
       "      <td>PACK OF 12 PINK PAISLEY TISSUES</td>\n",
       "      <td>-24</td>\n",
       "      <td>2010-12-01 10:24:00</td>\n",
       "      <td>0.29</td>\n",
       "      <td>17548</td>\n",
       "      <td>United Kingdom</td>\n",
       "    </tr>\n",
       "    <tr>\n",
       "      <th>237</th>\n",
       "      <td>C536391</td>\n",
       "      <td>21983</td>\n",
       "      <td>PACK OF 12 BLUE PAISLEY TISSUES</td>\n",
       "      <td>-24</td>\n",
       "      <td>2010-12-01 10:24:00</td>\n",
       "      <td>0.29</td>\n",
       "      <td>17548</td>\n",
       "      <td>United Kingdom</td>\n",
       "    </tr>\n",
       "  </tbody>\n",
       "</table>\n",
       "</div>"
      ],
      "text/plain": [
       "    InvoiceNo StockCode                       Description  Quantity  \\\n",
       "141   C536379         D                          Discount        -1   \n",
       "154   C536383    35004C   SET OF 3 COLOURED  FLYING DUCKS        -1   \n",
       "235   C536391     22556    PLASTERS IN TIN CIRCUS PARADE        -12   \n",
       "236   C536391     21984  PACK OF 12 PINK PAISLEY TISSUES        -24   \n",
       "237   C536391     21983  PACK OF 12 BLUE PAISLEY TISSUES        -24   \n",
       "\n",
       "            InvoiceDate  UnitPrice CustomerID         Country  \n",
       "141 2010-12-01 09:41:00      27.50      14527  United Kingdom  \n",
       "154 2010-12-01 09:49:00       4.65      15311  United Kingdom  \n",
       "235 2010-12-01 10:24:00       1.65      17548  United Kingdom  \n",
       "236 2010-12-01 10:24:00       0.29      17548  United Kingdom  \n",
       "237 2010-12-01 10:24:00       0.29      17548  United Kingdom  "
      ]
     },
     "execution_count": 54,
     "metadata": {},
     "output_type": "execute_result"
    }
   ],
   "source": [
    "cancelled_trans = ecom[ecom['InvoiceNo'].str.startswith('C')]\n",
    "cancelled_trans.head()"
   ]
  },
  {
   "cell_type": "code",
   "execution_count": 55,
   "id": "627c3aa7",
   "metadata": {},
   "outputs": [
    {
     "data": {
      "text/plain": [
       "StockCode\n",
       "10133    1\n",
       "10135    1\n",
       "11001    5\n",
       "15034    4\n",
       "15036    4\n",
       "dtype: int64"
      ]
     },
     "execution_count": 55,
     "metadata": {},
     "output_type": "execute_result"
    }
   ],
   "source": [
    "cancelled_products = cancelled_trans.groupby('StockCode').size()\n",
    "cancelled_products.head()"
   ]
  },
  {
   "cell_type": "code",
   "execution_count": 57,
   "id": "2102b319",
   "metadata": {},
   "outputs": [
    {
     "data": {
      "text/plain": [
       "180"
      ]
     },
     "execution_count": 57,
     "metadata": {},
     "output_type": "execute_result"
    }
   ],
   "source": [
    "max_cancelled_product = cancelled_products.max()\n",
    "max_cancelled_product"
   ]
  },
  {
   "cell_type": "code",
   "execution_count": 62,
   "id": "72fb40b8",
   "metadata": {},
   "outputs": [
    {
     "name": "stdout",
     "output_type": "stream",
     "text": [
      "Hence, the maximum number of cancelled product is: \n",
      " StockCode\n",
      "22423    180\n",
      "dtype: int64\n"
     ]
    }
   ],
   "source": [
    "max_cancelled_product_df = cancelled_products[cancelled_products == max_cancelled_product]\n",
    "print(f\"Hence, the maximum number of cancelled product is: \\n {max_cancelled_product_df}\")"
   ]
  },
  {
   "cell_type": "markdown",
   "id": "3d523bbf",
   "metadata": {},
   "source": [
    "## Most Sold Product"
   ]
  },
  {
   "cell_type": "code",
   "execution_count": 63,
   "id": "8986f75a",
   "metadata": {},
   "outputs": [
    {
     "data": {
      "text/html": [
       "<div>\n",
       "<style scoped>\n",
       "    .dataframe tbody tr th:only-of-type {\n",
       "        vertical-align: middle;\n",
       "    }\n",
       "\n",
       "    .dataframe tbody tr th {\n",
       "        vertical-align: top;\n",
       "    }\n",
       "\n",
       "    .dataframe thead th {\n",
       "        text-align: right;\n",
       "    }\n",
       "</style>\n",
       "<table border=\"1\" class=\"dataframe\">\n",
       "  <thead>\n",
       "    <tr style=\"text-align: right;\">\n",
       "      <th></th>\n",
       "      <th>InvoiceNo</th>\n",
       "      <th>StockCode</th>\n",
       "      <th>Description</th>\n",
       "      <th>Quantity</th>\n",
       "      <th>InvoiceDate</th>\n",
       "      <th>UnitPrice</th>\n",
       "      <th>CustomerID</th>\n",
       "      <th>Country</th>\n",
       "    </tr>\n",
       "  </thead>\n",
       "  <tbody>\n",
       "    <tr>\n",
       "      <th>467089</th>\n",
       "      <td>576339</td>\n",
       "      <td>22246</td>\n",
       "      <td>MAGIC GARDEN FELT GARLAND</td>\n",
       "      <td>2</td>\n",
       "      <td>2011-11-14 15:27:00</td>\n",
       "      <td>4.13</td>\n",
       "      <td>14096</td>\n",
       "      <td>United Kingdom</td>\n",
       "    </tr>\n",
       "    <tr>\n",
       "      <th>527653</th>\n",
       "      <td>580727</td>\n",
       "      <td>21880</td>\n",
       "      <td>RED RETROSPOT TAPE</td>\n",
       "      <td>2</td>\n",
       "      <td>2011-12-05 17:17:00</td>\n",
       "      <td>0.42</td>\n",
       "      <td>14096</td>\n",
       "      <td>United Kingdom</td>\n",
       "    </tr>\n",
       "    <tr>\n",
       "      <th>296496</th>\n",
       "      <td>562912</td>\n",
       "      <td>22476</td>\n",
       "      <td>EMPIRE UNION JACK TV DINNER TRAY</td>\n",
       "      <td>1</td>\n",
       "      <td>2011-08-10 13:15:00</td>\n",
       "      <td>4.95</td>\n",
       "      <td>15311</td>\n",
       "      <td>United Kingdom</td>\n",
       "    </tr>\n",
       "    <tr>\n",
       "      <th>121529</th>\n",
       "      <td>546770</td>\n",
       "      <td>22797</td>\n",
       "      <td>CHEST OF DRAWERS GINGHAM HEART</td>\n",
       "      <td>1</td>\n",
       "      <td>2011-03-16 15:17:00</td>\n",
       "      <td>16.95</td>\n",
       "      <td>12523</td>\n",
       "      <td>France</td>\n",
       "    </tr>\n",
       "    <tr>\n",
       "      <th>72745</th>\n",
       "      <td>542258</td>\n",
       "      <td>21121</td>\n",
       "      <td>SET/10 RED POLKADOT PARTY CANDLES</td>\n",
       "      <td>3</td>\n",
       "      <td>2011-01-26 17:08:00</td>\n",
       "      <td>1.25</td>\n",
       "      <td>17372</td>\n",
       "      <td>United Kingdom</td>\n",
       "    </tr>\n",
       "  </tbody>\n",
       "</table>\n",
       "</div>"
      ],
      "text/plain": [
       "       InvoiceNo StockCode                        Description  Quantity  \\\n",
       "467089    576339     22246         MAGIC GARDEN FELT GARLAND          2   \n",
       "527653    580727     21880                 RED RETROSPOT TAPE         2   \n",
       "296496    562912     22476   EMPIRE UNION JACK TV DINNER TRAY         1   \n",
       "121529    546770     22797    CHEST OF DRAWERS GINGHAM HEART          1   \n",
       "72745     542258     21121  SET/10 RED POLKADOT PARTY CANDLES         3   \n",
       "\n",
       "               InvoiceDate  UnitPrice CustomerID         Country  \n",
       "467089 2011-11-14 15:27:00       4.13      14096  United Kingdom  \n",
       "527653 2011-12-05 17:17:00       0.42      14096  United Kingdom  \n",
       "296496 2011-08-10 13:15:00       4.95      15311  United Kingdom  \n",
       "121529 2011-03-16 15:17:00      16.95      12523          France  \n",
       "72745  2011-01-26 17:08:00       1.25      17372  United Kingdom  "
      ]
     },
     "execution_count": 63,
     "metadata": {},
     "output_type": "execute_result"
    }
   ],
   "source": [
    "ecom.sample(5)"
   ]
  },
  {
   "cell_type": "code",
   "execution_count": 71,
   "id": "72802def",
   "metadata": {},
   "outputs": [
    {
     "name": "stdout",
     "output_type": "stream",
     "text": [
      "Hence, the maximum number of cancelled product is: \n",
      " StockCode\n",
      "84077    53119\n",
      "Name: Quantity, dtype: int64\n"
     ]
    }
   ],
   "source": [
    "quantity_sold = ecom.groupby('StockCode')['Quantity'].sum()\n",
    "max_quantity_sold = quantity_sold.max()\n",
    "max_quantity_sold_df = quantity_sold[quantity_sold == max_quantity_sold]\n",
    "print(f\"Hence, the maximum number of cancelled product is: \\n {max_quantity_sold_df}\")"
   ]
  },
  {
   "cell_type": "markdown",
   "id": "3103d7b2",
   "metadata": {},
   "source": [
    "## Which product was sold how many times?"
   ]
  },
  {
   "cell_type": "code",
   "execution_count": 72,
   "id": "2e2e8229",
   "metadata": {},
   "outputs": [
    {
     "data": {
      "text/html": [
       "<div>\n",
       "<style scoped>\n",
       "    .dataframe tbody tr th:only-of-type {\n",
       "        vertical-align: middle;\n",
       "    }\n",
       "\n",
       "    .dataframe tbody tr th {\n",
       "        vertical-align: top;\n",
       "    }\n",
       "\n",
       "    .dataframe thead th {\n",
       "        text-align: right;\n",
       "    }\n",
       "</style>\n",
       "<table border=\"1\" class=\"dataframe\">\n",
       "  <thead>\n",
       "    <tr style=\"text-align: right;\">\n",
       "      <th></th>\n",
       "      <th>InvoiceNo</th>\n",
       "      <th>StockCode</th>\n",
       "      <th>Description</th>\n",
       "      <th>Quantity</th>\n",
       "      <th>InvoiceDate</th>\n",
       "      <th>UnitPrice</th>\n",
       "      <th>CustomerID</th>\n",
       "      <th>Country</th>\n",
       "    </tr>\n",
       "  </thead>\n",
       "  <tbody>\n",
       "    <tr>\n",
       "      <th>464783</th>\n",
       "      <td>576181</td>\n",
       "      <td>21154</td>\n",
       "      <td>RED RETROSPOT OVEN GLOVE</td>\n",
       "      <td>1</td>\n",
       "      <td>2011-11-14 11:19:00</td>\n",
       "      <td>1.25</td>\n",
       "      <td>15572</td>\n",
       "      <td>United Kingdom</td>\n",
       "    </tr>\n",
       "    <tr>\n",
       "      <th>8260</th>\n",
       "      <td>537131</td>\n",
       "      <td>21034</td>\n",
       "      <td>REX CASH+CARRY JUMBO SHOPPER</td>\n",
       "      <td>2</td>\n",
       "      <td>2010-12-05 12:26:00</td>\n",
       "      <td>0.95</td>\n",
       "      <td>15716</td>\n",
       "      <td>United Kingdom</td>\n",
       "    </tr>\n",
       "    <tr>\n",
       "      <th>86873</th>\n",
       "      <td>543610</td>\n",
       "      <td>16161P</td>\n",
       "      <td>WRAP ENGLISH ROSE</td>\n",
       "      <td>25</td>\n",
       "      <td>2011-02-10 14:30:00</td>\n",
       "      <td>0.42</td>\n",
       "      <td>16425</td>\n",
       "      <td>United Kingdom</td>\n",
       "    </tr>\n",
       "    <tr>\n",
       "      <th>329828</th>\n",
       "      <td>565855</td>\n",
       "      <td>22537</td>\n",
       "      <td>MAGIC DRAWING SLATE DINOSAUR</td>\n",
       "      <td>24</td>\n",
       "      <td>2011-09-07 13:30:00</td>\n",
       "      <td>0.42</td>\n",
       "      <td>15114</td>\n",
       "      <td>United Kingdom</td>\n",
       "    </tr>\n",
       "    <tr>\n",
       "      <th>537869</th>\n",
       "      <td>581358</td>\n",
       "      <td>22300</td>\n",
       "      <td>COFFEE MUG DOG + BALL DESIGN</td>\n",
       "      <td>6</td>\n",
       "      <td>2011-12-08 12:30:00</td>\n",
       "      <td>2.55</td>\n",
       "      <td>17436</td>\n",
       "      <td>United Kingdom</td>\n",
       "    </tr>\n",
       "  </tbody>\n",
       "</table>\n",
       "</div>"
      ],
      "text/plain": [
       "       InvoiceNo StockCode                   Description  Quantity  \\\n",
       "464783    576181     21154     RED RETROSPOT OVEN GLOVE          1   \n",
       "8260      537131     21034  REX CASH+CARRY JUMBO SHOPPER         2   \n",
       "86873     543610    16161P            WRAP ENGLISH ROSE         25   \n",
       "329828    565855     22537  MAGIC DRAWING SLATE DINOSAUR        24   \n",
       "537869    581358     22300  COFFEE MUG DOG + BALL DESIGN         6   \n",
       "\n",
       "               InvoiceDate  UnitPrice CustomerID         Country  \n",
       "464783 2011-11-14 11:19:00       1.25      15572  United Kingdom  \n",
       "8260   2010-12-05 12:26:00       0.95      15716  United Kingdom  \n",
       "86873  2011-02-10 14:30:00       0.42      16425  United Kingdom  \n",
       "329828 2011-09-07 13:30:00       0.42      15114  United Kingdom  \n",
       "537869 2011-12-08 12:30:00       2.55      17436  United Kingdom  "
      ]
     },
     "execution_count": 72,
     "metadata": {},
     "output_type": "execute_result"
    }
   ],
   "source": [
    "ecom.sample(5)"
   ]
  },
  {
   "cell_type": "code",
   "execution_count": 76,
   "id": "25e7eef3",
   "metadata": {},
   "outputs": [
    {
     "data": {
      "text/plain": [
       "StockCode\n",
       "85123A    2065\n",
       "22423     1894\n",
       "85099B    1659\n",
       "47566     1409\n",
       "84879     1405\n",
       "dtype: int64"
      ]
     },
     "execution_count": 76,
     "metadata": {},
     "output_type": "execute_result"
    }
   ],
   "source": [
    "product_sold = ecom.groupby('StockCode').size()\n",
    "product_sold.sort_values(ascending=False).head(5)"
   ]
  },
  {
   "cell_type": "markdown",
   "id": "20cf173d",
   "metadata": {},
   "source": [
    "## Total Sales by date"
   ]
  },
  {
   "cell_type": "code",
   "execution_count": 79,
   "id": "9756706c",
   "metadata": {},
   "outputs": [
    {
     "data": {
      "text/plain": [
       "InvoiceDate\n",
       "2010-12-31    295177\n",
       "2011-01-31    268755\n",
       "2011-02-28    262243\n",
       "2011-03-31    343095\n",
       "2011-04-30    277730\n",
       "Freq: M, Name: Quantity, dtype: int64"
      ]
     },
     "execution_count": 79,
     "metadata": {},
     "output_type": "execute_result"
    }
   ],
   "source": [
    "daily_sales = ecom.groupby(pd.Grouper(key='InvoiceDate',freq='M'))['Quantity'].sum()\n",
    "daily_sales.head()"
   ]
  },
  {
   "cell_type": "code",
   "execution_count": 81,
   "id": "9bb744ab",
   "metadata": {},
   "outputs": [
    {
     "data": {
      "image/png": "[encoded data removed]",
      "text/plain": [
       "<Figure size 640x480 with 1 Axes>"
      ]
     },
     "metadata": {},
     "output_type": "display_data"
    }
   ],
   "source": [
    "daily_sales.plot(kind='area', stacked=True)\n",
    "plt.title('Daily Sales Trend')\n",
    "plt.xlabel('Date')\n",
    "plt.ylabel('Total Sales')\n",
    "plt.show()"
   ]
  },
  {
   "cell_type": "markdown",
   "id": "625f9654",
   "metadata": {},
   "source": [
    "## Which is the most expensive product?"
   ]
  },
  {
   "cell_type": "code",
   "execution_count": 82,
   "id": "1f792d6e",
   "metadata": {},
   "outputs": [
    {
     "data": {
      "text/html": [
       "<div>\n",
       "<style scoped>\n",
       "    .dataframe tbody tr th:only-of-type {\n",
       "        vertical-align: middle;\n",
       "    }\n",
       "\n",
       "    .dataframe tbody tr th {\n",
       "        vertical-align: top;\n",
       "    }\n",
       "\n",
       "    .dataframe thead th {\n",
       "        text-align: right;\n",
       "    }\n",
       "</style>\n",
       "<table border=\"1\" class=\"dataframe\">\n",
       "  <thead>\n",
       "    <tr style=\"text-align: right;\">\n",
       "      <th></th>\n",
       "      <th>InvoiceNo</th>\n",
       "      <th>StockCode</th>\n",
       "      <th>Description</th>\n",
       "      <th>Quantity</th>\n",
       "      <th>InvoiceDate</th>\n",
       "      <th>UnitPrice</th>\n",
       "      <th>CustomerID</th>\n",
       "      <th>Country</th>\n",
       "    </tr>\n",
       "  </thead>\n",
       "  <tbody>\n",
       "    <tr>\n",
       "      <th>399023</th>\n",
       "      <td>571269</td>\n",
       "      <td>47590B</td>\n",
       "      <td>PINK HAPPY BIRTHDAY BUNTING</td>\n",
       "      <td>1</td>\n",
       "      <td>2011-10-16 12:09:00</td>\n",
       "      <td>5.45</td>\n",
       "      <td>16243</td>\n",
       "      <td>United Kingdom</td>\n",
       "    </tr>\n",
       "    <tr>\n",
       "      <th>95237</th>\n",
       "      <td>544450</td>\n",
       "      <td>47559B</td>\n",
       "      <td>TEA TIME OVEN GLOVE</td>\n",
       "      <td>5</td>\n",
       "      <td>2011-02-20 12:23:00</td>\n",
       "      <td>1.25</td>\n",
       "      <td>17811</td>\n",
       "      <td>United Kingdom</td>\n",
       "    </tr>\n",
       "    <tr>\n",
       "      <th>494952</th>\n",
       "      <td>578285</td>\n",
       "      <td>22382</td>\n",
       "      <td>LUNCH BAG SPACEBOY DESIGN</td>\n",
       "      <td>1</td>\n",
       "      <td>2011-11-23 13:57:00</td>\n",
       "      <td>1.65</td>\n",
       "      <td>12748</td>\n",
       "      <td>United Kingdom</td>\n",
       "    </tr>\n",
       "    <tr>\n",
       "      <th>2314</th>\n",
       "      <td>536576</td>\n",
       "      <td>21156</td>\n",
       "      <td>RETROSPOT CHILDRENS APRON</td>\n",
       "      <td>12</td>\n",
       "      <td>2010-12-01 16:11:00</td>\n",
       "      <td>1.65</td>\n",
       "      <td>13777</td>\n",
       "      <td>United Kingdom</td>\n",
       "    </tr>\n",
       "    <tr>\n",
       "      <th>456924</th>\n",
       "      <td>575726</td>\n",
       "      <td>48173C</td>\n",
       "      <td>DOORMAT BLACK FLOCK</td>\n",
       "      <td>1</td>\n",
       "      <td>2011-11-10 19:12:00</td>\n",
       "      <td>8.25</td>\n",
       "      <td>16791</td>\n",
       "      <td>United Kingdom</td>\n",
       "    </tr>\n",
       "  </tbody>\n",
       "</table>\n",
       "</div>"
      ],
      "text/plain": [
       "       InvoiceNo StockCode                  Description  Quantity  \\\n",
       "399023    571269    47590B  PINK HAPPY BIRTHDAY BUNTING         1   \n",
       "95237     544450    47559B          TEA TIME OVEN GLOVE         5   \n",
       "494952    578285     22382   LUNCH BAG SPACEBOY DESIGN          1   \n",
       "2314      536576     21156    RETROSPOT CHILDRENS APRON        12   \n",
       "456924    575726    48173C         DOORMAT BLACK FLOCK          1   \n",
       "\n",
       "               InvoiceDate  UnitPrice CustomerID         Country  \n",
       "399023 2011-10-16 12:09:00       5.45      16243  United Kingdom  \n",
       "95237  2011-02-20 12:23:00       1.25      17811  United Kingdom  \n",
       "494952 2011-11-23 13:57:00       1.65      12748  United Kingdom  \n",
       "2314   2010-12-01 16:11:00       1.65      13777  United Kingdom  \n",
       "456924 2011-11-10 19:12:00       8.25      16791  United Kingdom  "
      ]
     },
     "execution_count": 82,
     "metadata": {},
     "output_type": "execute_result"
    }
   ],
   "source": [
    "ecom.sample(5)"
   ]
  },
  {
   "cell_type": "code",
   "execution_count": 87,
   "id": "630a0406",
   "metadata": {},
   "outputs": [
    {
     "data": {
      "text/plain": [
       "38970.0"
      ]
     },
     "execution_count": 87,
     "metadata": {},
     "output_type": "execute_result"
    }
   ],
   "source": [
    "unit_price = ecom.UnitPrice.unique()\n",
    "unit_price.max()"
   ]
  },
  {
   "cell_type": "code",
   "execution_count": 91,
   "id": "4dc88f94",
   "metadata": {},
   "outputs": [
    {
     "data": {
      "text/html": [
       "<div>\n",
       "<style scoped>\n",
       "    .dataframe tbody tr th:only-of-type {\n",
       "        vertical-align: middle;\n",
       "    }\n",
       "\n",
       "    .dataframe tbody tr th {\n",
       "        vertical-align: top;\n",
       "    }\n",
       "\n",
       "    .dataframe thead th {\n",
       "        text-align: right;\n",
       "    }\n",
       "</style>\n",
       "<table border=\"1\" class=\"dataframe\">\n",
       "  <thead>\n",
       "    <tr style=\"text-align: right;\">\n",
       "      <th></th>\n",
       "      <th>InvoiceNo</th>\n",
       "      <th>StockCode</th>\n",
       "      <th>Description</th>\n",
       "      <th>Quantity</th>\n",
       "      <th>InvoiceDate</th>\n",
       "      <th>UnitPrice</th>\n",
       "      <th>CustomerID</th>\n",
       "      <th>Country</th>\n",
       "    </tr>\n",
       "  </thead>\n",
       "  <tbody>\n",
       "    <tr>\n",
       "      <th>222681</th>\n",
       "      <td>C556445</td>\n",
       "      <td>M</td>\n",
       "      <td>Manual</td>\n",
       "      <td>-1</td>\n",
       "      <td>2011-06-10 15:31:00</td>\n",
       "      <td>38970.0</td>\n",
       "      <td>15098</td>\n",
       "      <td>United Kingdom</td>\n",
       "    </tr>\n",
       "  </tbody>\n",
       "</table>\n",
       "</div>"
      ],
      "text/plain": [
       "       InvoiceNo StockCode Description  Quantity         InvoiceDate  \\\n",
       "222681   C556445         M      Manual        -1 2011-06-10 15:31:00   \n",
       "\n",
       "        UnitPrice CustomerID         Country  \n",
       "222681    38970.0      15098  United Kingdom  "
      ]
     },
     "execution_count": 91,
     "metadata": {},
     "output_type": "execute_result"
    }
   ],
   "source": [
    "unit_price_df = ecom[ecom.UnitPrice == unit_price.max()]\n",
    "unit_price_df"
   ]
  },
  {
   "cell_type": "markdown",
   "id": "2153bfa7",
   "metadata": {},
   "source": [
    "## Which customer ordered how many number of times?"
   ]
  },
  {
   "cell_type": "code",
   "execution_count": 92,
   "id": "b58845e8",
   "metadata": {},
   "outputs": [
    {
     "data": {
      "text/html": [
       "<div>\n",
       "<style scoped>\n",
       "    .dataframe tbody tr th:only-of-type {\n",
       "        vertical-align: middle;\n",
       "    }\n",
       "\n",
       "    .dataframe tbody tr th {\n",
       "        vertical-align: top;\n",
       "    }\n",
       "\n",
       "    .dataframe thead th {\n",
       "        text-align: right;\n",
       "    }\n",
       "</style>\n",
       "<table border=\"1\" class=\"dataframe\">\n",
       "  <thead>\n",
       "    <tr style=\"text-align: right;\">\n",
       "      <th></th>\n",
       "      <th>InvoiceNo</th>\n",
       "      <th>StockCode</th>\n",
       "      <th>Description</th>\n",
       "      <th>Quantity</th>\n",
       "      <th>InvoiceDate</th>\n",
       "      <th>UnitPrice</th>\n",
       "      <th>CustomerID</th>\n",
       "      <th>Country</th>\n",
       "    </tr>\n",
       "  </thead>\n",
       "  <tbody>\n",
       "    <tr>\n",
       "      <th>160569</th>\n",
       "      <td>550464</td>\n",
       "      <td>22367</td>\n",
       "      <td>CHILDRENS APRON SPACEBOY DESIGN</td>\n",
       "      <td>3</td>\n",
       "      <td>2011-04-18 13:30:00</td>\n",
       "      <td>1.95</td>\n",
       "      <td>16550</td>\n",
       "      <td>United Kingdom</td>\n",
       "    </tr>\n",
       "    <tr>\n",
       "      <th>43410</th>\n",
       "      <td>540033</td>\n",
       "      <td>22644</td>\n",
       "      <td>CERAMIC CHERRY CAKE MONEY BANK</td>\n",
       "      <td>4</td>\n",
       "      <td>2011-01-04 14:12:00</td>\n",
       "      <td>1.45</td>\n",
       "      <td>13680</td>\n",
       "      <td>United Kingdom</td>\n",
       "    </tr>\n",
       "    <tr>\n",
       "      <th>269191</th>\n",
       "      <td>560437</td>\n",
       "      <td>23322</td>\n",
       "      <td>LARGE WHITE HEART OF WICKER</td>\n",
       "      <td>6</td>\n",
       "      <td>2011-07-18 16:05:00</td>\n",
       "      <td>2.95</td>\n",
       "      <td>13940</td>\n",
       "      <td>United Kingdom</td>\n",
       "    </tr>\n",
       "    <tr>\n",
       "      <th>521245</th>\n",
       "      <td>580351</td>\n",
       "      <td>22083</td>\n",
       "      <td>PAPER CHAIN KIT RETROSPOT</td>\n",
       "      <td>12</td>\n",
       "      <td>2011-12-02 15:55:00</td>\n",
       "      <td>2.95</td>\n",
       "      <td>12962</td>\n",
       "      <td>United Kingdom</td>\n",
       "    </tr>\n",
       "    <tr>\n",
       "      <th>438914</th>\n",
       "      <td>574341</td>\n",
       "      <td>21066</td>\n",
       "      <td>VINTAGE RED MUG</td>\n",
       "      <td>432</td>\n",
       "      <td>2011-11-04 10:09:00</td>\n",
       "      <td>0.80</td>\n",
       "      <td>18102</td>\n",
       "      <td>United Kingdom</td>\n",
       "    </tr>\n",
       "  </tbody>\n",
       "</table>\n",
       "</div>"
      ],
      "text/plain": [
       "       InvoiceNo StockCode                      Description  Quantity  \\\n",
       "160569    550464     22367  CHILDRENS APRON SPACEBOY DESIGN         3   \n",
       "43410     540033     22644   CERAMIC CHERRY CAKE MONEY BANK         4   \n",
       "269191    560437     23322      LARGE WHITE HEART OF WICKER         6   \n",
       "521245    580351     22083        PAPER CHAIN KIT RETROSPOT        12   \n",
       "438914    574341     21066                  VINTAGE RED MUG       432   \n",
       "\n",
       "               InvoiceDate  UnitPrice CustomerID         Country  \n",
       "160569 2011-04-18 13:30:00       1.95      16550  United Kingdom  \n",
       "43410  2011-01-04 14:12:00       1.45      13680  United Kingdom  \n",
       "269191 2011-07-18 16:05:00       2.95      13940  United Kingdom  \n",
       "521245 2011-12-02 15:55:00       2.95      12962  United Kingdom  \n",
       "438914 2011-11-04 10:09:00       0.80      18102  United Kingdom  "
      ]
     },
     "execution_count": 92,
     "metadata": {},
     "output_type": "execute_result"
    }
   ],
   "source": [
    "ecom.sample(5)"
   ]
  },
  {
   "cell_type": "code",
   "execution_count": 98,
   "id": "d0da7944",
   "metadata": {},
   "outputs": [
    {
     "data": {
      "text/plain": [
       "CustomerID\n",
       "14911    248\n",
       "12748    224\n",
       "17841    169\n",
       "14606    128\n",
       "13089    118\n",
       "Name: InvoiceNo, dtype: int64"
      ]
     },
     "execution_count": 98,
     "metadata": {},
     "output_type": "execute_result"
    }
   ],
   "source": [
    "customer_transactions=ecom.groupby('CustomerID')['InvoiceNo'].nunique()\n",
    "customer_transactions.sort_values(ascending=False).head(5)"
   ]
  },
  {
   "cell_type": "markdown",
   "id": "ec83748b",
   "metadata": {},
   "source": [
    "## How many unique products were bought by each customers?"
   ]
  },
  {
   "cell_type": "code",
   "execution_count": 101,
   "id": "2e47bcff",
   "metadata": {},
   "outputs": [
    {
     "data": {
      "text/plain": [
       "CustomerID\n",
       "14911    1794\n",
       "12748    1769\n",
       "17841    1331\n",
       "14096    1121\n",
       "14298     884\n",
       "Name: StockCode, dtype: int64"
      ]
     },
     "execution_count": 101,
     "metadata": {},
     "output_type": "execute_result"
    }
   ],
   "source": [
    "unique_product = ecom.groupby('CustomerID')['StockCode'].nunique()\n",
    "unique_product.sort_values(ascending = False).head()"
   ]
  },
  {
   "cell_type": "markdown",
   "id": "cb8e512d",
   "metadata": {},
   "source": [
    "## Which customer had the most cancelled transactions?"
   ]
  },
  {
   "cell_type": "code",
   "execution_count": 103,
   "id": "b412a0b3",
   "metadata": {},
   "outputs": [
    {
     "data": {
      "text/html": [
       "<div>\n",
       "<style scoped>\n",
       "    .dataframe tbody tr th:only-of-type {\n",
       "        vertical-align: middle;\n",
       "    }\n",
       "\n",
       "    .dataframe tbody tr th {\n",
       "        vertical-align: top;\n",
       "    }\n",
       "\n",
       "    .dataframe thead th {\n",
       "        text-align: right;\n",
       "    }\n",
       "</style>\n",
       "<table border=\"1\" class=\"dataframe\">\n",
       "  <thead>\n",
       "    <tr style=\"text-align: right;\">\n",
       "      <th></th>\n",
       "      <th>InvoiceNo</th>\n",
       "      <th>StockCode</th>\n",
       "      <th>Description</th>\n",
       "      <th>Quantity</th>\n",
       "      <th>InvoiceDate</th>\n",
       "      <th>UnitPrice</th>\n",
       "      <th>CustomerID</th>\n",
       "      <th>Country</th>\n",
       "    </tr>\n",
       "  </thead>\n",
       "  <tbody>\n",
       "    <tr>\n",
       "      <th>32628</th>\n",
       "      <td>539098</td>\n",
       "      <td>22851</td>\n",
       "      <td>SET 20 NAPKINS FAIRY CAKES DESIGN</td>\n",
       "      <td>12</td>\n",
       "      <td>2010-12-16 10:28:00</td>\n",
       "      <td>0.85</td>\n",
       "      <td>14841</td>\n",
       "      <td>United Kingdom</td>\n",
       "    </tr>\n",
       "    <tr>\n",
       "      <th>179115</th>\n",
       "      <td>552262</td>\n",
       "      <td>21469</td>\n",
       "      <td>POLKA DOT RAFFIA FOOD COVER</td>\n",
       "      <td>6</td>\n",
       "      <td>2011-05-08 11:37:00</td>\n",
       "      <td>3.75</td>\n",
       "      <td>14911</td>\n",
       "      <td>EIRE</td>\n",
       "    </tr>\n",
       "    <tr>\n",
       "      <th>495303</th>\n",
       "      <td>578299</td>\n",
       "      <td>23144</td>\n",
       "      <td>ZINC T-LIGHT HOLDER STARS SMALL</td>\n",
       "      <td>24</td>\n",
       "      <td>2011-11-23 14:53:00</td>\n",
       "      <td>0.83</td>\n",
       "      <td>16660</td>\n",
       "      <td>United Kingdom</td>\n",
       "    </tr>\n",
       "    <tr>\n",
       "      <th>398324</th>\n",
       "      <td>571235</td>\n",
       "      <td>85099B</td>\n",
       "      <td>JUMBO BAG RED RETROSPOT</td>\n",
       "      <td>20</td>\n",
       "      <td>2011-10-14 14:37:00</td>\n",
       "      <td>2.08</td>\n",
       "      <td>15078</td>\n",
       "      <td>United Kingdom</td>\n",
       "    </tr>\n",
       "    <tr>\n",
       "      <th>131589</th>\n",
       "      <td>547572</td>\n",
       "      <td>21535</td>\n",
       "      <td>RED RETROSPOT SMALL MILK JUG</td>\n",
       "      <td>6</td>\n",
       "      <td>2011-03-24 10:03:00</td>\n",
       "      <td>2.55</td>\n",
       "      <td>13512</td>\n",
       "      <td>United Kingdom</td>\n",
       "    </tr>\n",
       "  </tbody>\n",
       "</table>\n",
       "</div>"
      ],
      "text/plain": [
       "       InvoiceNo StockCode                         Description  Quantity  \\\n",
       "32628     539098     22851  SET 20 NAPKINS FAIRY CAKES DESIGN         12   \n",
       "179115    552262     21469         POLKA DOT RAFFIA FOOD COVER         6   \n",
       "495303    578299     23144     ZINC T-LIGHT HOLDER STARS SMALL        24   \n",
       "398324    571235    85099B             JUMBO BAG RED RETROSPOT        20   \n",
       "131589    547572     21535        RED RETROSPOT SMALL MILK JUG         6   \n",
       "\n",
       "               InvoiceDate  UnitPrice CustomerID         Country  \n",
       "32628  2010-12-16 10:28:00       0.85      14841  United Kingdom  \n",
       "179115 2011-05-08 11:37:00       3.75      14911            EIRE  \n",
       "495303 2011-11-23 14:53:00       0.83      16660  United Kingdom  \n",
       "398324 2011-10-14 14:37:00       2.08      15078  United Kingdom  \n",
       "131589 2011-03-24 10:03:00       2.55      13512  United Kingdom  "
      ]
     },
     "execution_count": 103,
     "metadata": {},
     "output_type": "execute_result"
    }
   ],
   "source": [
    "ecom.sample(5)"
   ]
  },
  {
   "cell_type": "code",
   "execution_count": 114,
   "id": "9790fee1",
   "metadata": {},
   "outputs": [
    {
     "name": "stdout",
     "output_type": "stream",
     "text": [
      "Hence, CustomerID\n",
      "14911    226\n",
      "Name: InvoiceNo, dtype: int64 had the maximum number of cancellations\n"
     ]
    }
   ],
   "source": [
    "canc_tra = cancelled_trans.groupby('CustomerID')['InvoiceNo'].count()\n",
    "canc = canc_tra.sort_values(ascending=False)\n",
    "print(f'Hence, {canc.head(1)} had the maximum number of cancellations')"
   ]
  },
  {
   "cell_type": "markdown",
   "id": "433af45b",
   "metadata": {},
   "source": [
    "## Which customer had the most successful transactions?"
   ]
  },
  {
   "cell_type": "code",
   "execution_count": 115,
   "id": "45f1c3e6",
   "metadata": {},
   "outputs": [
    {
     "data": {
      "text/html": [
       "<div>\n",
       "<style scoped>\n",
       "    .dataframe tbody tr th:only-of-type {\n",
       "        vertical-align: middle;\n",
       "    }\n",
       "\n",
       "    .dataframe tbody tr th {\n",
       "        vertical-align: top;\n",
       "    }\n",
       "\n",
       "    .dataframe thead th {\n",
       "        text-align: right;\n",
       "    }\n",
       "</style>\n",
       "<table border=\"1\" class=\"dataframe\">\n",
       "  <thead>\n",
       "    <tr style=\"text-align: right;\">\n",
       "      <th></th>\n",
       "      <th>InvoiceNo</th>\n",
       "      <th>StockCode</th>\n",
       "      <th>Description</th>\n",
       "      <th>Quantity</th>\n",
       "      <th>InvoiceDate</th>\n",
       "      <th>UnitPrice</th>\n",
       "      <th>CustomerID</th>\n",
       "      <th>Country</th>\n",
       "    </tr>\n",
       "  </thead>\n",
       "  <tbody>\n",
       "    <tr>\n",
       "      <th>372564</th>\n",
       "      <td>569246</td>\n",
       "      <td>21974</td>\n",
       "      <td>SET OF 36 PAISLEY FLOWER DOILIES</td>\n",
       "      <td>1</td>\n",
       "      <td>2011-10-03 09:57:00</td>\n",
       "      <td>2.92</td>\n",
       "      <td>14096</td>\n",
       "      <td>United Kingdom</td>\n",
       "    </tr>\n",
       "    <tr>\n",
       "      <th>76562</th>\n",
       "      <td>542629</td>\n",
       "      <td>22746</td>\n",
       "      <td>POPPY'S PLAYHOUSE LIVINGROOM</td>\n",
       "      <td>12</td>\n",
       "      <td>2011-01-31 09:57:00</td>\n",
       "      <td>2.10</td>\n",
       "      <td>12731</td>\n",
       "      <td>France</td>\n",
       "    </tr>\n",
       "    <tr>\n",
       "      <th>407390</th>\n",
       "      <td>571883</td>\n",
       "      <td>21034</td>\n",
       "      <td>REX CASH+CARRY JUMBO SHOPPER</td>\n",
       "      <td>2</td>\n",
       "      <td>2011-10-19 13:58:00</td>\n",
       "      <td>0.95</td>\n",
       "      <td>14704</td>\n",
       "      <td>United Kingdom</td>\n",
       "    </tr>\n",
       "    <tr>\n",
       "      <th>293080</th>\n",
       "      <td>562576</td>\n",
       "      <td>47566</td>\n",
       "      <td>PARTY BUNTING</td>\n",
       "      <td>3</td>\n",
       "      <td>2011-08-07 13:08:00</td>\n",
       "      <td>4.95</td>\n",
       "      <td>15518</td>\n",
       "      <td>United Kingdom</td>\n",
       "    </tr>\n",
       "    <tr>\n",
       "      <th>197489</th>\n",
       "      <td>553912</td>\n",
       "      <td>23203</td>\n",
       "      <td>JUMBO BAG DOILEY PATTERNS</td>\n",
       "      <td>30</td>\n",
       "      <td>2011-05-19 19:32:00</td>\n",
       "      <td>1.95</td>\n",
       "      <td>15122</td>\n",
       "      <td>United Kingdom</td>\n",
       "    </tr>\n",
       "  </tbody>\n",
       "</table>\n",
       "</div>"
      ],
      "text/plain": [
       "       InvoiceNo StockCode                       Description  Quantity  \\\n",
       "372564    569246     21974  SET OF 36 PAISLEY FLOWER DOILIES         1   \n",
       "76562     542629     22746     POPPY'S PLAYHOUSE LIVINGROOM         12   \n",
       "407390    571883     21034      REX CASH+CARRY JUMBO SHOPPER         2   \n",
       "293080    562576     47566                     PARTY BUNTING         3   \n",
       "197489    553912     23203         JUMBO BAG DOILEY PATTERNS        30   \n",
       "\n",
       "               InvoiceDate  UnitPrice CustomerID         Country  \n",
       "372564 2011-10-03 09:57:00       2.92      14096  United Kingdom  \n",
       "76562  2011-01-31 09:57:00       2.10      12731          France  \n",
       "407390 2011-10-19 13:58:00       0.95      14704  United Kingdom  \n",
       "293080 2011-08-07 13:08:00       4.95      15518  United Kingdom  \n",
       "197489 2011-05-19 19:32:00       1.95      15122  United Kingdom  "
      ]
     },
     "execution_count": 115,
     "metadata": {},
     "output_type": "execute_result"
    }
   ],
   "source": [
    "ecom.sample(5)"
   ]
  },
  {
   "cell_type": "code",
   "execution_count": 116,
   "id": "e1d2bd41",
   "metadata": {},
   "outputs": [
    {
     "name": "stdout",
     "output_type": "stream",
     "text": [
      "The customer 14911 is having most number of orders with 248 transactions.\n"
     ]
    }
   ],
   "source": [
    "print(f\"The customer {customer_transactions.idxmax()} is having most number of orders with {customer_transactions.max()} transactions.\")"
   ]
  },
  {
   "cell_type": "markdown",
   "id": "e97ec5e2",
   "metadata": {},
   "source": [
    "# Data Preprocessing"
   ]
  },
  {
   "cell_type": "code",
   "execution_count": 123,
   "id": "acf7ee69",
   "metadata": {},
   "outputs": [
    {
     "data": {
      "text/html": [
       "<div>\n",
       "<style scoped>\n",
       "    .dataframe tbody tr th:only-of-type {\n",
       "        vertical-align: middle;\n",
       "    }\n",
       "\n",
       "    .dataframe tbody tr th {\n",
       "        vertical-align: top;\n",
       "    }\n",
       "\n",
       "    .dataframe thead th {\n",
       "        text-align: right;\n",
       "    }\n",
       "</style>\n",
       "<table border=\"1\" class=\"dataframe\">\n",
       "  <thead>\n",
       "    <tr style=\"text-align: right;\">\n",
       "      <th></th>\n",
       "      <th>InvoiceNo</th>\n",
       "      <th>StockCode</th>\n",
       "      <th>Description</th>\n",
       "      <th>Quantity</th>\n",
       "      <th>InvoiceDate</th>\n",
       "      <th>UnitPrice</th>\n",
       "      <th>CustomerID</th>\n",
       "      <th>Country</th>\n",
       "    </tr>\n",
       "  </thead>\n",
       "  <tbody>\n",
       "    <tr>\n",
       "      <th>420394</th>\n",
       "      <td>572892</td>\n",
       "      <td>22992</td>\n",
       "      <td>REVOLVER WOODEN RULER</td>\n",
       "      <td>36</td>\n",
       "      <td>2011-10-26 14:20:00</td>\n",
       "      <td>1.95</td>\n",
       "      <td>17017</td>\n",
       "      <td>United Kingdom</td>\n",
       "    </tr>\n",
       "    <tr>\n",
       "      <th>415520</th>\n",
       "      <td>572542</td>\n",
       "      <td>21889</td>\n",
       "      <td>WOODEN BOX OF DOMINOES</td>\n",
       "      <td>12</td>\n",
       "      <td>2011-10-24 16:20:00</td>\n",
       "      <td>1.25</td>\n",
       "      <td>17272</td>\n",
       "      <td>United Kingdom</td>\n",
       "    </tr>\n",
       "    <tr>\n",
       "      <th>494365</th>\n",
       "      <td>578270</td>\n",
       "      <td>21990</td>\n",
       "      <td>MODERN FLORAL STATIONERY SET</td>\n",
       "      <td>12</td>\n",
       "      <td>2011-11-23 13:39:00</td>\n",
       "      <td>2.46</td>\n",
       "      <td>14096</td>\n",
       "      <td>United Kingdom</td>\n",
       "    </tr>\n",
       "    <tr>\n",
       "      <th>472013</th>\n",
       "      <td>576663</td>\n",
       "      <td>47566</td>\n",
       "      <td>PARTY BUNTING</td>\n",
       "      <td>4</td>\n",
       "      <td>2011-11-16 11:31:00</td>\n",
       "      <td>4.95</td>\n",
       "      <td>16157</td>\n",
       "      <td>United Kingdom</td>\n",
       "    </tr>\n",
       "    <tr>\n",
       "      <th>498064</th>\n",
       "      <td>578509</td>\n",
       "      <td>21429</td>\n",
       "      <td>RED GINGHAM ROSE JEWELLERY BOX</td>\n",
       "      <td>8</td>\n",
       "      <td>2011-11-24 13:17:00</td>\n",
       "      <td>1.95</td>\n",
       "      <td>12705</td>\n",
       "      <td>Germany</td>\n",
       "    </tr>\n",
       "  </tbody>\n",
       "</table>\n",
       "</div>"
      ],
      "text/plain": [
       "       InvoiceNo StockCode                     Description  Quantity  \\\n",
       "420394    572892     22992          REVOLVER WOODEN RULER         36   \n",
       "415520    572542     21889          WOODEN BOX OF DOMINOES        12   \n",
       "494365    578270     21990    MODERN FLORAL STATIONERY SET        12   \n",
       "472013    576663     47566                   PARTY BUNTING         4   \n",
       "498064    578509     21429  RED GINGHAM ROSE JEWELLERY BOX         8   \n",
       "\n",
       "               InvoiceDate  UnitPrice CustomerID         Country  \n",
       "420394 2011-10-26 14:20:00       1.95      17017  United Kingdom  \n",
       "415520 2011-10-24 16:20:00       1.25      17272  United Kingdom  \n",
       "494365 2011-11-23 13:39:00       2.46      14096  United Kingdom  \n",
       "472013 2011-11-16 11:31:00       4.95      16157  United Kingdom  \n",
       "498064 2011-11-24 13:17:00       1.95      12705         Germany  "
      ]
     },
     "execution_count": 123,
     "metadata": {},
     "output_type": "execute_result"
    }
   ],
   "source": [
    "ecom.sample(5)"
   ]
  },
  {
   "cell_type": "code",
   "execution_count": 128,
   "id": "846d72ef",
   "metadata": {},
   "outputs": [
    {
     "data": {
      "text/html": [
       "<div>\n",
       "<style scoped>\n",
       "    .dataframe tbody tr th:only-of-type {\n",
       "        vertical-align: middle;\n",
       "    }\n",
       "\n",
       "    .dataframe tbody tr th {\n",
       "        vertical-align: top;\n",
       "    }\n",
       "\n",
       "    .dataframe thead th {\n",
       "        text-align: right;\n",
       "    }\n",
       "</style>\n",
       "<table border=\"1\" class=\"dataframe\">\n",
       "  <thead>\n",
       "    <tr style=\"text-align: right;\">\n",
       "      <th></th>\n",
       "      <th>CustomerID</th>\n",
       "      <th>Quantity</th>\n",
       "      <th>UnitPrice</th>\n",
       "      <th>Total_Amt</th>\n",
       "    </tr>\n",
       "  </thead>\n",
       "  <tbody>\n",
       "    <tr>\n",
       "      <th>0</th>\n",
       "      <td>17850</td>\n",
       "      <td>6</td>\n",
       "      <td>2.55</td>\n",
       "      <td>15.30</td>\n",
       "    </tr>\n",
       "    <tr>\n",
       "      <th>1</th>\n",
       "      <td>17850</td>\n",
       "      <td>6</td>\n",
       "      <td>3.39</td>\n",
       "      <td>20.34</td>\n",
       "    </tr>\n",
       "    <tr>\n",
       "      <th>2</th>\n",
       "      <td>17850</td>\n",
       "      <td>8</td>\n",
       "      <td>2.75</td>\n",
       "      <td>22.00</td>\n",
       "    </tr>\n",
       "    <tr>\n",
       "      <th>3</th>\n",
       "      <td>17850</td>\n",
       "      <td>6</td>\n",
       "      <td>3.39</td>\n",
       "      <td>20.34</td>\n",
       "    </tr>\n",
       "    <tr>\n",
       "      <th>4</th>\n",
       "      <td>17850</td>\n",
       "      <td>6</td>\n",
       "      <td>3.39</td>\n",
       "      <td>20.34</td>\n",
       "    </tr>\n",
       "  </tbody>\n",
       "</table>\n",
       "</div>"
      ],
      "text/plain": [
       "  CustomerID  Quantity  UnitPrice  Total_Amt\n",
       "0      17850         6       2.55      15.30\n",
       "1      17850         6       3.39      20.34\n",
       "2      17850         8       2.75      22.00\n",
       "3      17850         6       3.39      20.34\n",
       "4      17850         6       3.39      20.34"
      ]
     },
     "execution_count": 128,
     "metadata": {},
     "output_type": "execute_result"
    }
   ],
   "source": [
    "ecom_df = ecom[['CustomerID','Quantity', 'UnitPrice']].copy()\n",
    "ecom_df.loc[:, 'Total_Amt'] = ecom_df['Quantity'] * ecom_df['UnitPrice']\n",
    "ecom_df.head()"
   ]
  },
  {
   "cell_type": "code",
   "execution_count": 130,
   "id": "dbe1144e",
   "metadata": {},
   "outputs": [
    {
     "data": {
      "text/html": [
       "<div>\n",
       "<style scoped>\n",
       "    .dataframe tbody tr th:only-of-type {\n",
       "        vertical-align: middle;\n",
       "    }\n",
       "\n",
       "    .dataframe tbody tr th {\n",
       "        vertical-align: top;\n",
       "    }\n",
       "\n",
       "    .dataframe thead th {\n",
       "        text-align: right;\n",
       "    }\n",
       "</style>\n",
       "<table border=\"1\" class=\"dataframe\">\n",
       "  <thead>\n",
       "    <tr style=\"text-align: right;\">\n",
       "      <th></th>\n",
       "      <th>CustomerID</th>\n",
       "      <th>Amt</th>\n",
       "    </tr>\n",
       "  </thead>\n",
       "  <tbody>\n",
       "    <tr>\n",
       "      <th>0</th>\n",
       "      <td>12346</td>\n",
       "      <td>0.00</td>\n",
       "    </tr>\n",
       "    <tr>\n",
       "      <th>1</th>\n",
       "      <td>12347</td>\n",
       "      <td>4310.00</td>\n",
       "    </tr>\n",
       "    <tr>\n",
       "      <th>2</th>\n",
       "      <td>12348</td>\n",
       "      <td>1797.24</td>\n",
       "    </tr>\n",
       "    <tr>\n",
       "      <th>3</th>\n",
       "      <td>12349</td>\n",
       "      <td>1757.55</td>\n",
       "    </tr>\n",
       "    <tr>\n",
       "      <th>4</th>\n",
       "      <td>12350</td>\n",
       "      <td>334.40</td>\n",
       "    </tr>\n",
       "  </tbody>\n",
       "</table>\n",
       "</div>"
      ],
      "text/plain": [
       "  CustomerID      Amt\n",
       "0      12346     0.00\n",
       "1      12347  4310.00\n",
       "2      12348  1797.24\n",
       "3      12349  1757.55\n",
       "4      12350   334.40"
      ]
     },
     "execution_count": 130,
     "metadata": {},
     "output_type": "execute_result"
    }
   ],
   "source": [
    "customer_total_spent = ecom_df.groupby('CustomerID')['Total_Amt'].sum()\n",
    "customer_total_spent = customer_total_spent.reset_index()\n",
    "customer_total_spent.columns=['CustomerID','Amt']\n",
    "customer_total_spent.head()"
   ]
  },
  {
   "cell_type": "code",
   "execution_count": 135,
   "id": "fb9f27ff",
   "metadata": {},
   "outputs": [
    {
     "data": {
      "text/html": [
       "<div>\n",
       "<style scoped>\n",
       "    .dataframe tbody tr th:only-of-type {\n",
       "        vertical-align: middle;\n",
       "    }\n",
       "\n",
       "    .dataframe tbody tr th {\n",
       "        vertical-align: top;\n",
       "    }\n",
       "\n",
       "    .dataframe thead th {\n",
       "        text-align: right;\n",
       "    }\n",
       "</style>\n",
       "<table border=\"1\" class=\"dataframe\">\n",
       "  <thead>\n",
       "    <tr style=\"text-align: right;\">\n",
       "      <th></th>\n",
       "      <th>CustomerID</th>\n",
       "      <th>Frequency</th>\n",
       "    </tr>\n",
       "  </thead>\n",
       "  <tbody>\n",
       "    <tr>\n",
       "      <th>0</th>\n",
       "      <td>12346</td>\n",
       "      <td>2</td>\n",
       "    </tr>\n",
       "    <tr>\n",
       "      <th>1</th>\n",
       "      <td>12347</td>\n",
       "      <td>182</td>\n",
       "    </tr>\n",
       "    <tr>\n",
       "      <th>2</th>\n",
       "      <td>12348</td>\n",
       "      <td>31</td>\n",
       "    </tr>\n",
       "    <tr>\n",
       "      <th>3</th>\n",
       "      <td>12349</td>\n",
       "      <td>73</td>\n",
       "    </tr>\n",
       "    <tr>\n",
       "      <th>4</th>\n",
       "      <td>12350</td>\n",
       "      <td>17</td>\n",
       "    </tr>\n",
       "  </tbody>\n",
       "</table>\n",
       "</div>"
      ],
      "text/plain": [
       "  CustomerID  Frequency\n",
       "0      12346          2\n",
       "1      12347        182\n",
       "2      12348         31\n",
       "3      12349         73\n",
       "4      12350         17"
      ]
     },
     "execution_count": 135,
     "metadata": {},
     "output_type": "execute_result"
    }
   ],
   "source": [
    "frequency = ecom.groupby('CustomerID')['InvoiceNo'].count()\n",
    "frequency = frequency.reset_index()\n",
    "frequency.columns = ['CustomerID','Frequency']\n",
    "frequency.head()"
   ]
  },
  {
   "cell_type": "code",
   "execution_count": 136,
   "id": "96eaa854",
   "metadata": {},
   "outputs": [
    {
     "data": {
      "text/html": [
       "<div>\n",
       "<style scoped>\n",
       "    .dataframe tbody tr th:only-of-type {\n",
       "        vertical-align: middle;\n",
       "    }\n",
       "\n",
       "    .dataframe tbody tr th {\n",
       "        vertical-align: top;\n",
       "    }\n",
       "\n",
       "    .dataframe thead th {\n",
       "        text-align: right;\n",
       "    }\n",
       "</style>\n",
       "<table border=\"1\" class=\"dataframe\">\n",
       "  <thead>\n",
       "    <tr style=\"text-align: right;\">\n",
       "      <th></th>\n",
       "      <th>CustomerID</th>\n",
       "      <th>Amt</th>\n",
       "      <th>Frequency</th>\n",
       "    </tr>\n",
       "  </thead>\n",
       "  <tbody>\n",
       "    <tr>\n",
       "      <th>0</th>\n",
       "      <td>12346</td>\n",
       "      <td>0.00</td>\n",
       "      <td>2</td>\n",
       "    </tr>\n",
       "    <tr>\n",
       "      <th>1</th>\n",
       "      <td>12347</td>\n",
       "      <td>4310.00</td>\n",
       "      <td>182</td>\n",
       "    </tr>\n",
       "    <tr>\n",
       "      <th>2</th>\n",
       "      <td>12348</td>\n",
       "      <td>1797.24</td>\n",
       "      <td>31</td>\n",
       "    </tr>\n",
       "    <tr>\n",
       "      <th>3</th>\n",
       "      <td>12349</td>\n",
       "      <td>1757.55</td>\n",
       "      <td>73</td>\n",
       "    </tr>\n",
       "    <tr>\n",
       "      <th>4</th>\n",
       "      <td>12350</td>\n",
       "      <td>334.40</td>\n",
       "      <td>17</td>\n",
       "    </tr>\n",
       "    <tr>\n",
       "      <th>...</th>\n",
       "      <td>...</td>\n",
       "      <td>...</td>\n",
       "      <td>...</td>\n",
       "    </tr>\n",
       "    <tr>\n",
       "      <th>4367</th>\n",
       "      <td>18280</td>\n",
       "      <td>180.60</td>\n",
       "      <td>10</td>\n",
       "    </tr>\n",
       "    <tr>\n",
       "      <th>4368</th>\n",
       "      <td>18281</td>\n",
       "      <td>80.82</td>\n",
       "      <td>7</td>\n",
       "    </tr>\n",
       "    <tr>\n",
       "      <th>4369</th>\n",
       "      <td>18282</td>\n",
       "      <td>176.60</td>\n",
       "      <td>13</td>\n",
       "    </tr>\n",
       "    <tr>\n",
       "      <th>4370</th>\n",
       "      <td>18283</td>\n",
       "      <td>2045.53</td>\n",
       "      <td>721</td>\n",
       "    </tr>\n",
       "    <tr>\n",
       "      <th>4371</th>\n",
       "      <td>18287</td>\n",
       "      <td>1837.28</td>\n",
       "      <td>70</td>\n",
       "    </tr>\n",
       "  </tbody>\n",
       "</table>\n",
       "<p>4372 rows × 3 columns</p>\n",
       "</div>"
      ],
      "text/plain": [
       "     CustomerID      Amt  Frequency\n",
       "0         12346     0.00          2\n",
       "1         12347  4310.00        182\n",
       "2         12348  1797.24         31\n",
       "3         12349  1757.55         73\n",
       "4         12350   334.40         17\n",
       "...         ...      ...        ...\n",
       "4367      18280   180.60         10\n",
       "4368      18281    80.82          7\n",
       "4369      18282   176.60         13\n",
       "4370      18283  2045.53        721\n",
       "4371      18287  1837.28         70\n",
       "\n",
       "[4372 rows x 3 columns]"
      ]
     },
     "execution_count": 136,
     "metadata": {},
     "output_type": "execute_result"
    }
   ],
   "source": [
    "ecom_cust=pd.merge(customer_total_spent,frequency,on='CustomerID',how='inner')\n",
    "ecom_cust"
   ]
  },
  {
   "cell_type": "code",
   "execution_count": 137,
   "id": "1b3576a2",
   "metadata": {},
   "outputs": [
    {
     "data": {
      "text/html": [
       "<div>\n",
       "<style scoped>\n",
       "    .dataframe tbody tr th:only-of-type {\n",
       "        vertical-align: middle;\n",
       "    }\n",
       "\n",
       "    .dataframe tbody tr th {\n",
       "        vertical-align: top;\n",
       "    }\n",
       "\n",
       "    .dataframe thead th {\n",
       "        text-align: right;\n",
       "    }\n",
       "</style>\n",
       "<table border=\"1\" class=\"dataframe\">\n",
       "  <thead>\n",
       "    <tr style=\"text-align: right;\">\n",
       "      <th></th>\n",
       "      <th>Amt</th>\n",
       "      <th>Frequency</th>\n",
       "    </tr>\n",
       "  </thead>\n",
       "  <tbody>\n",
       "    <tr>\n",
       "      <th>count</th>\n",
       "      <td>4372.000000</td>\n",
       "      <td>4372.000000</td>\n",
       "    </tr>\n",
       "    <tr>\n",
       "      <th>mean</th>\n",
       "      <td>1893.531433</td>\n",
       "      <td>91.858188</td>\n",
       "    </tr>\n",
       "    <tr>\n",
       "      <th>std</th>\n",
       "      <td>8218.696204</td>\n",
       "      <td>229.223566</td>\n",
       "    </tr>\n",
       "    <tr>\n",
       "      <th>min</th>\n",
       "      <td>-4287.630000</td>\n",
       "      <td>1.000000</td>\n",
       "    </tr>\n",
       "    <tr>\n",
       "      <th>25%</th>\n",
       "      <td>291.795000</td>\n",
       "      <td>17.000000</td>\n",
       "    </tr>\n",
       "    <tr>\n",
       "      <th>50%</th>\n",
       "      <td>644.070000</td>\n",
       "      <td>41.000000</td>\n",
       "    </tr>\n",
       "    <tr>\n",
       "      <th>75%</th>\n",
       "      <td>1608.335000</td>\n",
       "      <td>99.250000</td>\n",
       "    </tr>\n",
       "    <tr>\n",
       "      <th>max</th>\n",
       "      <td>279489.020000</td>\n",
       "      <td>7812.000000</td>\n",
       "    </tr>\n",
       "  </tbody>\n",
       "</table>\n",
       "</div>"
      ],
      "text/plain": [
       "                 Amt    Frequency\n",
       "count    4372.000000  4372.000000\n",
       "mean     1893.531433    91.858188\n",
       "std      8218.696204   229.223566\n",
       "min     -4287.630000     1.000000\n",
       "25%       291.795000    17.000000\n",
       "50%       644.070000    41.000000\n",
       "75%      1608.335000    99.250000\n",
       "max    279489.020000  7812.000000"
      ]
     },
     "execution_count": 137,
     "metadata": {},
     "output_type": "execute_result"
    }
   ],
   "source": [
    "ecom_cust.describe()"
   ]
  },
  {
   "cell_type": "code",
   "execution_count": 148,
   "id": "bc3ba38d",
   "metadata": {},
   "outputs": [
    {
     "data": {
      "text/plain": [
       "<AxesSubplot:xlabel='Frequency', ylabel='Amt'>"
      ]
     },
     "execution_count": 148,
     "metadata": {},
     "output_type": "execute_result"
    },
    {
     "data": {
      "image/png": "[encoded data removed]",
      "text/plain": [
       "<Figure size 640x480 with 1 Axes>"
      ]
     },
     "metadata": {},
     "output_type": "display_data"
    }
   ],
   "source": [
    "sn.stripplot(x='Frequency',y='Amt',data=ecom_cust, size=3)"
   ]
  },
  {
   "cell_type": "code",
   "execution_count": 149,
   "id": "5eae2d84",
   "metadata": {},
   "outputs": [],
   "source": [
    "import scipy.stats as sp"
   ]
  },
  {
   "cell_type": "code",
   "execution_count": 154,
   "id": "0e32b429",
   "metadata": {},
   "outputs": [
    {
     "data": {
      "text/html": [
       "<div>\n",
       "<style scoped>\n",
       "    .dataframe tbody tr th:only-of-type {\n",
       "        vertical-align: middle;\n",
       "    }\n",
       "\n",
       "    .dataframe tbody tr th {\n",
       "        vertical-align: top;\n",
       "    }\n",
       "\n",
       "    .dataframe thead th {\n",
       "        text-align: right;\n",
       "    }\n",
       "</style>\n",
       "<table border=\"1\" class=\"dataframe\">\n",
       "  <thead>\n",
       "    <tr style=\"text-align: right;\">\n",
       "      <th></th>\n",
       "      <th>CustomerID</th>\n",
       "      <th>Amt</th>\n",
       "      <th>Frequency</th>\n",
       "      <th>Z-score</th>\n",
       "    </tr>\n",
       "  </thead>\n",
       "  <tbody>\n",
       "    <tr>\n",
       "      <th>0</th>\n",
       "      <td>12346</td>\n",
       "      <td>0.00</td>\n",
       "      <td>2</td>\n",
       "      <td>0.230393</td>\n",
       "    </tr>\n",
       "    <tr>\n",
       "      <th>1</th>\n",
       "      <td>12347</td>\n",
       "      <td>4310.00</td>\n",
       "      <td>182</td>\n",
       "      <td>0.294021</td>\n",
       "    </tr>\n",
       "    <tr>\n",
       "      <th>2</th>\n",
       "      <td>12348</td>\n",
       "      <td>1797.24</td>\n",
       "      <td>31</td>\n",
       "      <td>0.011716</td>\n",
       "    </tr>\n",
       "    <tr>\n",
       "      <th>3</th>\n",
       "      <td>12349</td>\n",
       "      <td>1757.55</td>\n",
       "      <td>73</td>\n",
       "      <td>0.016545</td>\n",
       "    </tr>\n",
       "    <tr>\n",
       "      <th>4</th>\n",
       "      <td>12350</td>\n",
       "      <td>334.40</td>\n",
       "      <td>17</td>\n",
       "      <td>0.189705</td>\n",
       "    </tr>\n",
       "  </tbody>\n",
       "</table>\n",
       "</div>"
      ],
      "text/plain": [
       "  CustomerID      Amt  Frequency   Z-score\n",
       "0      12346     0.00          2  0.230393\n",
       "1      12347  4310.00        182  0.294021\n",
       "2      12348  1797.24         31  0.011716\n",
       "3      12349  1757.55         73  0.016545\n",
       "4      12350   334.40         17  0.189705"
      ]
     },
     "execution_count": 154,
     "metadata": {},
     "output_type": "execute_result"
    }
   ],
   "source": [
    "ecom_cust['Z-score']=np.abs((ecom_cust['Amt']-ecom_cust['Amt'].mean())\n",
    "                            /ecom_cust['Amt'].std())\n",
    "ecom_cust_amount=ecom_cust[ecom_cust['Z-score']<3].copy()\n",
    "ecom_cust_amount.head()"
   ]
  },
  {
   "cell_type": "code",
   "execution_count": 155,
   "id": "c0b8885c",
   "metadata": {},
   "outputs": [
    {
     "data": {
      "text/html": [
       "<div>\n",
       "<style scoped>\n",
       "    .dataframe tbody tr th:only-of-type {\n",
       "        vertical-align: middle;\n",
       "    }\n",
       "\n",
       "    .dataframe tbody tr th {\n",
       "        vertical-align: top;\n",
       "    }\n",
       "\n",
       "    .dataframe thead th {\n",
       "        text-align: right;\n",
       "    }\n",
       "</style>\n",
       "<table border=\"1\" class=\"dataframe\">\n",
       "  <thead>\n",
       "    <tr style=\"text-align: right;\">\n",
       "      <th></th>\n",
       "      <th>CustomerID</th>\n",
       "      <th>Amt</th>\n",
       "      <th>Frequency</th>\n",
       "      <th>Z-score</th>\n",
       "      <th>Z-score_freq</th>\n",
       "    </tr>\n",
       "  </thead>\n",
       "  <tbody>\n",
       "    <tr>\n",
       "      <th>0</th>\n",
       "      <td>12346</td>\n",
       "      <td>0.00</td>\n",
       "      <td>2</td>\n",
       "      <td>0.230393</td>\n",
       "      <td>0.633490</td>\n",
       "    </tr>\n",
       "    <tr>\n",
       "      <th>1</th>\n",
       "      <td>12347</td>\n",
       "      <td>4310.00</td>\n",
       "      <td>182</td>\n",
       "      <td>0.294021</td>\n",
       "      <td>0.776556</td>\n",
       "    </tr>\n",
       "    <tr>\n",
       "      <th>2</th>\n",
       "      <td>12348</td>\n",
       "      <td>1797.24</td>\n",
       "      <td>31</td>\n",
       "      <td>0.011716</td>\n",
       "      <td>0.406316</td>\n",
       "    </tr>\n",
       "    <tr>\n",
       "      <th>3</th>\n",
       "      <td>12349</td>\n",
       "      <td>1757.55</td>\n",
       "      <td>73</td>\n",
       "      <td>0.016545</td>\n",
       "      <td>0.077305</td>\n",
       "    </tr>\n",
       "    <tr>\n",
       "      <th>4</th>\n",
       "      <td>12350</td>\n",
       "      <td>334.40</td>\n",
       "      <td>17</td>\n",
       "      <td>0.189705</td>\n",
       "      <td>0.515986</td>\n",
       "    </tr>\n",
       "  </tbody>\n",
       "</table>\n",
       "</div>"
      ],
      "text/plain": [
       "  CustomerID      Amt  Frequency   Z-score  Z-score_freq\n",
       "0      12346     0.00          2  0.230393      0.633490\n",
       "1      12347  4310.00        182  0.294021      0.776556\n",
       "2      12348  1797.24         31  0.011716      0.406316\n",
       "3      12349  1757.55         73  0.016545      0.077305\n",
       "4      12350   334.40         17  0.189705      0.515986"
      ]
     },
     "execution_count": 155,
     "metadata": {},
     "output_type": "execute_result"
    }
   ],
   "source": [
    "ecom_cust_amount['Z-score_freq']=np.abs((ecom_cust_amount['Frequency']-\n",
    "                                         ecom_cust_amount['Frequency'].mean())\n",
    "                            /ecom_cust_amount['Frequency'].std())\n",
    "ecom_cust_freq=ecom_cust_amount[ecom_cust_amount['Z-score_freq']<3]\n",
    "ecom_cust_freq.head()"
   ]
  },
  {
   "cell_type": "code",
   "execution_count": 157,
   "id": "b758e380",
   "metadata": {},
   "outputs": [
    {
     "data": {
      "text/html": [
       "<div>\n",
       "<style scoped>\n",
       "    .dataframe tbody tr th:only-of-type {\n",
       "        vertical-align: middle;\n",
       "    }\n",
       "\n",
       "    .dataframe tbody tr th {\n",
       "        vertical-align: top;\n",
       "    }\n",
       "\n",
       "    .dataframe thead th {\n",
       "        text-align: right;\n",
       "    }\n",
       "</style>\n",
       "<table border=\"1\" class=\"dataframe\">\n",
       "  <thead>\n",
       "    <tr style=\"text-align: right;\">\n",
       "      <th></th>\n",
       "      <th>CustomerID</th>\n",
       "      <th>Amt</th>\n",
       "      <th>Frequency</th>\n",
       "      <th>Z-score</th>\n",
       "      <th>Z-score_freq</th>\n",
       "    </tr>\n",
       "  </thead>\n",
       "  <tbody>\n",
       "    <tr>\n",
       "      <th>0</th>\n",
       "      <td>12346</td>\n",
       "      <td>0.00</td>\n",
       "      <td>2</td>\n",
       "      <td>0.230393</td>\n",
       "      <td>0.633490</td>\n",
       "    </tr>\n",
       "    <tr>\n",
       "      <th>1</th>\n",
       "      <td>12347</td>\n",
       "      <td>4310.00</td>\n",
       "      <td>182</td>\n",
       "      <td>0.294021</td>\n",
       "      <td>0.776556</td>\n",
       "    </tr>\n",
       "    <tr>\n",
       "      <th>2</th>\n",
       "      <td>12348</td>\n",
       "      <td>1797.24</td>\n",
       "      <td>31</td>\n",
       "      <td>0.011716</td>\n",
       "      <td>0.406316</td>\n",
       "    </tr>\n",
       "    <tr>\n",
       "      <th>3</th>\n",
       "      <td>12349</td>\n",
       "      <td>1757.55</td>\n",
       "      <td>73</td>\n",
       "      <td>0.016545</td>\n",
       "      <td>0.077305</td>\n",
       "    </tr>\n",
       "    <tr>\n",
       "      <th>4</th>\n",
       "      <td>12350</td>\n",
       "      <td>334.40</td>\n",
       "      <td>17</td>\n",
       "      <td>0.189705</td>\n",
       "      <td>0.515986</td>\n",
       "    </tr>\n",
       "  </tbody>\n",
       "</table>\n",
       "</div>"
      ],
      "text/plain": [
       "  CustomerID      Amt  Frequency   Z-score  Z-score_freq\n",
       "0      12346     0.00          2  0.230393      0.633490\n",
       "1      12347  4310.00        182  0.294021      0.776556\n",
       "2      12348  1797.24         31  0.011716      0.406316\n",
       "3      12349  1757.55         73  0.016545      0.077305\n",
       "4      12350   334.40         17  0.189705      0.515986"
      ]
     },
     "execution_count": 157,
     "metadata": {},
     "output_type": "execute_result"
    }
   ],
   "source": [
    "train_data=ecom_cust_freq.copy()\n",
    "train_data.head()"
   ]
  },
  {
   "cell_type": "code",
   "execution_count": 158,
   "id": "6332625e",
   "metadata": {},
   "outputs": [
    {
     "data": {
      "text/html": [
       "<div>\n",
       "<style scoped>\n",
       "    .dataframe tbody tr th:only-of-type {\n",
       "        vertical-align: middle;\n",
       "    }\n",
       "\n",
       "    .dataframe tbody tr th {\n",
       "        vertical-align: top;\n",
       "    }\n",
       "\n",
       "    .dataframe thead th {\n",
       "        text-align: right;\n",
       "    }\n",
       "</style>\n",
       "<table border=\"1\" class=\"dataframe\">\n",
       "  <thead>\n",
       "    <tr style=\"text-align: right;\">\n",
       "      <th></th>\n",
       "      <th>CustomerID</th>\n",
       "      <th>Amt</th>\n",
       "      <th>Frequency</th>\n",
       "    </tr>\n",
       "  </thead>\n",
       "  <tbody>\n",
       "    <tr>\n",
       "      <th>0</th>\n",
       "      <td>12346</td>\n",
       "      <td>0.00</td>\n",
       "      <td>2</td>\n",
       "    </tr>\n",
       "    <tr>\n",
       "      <th>1</th>\n",
       "      <td>12347</td>\n",
       "      <td>4310.00</td>\n",
       "      <td>182</td>\n",
       "    </tr>\n",
       "    <tr>\n",
       "      <th>2</th>\n",
       "      <td>12348</td>\n",
       "      <td>1797.24</td>\n",
       "      <td>31</td>\n",
       "    </tr>\n",
       "    <tr>\n",
       "      <th>3</th>\n",
       "      <td>12349</td>\n",
       "      <td>1757.55</td>\n",
       "      <td>73</td>\n",
       "    </tr>\n",
       "    <tr>\n",
       "      <th>4</th>\n",
       "      <td>12350</td>\n",
       "      <td>334.40</td>\n",
       "      <td>17</td>\n",
       "    </tr>\n",
       "  </tbody>\n",
       "</table>\n",
       "</div>"
      ],
      "text/plain": [
       "  CustomerID      Amt  Frequency\n",
       "0      12346     0.00          2\n",
       "1      12347  4310.00        182\n",
       "2      12348  1797.24         31\n",
       "3      12349  1757.55         73\n",
       "4      12350   334.40         17"
      ]
     },
     "execution_count": 158,
     "metadata": {},
     "output_type": "execute_result"
    }
   ],
   "source": [
    "train_data.drop(['Z-score','Z-score_freq'],axis=1,inplace=True)\n",
    "train_data.head()"
   ]
  },
  {
   "cell_type": "code",
   "execution_count": 159,
   "id": "f741c42c",
   "metadata": {},
   "outputs": [
    {
     "data": {
      "text/plain": [
       "<AxesSubplot:xlabel='Frequency', ylabel='Amt'>"
      ]
     },
     "execution_count": 159,
     "metadata": {},
     "output_type": "execute_result"
    },
    {
     "data": {
      "image/png": "[encoded data removed]",
      "text/plain": [
       "<Figure size 640x480 with 1 Axes>"
      ]
     },
     "metadata": {},
     "output_type": "display_data"
    }
   ],
   "source": [
    "sn.stripplot(x='Frequency',y='Amt',data=train_data, size=3)"
   ]
  },
  {
   "cell_type": "code",
   "execution_count": 160,
   "id": "86f9b30b",
   "metadata": {},
   "outputs": [
    {
     "data": {
      "text/html": [
       "<div>\n",
       "<style scoped>\n",
       "    .dataframe tbody tr th:only-of-type {\n",
       "        vertical-align: middle;\n",
       "    }\n",
       "\n",
       "    .dataframe tbody tr th {\n",
       "        vertical-align: top;\n",
       "    }\n",
       "\n",
       "    .dataframe thead th {\n",
       "        text-align: right;\n",
       "    }\n",
       "</style>\n",
       "<table border=\"1\" class=\"dataframe\">\n",
       "  <thead>\n",
       "    <tr style=\"text-align: right;\">\n",
       "      <th></th>\n",
       "      <th>Amt</th>\n",
       "      <th>Frequency</th>\n",
       "    </tr>\n",
       "  </thead>\n",
       "  <tbody>\n",
       "    <tr>\n",
       "      <th>0</th>\n",
       "      <td>0.00</td>\n",
       "      <td>2</td>\n",
       "    </tr>\n",
       "    <tr>\n",
       "      <th>1</th>\n",
       "      <td>4310.00</td>\n",
       "      <td>182</td>\n",
       "    </tr>\n",
       "    <tr>\n",
       "      <th>2</th>\n",
       "      <td>1797.24</td>\n",
       "      <td>31</td>\n",
       "    </tr>\n",
       "    <tr>\n",
       "      <th>3</th>\n",
       "      <td>1757.55</td>\n",
       "      <td>73</td>\n",
       "    </tr>\n",
       "    <tr>\n",
       "      <th>4</th>\n",
       "      <td>334.40</td>\n",
       "      <td>17</td>\n",
       "    </tr>\n",
       "    <tr>\n",
       "      <th>...</th>\n",
       "      <td>...</td>\n",
       "      <td>...</td>\n",
       "    </tr>\n",
       "    <tr>\n",
       "      <th>4366</th>\n",
       "      <td>173.90</td>\n",
       "      <td>9</td>\n",
       "    </tr>\n",
       "    <tr>\n",
       "      <th>4367</th>\n",
       "      <td>180.60</td>\n",
       "      <td>10</td>\n",
       "    </tr>\n",
       "    <tr>\n",
       "      <th>4368</th>\n",
       "      <td>80.82</td>\n",
       "      <td>7</td>\n",
       "    </tr>\n",
       "    <tr>\n",
       "      <th>4369</th>\n",
       "      <td>176.60</td>\n",
       "      <td>13</td>\n",
       "    </tr>\n",
       "    <tr>\n",
       "      <th>4371</th>\n",
       "      <td>1837.28</td>\n",
       "      <td>70</td>\n",
       "    </tr>\n",
       "  </tbody>\n",
       "</table>\n",
       "<p>4259 rows × 2 columns</p>\n",
       "</div>"
      ],
      "text/plain": [
       "          Amt  Frequency\n",
       "0        0.00          2\n",
       "1     4310.00        182\n",
       "2     1797.24         31\n",
       "3     1757.55         73\n",
       "4      334.40         17\n",
       "...       ...        ...\n",
       "4366   173.90          9\n",
       "4367   180.60         10\n",
       "4368    80.82          7\n",
       "4369   176.60         13\n",
       "4371  1837.28         70\n",
       "\n",
       "[4259 rows x 2 columns]"
      ]
     },
     "execution_count": 160,
     "metadata": {},
     "output_type": "execute_result"
    }
   ],
   "source": [
    "train_data.drop('CustomerID',axis=1,inplace=True)\n",
    "train_data"
   ]
  },
  {
   "cell_type": "code",
   "execution_count": 161,
   "id": "b24e08c0",
   "metadata": {},
   "outputs": [],
   "source": [
    "from sklearn.preprocessing import StandardScaler"
   ]
  },
  {
   "cell_type": "code",
   "execution_count": 163,
   "id": "da621b9c",
   "metadata": {},
   "outputs": [
    {
     "data": {
      "text/plain": [
       "array([[-0.64864768, -0.83188612],\n",
       "       [ 1.534251  ,  1.33747648],\n",
       "       [ 0.26160587, -0.4823777 ],\n",
       "       ...,\n",
       "       [-0.60771453, -0.77162605],\n",
       "       [-0.55920455, -0.69931396],\n",
       "       [ 0.28188505, -0.01234914]])"
      ]
     },
     "execution_count": 163,
     "metadata": {},
     "output_type": "execute_result"
    }
   ],
   "source": [
    "std = StandardScaler()\n",
    "std.fit_transform(train_data)\n",
    "scaled_data = std.transform(train_data)\n",
    "scaled_data"
   ]
  },
  {
   "cell_type": "code",
   "execution_count": 165,
   "id": "89acc22a",
   "metadata": {},
   "outputs": [
    {
     "data": {
      "text/html": [
       "<div>\n",
       "<style scoped>\n",
       "    .dataframe tbody tr th:only-of-type {\n",
       "        vertical-align: middle;\n",
       "    }\n",
       "\n",
       "    .dataframe tbody tr th {\n",
       "        vertical-align: top;\n",
       "    }\n",
       "\n",
       "    .dataframe thead th {\n",
       "        text-align: right;\n",
       "    }\n",
       "</style>\n",
       "<table border=\"1\" class=\"dataframe\">\n",
       "  <thead>\n",
       "    <tr style=\"text-align: right;\">\n",
       "      <th></th>\n",
       "      <th>Amt</th>\n",
       "      <th>Frequency</th>\n",
       "    </tr>\n",
       "  </thead>\n",
       "  <tbody>\n",
       "    <tr>\n",
       "      <th>0</th>\n",
       "      <td>-0.648648</td>\n",
       "      <td>-0.831886</td>\n",
       "    </tr>\n",
       "    <tr>\n",
       "      <th>1</th>\n",
       "      <td>1.534251</td>\n",
       "      <td>1.337476</td>\n",
       "    </tr>\n",
       "    <tr>\n",
       "      <th>2</th>\n",
       "      <td>0.261606</td>\n",
       "      <td>-0.482378</td>\n",
       "    </tr>\n",
       "    <tr>\n",
       "      <th>3</th>\n",
       "      <td>0.241504</td>\n",
       "      <td>0.023807</td>\n",
       "    </tr>\n",
       "    <tr>\n",
       "      <th>4</th>\n",
       "      <td>-0.479283</td>\n",
       "      <td>-0.651106</td>\n",
       "    </tr>\n",
       "  </tbody>\n",
       "</table>\n",
       "</div>"
      ],
      "text/plain": [
       "        Amt  Frequency\n",
       "0 -0.648648  -0.831886\n",
       "1  1.534251   1.337476\n",
       "2  0.261606  -0.482378\n",
       "3  0.241504   0.023807\n",
       "4 -0.479283  -0.651106"
      ]
     },
     "execution_count": 165,
     "metadata": {},
     "output_type": "execute_result"
    }
   ],
   "source": [
    "scaled_data_df = pd.DataFrame(scaled_data, columns = train_data.columns)\n",
    "scaled_data_df.head()"
   ]
  },
  {
   "cell_type": "code",
   "execution_count": 170,
   "id": "1a034b3c",
   "metadata": {},
   "outputs": [
    {
     "data": {
      "text/plain": [
       "(4259, 2)"
      ]
     },
     "execution_count": 170,
     "metadata": {},
     "output_type": "execute_result"
    }
   ],
   "source": [
    "scaled_data_df.shape"
   ]
  },
  {
   "cell_type": "code",
   "execution_count": 171,
   "id": "52104f5d",
   "metadata": {},
   "outputs": [],
   "source": [
    "scaled_data_df.dropna(inplace=True)"
   ]
  },
  {
   "cell_type": "code",
   "execution_count": 172,
   "id": "cb5371d7",
   "metadata": {},
   "outputs": [
    {
     "data": {
      "text/plain": [
       "(4259, 2)"
      ]
     },
     "execution_count": 172,
     "metadata": {},
     "output_type": "execute_result"
    }
   ],
   "source": [
    "scaled_data_df.shape"
   ]
  },
  {
   "cell_type": "code",
   "execution_count": 173,
   "id": "27400b5a",
   "metadata": {},
   "outputs": [],
   "source": [
    "from sklearn.decomposition import PCA"
   ]
  },
  {
   "cell_type": "code",
   "execution_count": 174,
   "id": "b1d24d8d",
   "metadata": {},
   "outputs": [
    {
     "data": {
      "text/plain": [
       "array([[-1.04689549,  0.12956915],\n",
       "       [ 2.03061797,  0.1391406 ],\n",
       "       [-0.15610926,  0.52607583],\n",
       "       ...,\n",
       "       [-0.97534108,  0.11590295],\n",
       "       [-0.88990697,  0.09907232],\n",
       "       [ 0.19059067,  0.20805499]])"
      ]
     },
     "execution_count": 174,
     "metadata": {},
     "output_type": "execute_result"
    }
   ],
   "source": [
    "pca = PCA(n_components = 2)\n",
    "pca.fit_transform(scaled_data_df)\n",
    "pca_data = pca.transform(scaled_data_df)\n",
    "pca_data"
   ]
  },
  {
   "cell_type": "code",
   "execution_count": 175,
   "id": "98275dd4",
   "metadata": {},
   "outputs": [
    {
     "data": {
      "text/html": [
       "<div>\n",
       "<style scoped>\n",
       "    .dataframe tbody tr th:only-of-type {\n",
       "        vertical-align: middle;\n",
       "    }\n",
       "\n",
       "    .dataframe tbody tr th {\n",
       "        vertical-align: top;\n",
       "    }\n",
       "\n",
       "    .dataframe thead th {\n",
       "        text-align: right;\n",
       "    }\n",
       "</style>\n",
       "<table border=\"1\" class=\"dataframe\">\n",
       "  <thead>\n",
       "    <tr style=\"text-align: right;\">\n",
       "      <th></th>\n",
       "      <th>Amt</th>\n",
       "      <th>Frequency</th>\n",
       "    </tr>\n",
       "  </thead>\n",
       "  <tbody>\n",
       "    <tr>\n",
       "      <th>0</th>\n",
       "      <td>-1.046895</td>\n",
       "      <td>0.129569</td>\n",
       "    </tr>\n",
       "    <tr>\n",
       "      <th>1</th>\n",
       "      <td>2.030618</td>\n",
       "      <td>0.139141</td>\n",
       "    </tr>\n",
       "    <tr>\n",
       "      <th>2</th>\n",
       "      <td>-0.156109</td>\n",
       "      <td>0.526076</td>\n",
       "    </tr>\n",
       "    <tr>\n",
       "      <th>3</th>\n",
       "      <td>0.187603</td>\n",
       "      <td>0.153935</td>\n",
       "    </tr>\n",
       "    <tr>\n",
       "      <th>4</th>\n",
       "      <td>-0.799306</td>\n",
       "      <td>0.121497</td>\n",
       "    </tr>\n",
       "  </tbody>\n",
       "</table>\n",
       "</div>"
      ],
      "text/plain": [
       "        Amt  Frequency\n",
       "0 -1.046895   0.129569\n",
       "1  2.030618   0.139141\n",
       "2 -0.156109   0.526076\n",
       "3  0.187603   0.153935\n",
       "4 -0.799306   0.121497"
      ]
     },
     "execution_count": 175,
     "metadata": {},
     "output_type": "execute_result"
    }
   ],
   "source": [
    "pca_data_df = pd.DataFrame(pca_data, columns = scaled_data_df.columns)\n",
    "pca_data_df.head()"
   ]
  },
  {
   "cell_type": "code",
   "execution_count": 177,
   "id": "1a3799b2",
   "metadata": {},
   "outputs": [
    {
     "data": {
      "text/html": [
       "<div>\n",
       "<style scoped>\n",
       "    .dataframe tbody tr th:only-of-type {\n",
       "        vertical-align: middle;\n",
       "    }\n",
       "\n",
       "    .dataframe tbody tr th {\n",
       "        vertical-align: top;\n",
       "    }\n",
       "\n",
       "    .dataframe thead th {\n",
       "        text-align: right;\n",
       "    }\n",
       "</style>\n",
       "<table border=\"1\" class=\"dataframe\">\n",
       "  <thead>\n",
       "    <tr style=\"text-align: right;\">\n",
       "      <th></th>\n",
       "      <th>count</th>\n",
       "      <th>mean</th>\n",
       "      <th>std</th>\n",
       "      <th>min</th>\n",
       "      <th>25%</th>\n",
       "      <th>50%</th>\n",
       "      <th>75%</th>\n",
       "      <th>max</th>\n",
       "    </tr>\n",
       "  </thead>\n",
       "  <tbody>\n",
       "    <tr>\n",
       "      <th>Amt</th>\n",
       "      <td>4259.0</td>\n",
       "      <td>6.913804e-17</td>\n",
       "      <td>1.272337</td>\n",
       "      <td>-2.590949</td>\n",
       "      <td>-0.791374</td>\n",
       "      <td>-0.472912</td>\n",
       "      <td>0.302031</td>\n",
       "      <td>10.023661</td>\n",
       "    </tr>\n",
       "    <tr>\n",
       "      <th>Frequency</th>\n",
       "      <td>4259.0</td>\n",
       "      <td>-4.219056e-17</td>\n",
       "      <td>0.617760</td>\n",
       "      <td>-3.111001</td>\n",
       "      <td>-0.121737</td>\n",
       "      <td>0.072027</td>\n",
       "      <td>0.144585</td>\n",
       "      <td>7.731445</td>\n",
       "    </tr>\n",
       "  </tbody>\n",
       "</table>\n",
       "</div>"
      ],
      "text/plain": [
       "            count          mean       std       min       25%       50%  \\\n",
       "Amt        4259.0  6.913804e-17  1.272337 -2.590949 -0.791374 -0.472912   \n",
       "Frequency  4259.0 -4.219056e-17  0.617760 -3.111001 -0.121737  0.072027   \n",
       "\n",
       "                75%        max  \n",
       "Amt        0.302031  10.023661  \n",
       "Frequency  0.144585   7.731445  "
      ]
     },
     "execution_count": 177,
     "metadata": {},
     "output_type": "execute_result"
    }
   ],
   "source": [
    "pca_data_df.describe().T"
   ]
  },
  {
   "cell_type": "code",
   "execution_count": 178,
   "id": "5abe26f5",
   "metadata": {},
   "outputs": [
    {
     "data": {
      "text/plain": [
       "array([0.80923112, 0.19076888])"
      ]
     },
     "execution_count": 178,
     "metadata": {},
     "output_type": "execute_result"
    }
   ],
   "source": [
    "pca.explained_variance_ratio_"
   ]
  },
  {
   "cell_type": "code",
   "execution_count": 179,
   "id": "69dad301",
   "metadata": {},
   "outputs": [
    {
     "data": {
      "text/plain": [
       "array([0.80923112, 1.        ])"
      ]
     },
     "execution_count": 179,
     "metadata": {},
     "output_type": "execute_result"
    }
   ],
   "source": [
    "pca.explained_variance_ratio_.cumsum()"
   ]
  },
  {
   "cell_type": "code",
   "execution_count": 180,
   "id": "cc2a328f",
   "metadata": {},
   "outputs": [
    {
     "data": {
      "text/plain": [
       "(2,)"
      ]
     },
     "execution_count": 180,
     "metadata": {},
     "output_type": "execute_result"
    }
   ],
   "source": [
    "pca.components_[0].shape"
   ]
  },
  {
   "cell_type": "code",
   "execution_count": 182,
   "id": "b50a97c9",
   "metadata": {},
   "outputs": [],
   "source": [
    "from yellowbrick.cluster import KElbowVisualizer\n",
    "from sklearn.cluster import KMeans"
   ]
  },
  {
   "cell_type": "code",
   "execution_count": 183,
   "id": "d276eab8",
   "metadata": {},
   "outputs": [
    {
     "data": {
      "image/png": "[encoded data removed]",
      "text/plain": [
       "<Figure size 800x550 with 2 Axes>"
      ]
     },
     "metadata": {},
     "output_type": "display_data"
    },
    {
     "data": {
      "text/plain": [
       "<AxesSubplot:title={'center':'Distortion Score Elbow for KMeans Clustering'}, xlabel='k', ylabel='distortion score'>"
      ]
     },
     "execution_count": 183,
     "metadata": {},
     "output_type": "execute_result"
    }
   ],
   "source": [
    "elbow_m = KElbowVisualizer(KMeans(),k=10)\n",
    "elbow_m.fit(pca_data_df)\n",
    "elbow_m.show()"
   ]
  },
  {
   "cell_type": "code",
   "execution_count": 184,
   "id": "0c171940",
   "metadata": {},
   "outputs": [
    {
     "data": {
      "text/plain": [
       "AgglomerativeClustering(n_clusters=4)"
      ]
     },
     "execution_count": 184,
     "metadata": {},
     "output_type": "execute_result"
    }
   ],
   "source": [
    "from sklearn.cluster import AgglomerativeClustering\n",
    "ag = AgglomerativeClustering(n_clusters=4)\n",
    "ag.fit(pca_data_df)"
   ]
  },
  {
   "cell_type": "code",
   "execution_count": 186,
   "id": "c2430d65",
   "metadata": {},
   "outputs": [
    {
     "data": {
      "text/plain": [
       "array([3, 0, 3, ..., 3, 3, 1], dtype=int64)"
      ]
     },
     "execution_count": 186,
     "metadata": {},
     "output_type": "execute_result"
    }
   ],
   "source": [
    "labels=ag.labels_\n",
    "labels"
   ]
  },
  {
   "cell_type": "code",
   "execution_count": 193,
   "id": "f85c4a58",
   "metadata": {},
   "outputs": [
    {
     "name": "stdout",
     "output_type": "stream",
     "text": [
      "0.5225590940417593\n"
     ]
    }
   ],
   "source": [
    "from sklearn.metrics import silhouette_samples,silhouette_score\n",
    "print(silhouette_score(pca_data_df,labels,metric='euclidean'))\n",
    "silhouette_avg = silhouette_score(pca_data,labels)"
   ]
  },
  {
   "cell_type": "code",
   "execution_count": 194,
   "id": "2e1df29e",
   "metadata": {},
   "outputs": [
    {
     "data": {
      "text/plain": [
       "4170.839407901938"
      ]
     },
     "execution_count": 194,
     "metadata": {},
     "output_type": "execute_result"
    }
   ],
   "source": [
    "from sklearn.metrics import calinski_harabasz_score\n",
    "calinski_harabasz_score(pca_data_df,labels)"
   ]
  },
  {
   "cell_type": "code",
   "execution_count": 195,
   "id": "4f0778f4",
   "metadata": {},
   "outputs": [
    {
     "data": {
      "text/plain": [
       "0.8829740390689182"
      ]
     },
     "execution_count": 195,
     "metadata": {},
     "output_type": "execute_result"
    }
   ],
   "source": [
    "from sklearn.metrics import davies_bouldin_score\n",
    "davies_bouldin_score(pca_data_df,labels)"
   ]
  },
  {
   "cell_type": "code",
   "execution_count": 196,
   "id": "82447915",
   "metadata": {},
   "outputs": [],
   "source": [
    "from scipy.cluster.hierarchy import dendrogram, linkage"
   ]
  },
  {
   "cell_type": "code",
   "execution_count": 197,
   "id": "50f517cb",
   "metadata": {},
   "outputs": [
    {
     "data": {
      "image/png": "[encoded data removed]",
      "text/plain": [
       "<Figure size 800x550 with 1 Axes>"
      ]
     },
     "metadata": {},
     "output_type": "display_data"
    }
   ],
   "source": [
    "linked = linkage(pca_data_df,'ward')\n",
    "dendrogram(linked)\n",
    "plt.title('Dendrogram')\n",
    "plt.show()"
   ]
  },
  {
   "cell_type": "code",
   "execution_count": 198,
   "id": "2ee1f68b",
   "metadata": {},
   "outputs": [
    {
     "data": {
      "image/png": "[encoded data removed]",
      "text/plain": [
       "<Figure size 800x550 with 1 Axes>"
      ]
     },
     "metadata": {},
     "output_type": "display_data"
    }
   ],
   "source": [
    "sample_silhouette_values = silhouette_samples(pca_data_df,labels)\n",
    "y_lower=10\n",
    "for i in range(4):\n",
    "    ith_cluster_silhouette_values = sample_silhouette_values[labels == i]\n",
    "    ith_cluster_silhouette_values.sort()\n",
    "    size_cluster_i = ith_cluster_silhouette_values.shape[0]\n",
    "    y_upper = y_lower + size_cluster_i\n",
    "    plt.fill_betweenx(np.arange(y_lower, y_upper),\n",
    "                      0, ith_cluster_silhouette_values)\n",
    "    plt.text(-0.05, y_lower + 0.5 * size_cluster_i, str(i))\n",
    "    y_lower = y_upper + 10\n",
    "plt.axvline(x=silhouette_avg,color=\"red\",linestyle=\"--\")\n",
    "plt.title('Silhouette Plot')\n",
    "plt.show()"
   ]
  },
  {
   "cell_type": "code",
   "execution_count": 199,
   "id": "dee57e6b",
   "metadata": {},
   "outputs": [
    {
     "data": {
      "image/png": "[encoded data removed]",
      "text/plain": [
       "<Figure size 800x550 with 1 Axes>"
      ]
     },
     "metadata": {},
     "output_type": "display_data"
    }
   ],
   "source": [
    "from pandas.plotting import parallel_coordinates\n",
    "data = pd.DataFrame(pca_data_df)\n",
    "data['cluster'] = labels\n",
    "parallel_coordinates(data,'cluster')\n",
    "plt.title('Parallel Coordinates Plot')\n",
    "plt.show()"
   ]
  },
  {
   "cell_type": "code",
   "execution_count": 201,
   "id": "4c74089c",
   "metadata": {},
   "outputs": [
    {
     "data": {
      "image/png": "[encoded data removed]",
      "text/plain": [
       "<Figure size 800x550 with 1 Axes>"
      ]
     },
     "metadata": {},
     "output_type": "display_data"
    }
   ],
   "source": [
    "plt.figure()\n",
    "pl=sn.boxenplot(x=data[\"cluster\"],y=train_data[\"Amt\"])\n",
    "pl.set_title(\"Number of Amount spend\")\n",
    "plt.show()"
   ]
  },
  {
   "cell_type": "code",
   "execution_count": null,
   "id": "dca4e0bc",
   "metadata": {},
   "outputs": [],
   "source": []
  }
 ],
 "metadata": {
  "kernelspec": {
   "display_name": "Python 3 (ipykernel)",
   "language": "python",
   "name": "python3"
  },
  "language_info": {
   "codemirror_mode": {
    "name": "ipython",
    "version": 3
   },
   "file_extension": ".py",
   "mimetype": "text/x-python",
   "name": "python",
   "nbconvert_exporter": "python",
   "pygments_lexer": "ipython3",
   "version": "3.9.13"
  }
 },
 "nbformat": 4,
 "nbformat_minor": 5
}
